{
 "cells": [
  {
   "cell_type": "markdown",
   "id": "f769153d",
   "metadata": {
    "_cell_guid": "b1076dfc-b9ad-4769-8c92-a6c4dae69d19",
    "_uuid": "8f2839f25d086af736a60e9eeb907d3b93b6e0e5",
    "execution": {
     "iopub.execute_input": "2023-12-12T10:09:04.792116Z",
     "iopub.status.busy": "2023-12-12T10:09:04.791683Z",
     "iopub.status.idle": "2023-12-12T10:09:05.229107Z",
     "shell.execute_reply": "2023-12-12T10:09:05.227734Z",
     "shell.execute_reply.started": "2023-12-12T10:09:04.792080Z"
    },
    "papermill": {
     "duration": 0.011967,
     "end_time": "2023-12-19T14:25:08.613429",
     "exception": false,
     "start_time": "2023-12-19T14:25:08.601462",
     "status": "completed"
    },
    "tags": []
   },
   "source": [
    "# **Titanic Survival Tutorial**\n",
    "The Titanic disaster was one of the most infamous maritime tragedies in history, which is still known even more than 100 years after its demise. The RMS Titanic was a British passenger liner that sank on its maiden voyage from Southampton to New York City in April 1912.\n",
    "\n",
    "The challenge is to see whether we can predict the people who are not going to survive the disaster based on some features that are provided."
   ]
  },
  {
   "cell_type": "markdown",
   "id": "6450fe72",
   "metadata": {
    "papermill": {
     "duration": 0.011421,
     "end_time": "2023-12-19T14:25:08.636565",
     "exception": false,
     "start_time": "2023-12-19T14:25:08.625144",
     "status": "completed"
    },
    "tags": []
   },
   "source": [
    "### <u><i>Loading Helpful Packages</i></u>:\n",
    "<p> <span style=\"background-color: #E8E8E8\"><strong>\"numpy\"</strong></span> for linear algebra.</p>\n",
    "<p> <span style=\"background-color: #E8E8E8\"><strong>\"pandas\"</strong></span> for data processing, Comma Separated Values (CSV) file input and output.</p>\n",
    "<p><span style=\"background-color: #E8E8E8\"><strong>\"matplotlib.pyplot\"</strong></span> and <span style=\"background-color: #E8E8E8\"><strong>\"seaborn\"</strong></span> for statistical graphics and visualization.</p>"
   ]
  },
  {
   "cell_type": "code",
   "execution_count": 1,
   "id": "b01398d2",
   "metadata": {
    "execution": {
     "iopub.execute_input": "2023-12-19T14:25:08.663645Z",
     "iopub.status.busy": "2023-12-19T14:25:08.662890Z",
     "iopub.status.idle": "2023-12-19T14:25:10.981485Z",
     "shell.execute_reply": "2023-12-19T14:25:10.980305Z"
    },
    "papermill": {
     "duration": 2.33535,
     "end_time": "2023-12-19T14:25:10.984154",
     "exception": false,
     "start_time": "2023-12-19T14:25:08.648804",
     "status": "completed"
    },
    "tags": []
   },
   "outputs": [],
   "source": [
    "import numpy as np\n",
    "import pandas as pd\n",
    "\n",
    "import seaborn as sns\n",
    "import matplotlib.pyplot as plt"
   ]
  },
  {
   "cell_type": "markdown",
   "id": "16e9cd8c",
   "metadata": {
    "papermill": {
     "duration": 0.011929,
     "end_time": "2023-12-19T14:25:11.008555",
     "exception": false,
     "start_time": "2023-12-19T14:25:10.996626",
     "status": "completed"
    },
    "tags": []
   },
   "source": [
    "### <u><i>Importing the Datasets</i></u>:"
   ]
  },
  {
   "cell_type": "code",
   "execution_count": 2,
   "id": "6c2729e8",
   "metadata": {
    "execution": {
     "iopub.execute_input": "2023-12-19T14:25:11.035666Z",
     "iopub.status.busy": "2023-12-19T14:25:11.035126Z",
     "iopub.status.idle": "2023-12-19T14:25:11.043072Z",
     "shell.execute_reply": "2023-12-19T14:25:11.041844Z"
    },
    "papermill": {
     "duration": 0.024041,
     "end_time": "2023-12-19T14:25:11.045673",
     "exception": false,
     "start_time": "2023-12-19T14:25:11.021632",
     "status": "completed"
    },
    "tags": []
   },
   "outputs": [
    {
     "name": "stdout",
     "output_type": "stream",
     "text": [
      "/kaggle/input/titanic/train.csv\n",
      "/kaggle/input/titanic/test.csv\n",
      "/kaggle/input/titanic/gender_submission.csv\n"
     ]
    }
   ],
   "source": [
    "import os\n",
    "for dirname, _, filenames in os.walk('/kaggle/input'):\n",
    "    for filename in filenames:\n",
    "        print(os.path.join(dirname, filename))"
   ]
  },
  {
   "cell_type": "markdown",
   "id": "58ab6519",
   "metadata": {
    "papermill": {
     "duration": 0.013555,
     "end_time": "2023-12-19T14:25:11.072992",
     "exception": false,
     "start_time": "2023-12-19T14:25:11.059437",
     "status": "completed"
    },
    "tags": []
   },
   "source": [
    "#### <u><i>The Train Data</i></u>:\n",
    "<p>These are the data on which we will train our models.</p>"
   ]
  },
  {
   "cell_type": "code",
   "execution_count": 3,
   "id": "327ebac0",
   "metadata": {
    "execution": {
     "iopub.execute_input": "2023-12-19T14:25:11.101269Z",
     "iopub.status.busy": "2023-12-19T14:25:11.100108Z",
     "iopub.status.idle": "2023-12-19T14:25:11.155544Z",
     "shell.execute_reply": "2023-12-19T14:25:11.154206Z"
    },
    "papermill": {
     "duration": 0.072076,
     "end_time": "2023-12-19T14:25:11.157994",
     "exception": false,
     "start_time": "2023-12-19T14:25:11.085918",
     "status": "completed"
    },
    "tags": []
   },
   "outputs": [
    {
     "data": {
      "text/html": [
       "<div>\n",
       "<style scoped>\n",
       "    .dataframe tbody tr th:only-of-type {\n",
       "        vertical-align: middle;\n",
       "    }\n",
       "\n",
       "    .dataframe tbody tr th {\n",
       "        vertical-align: top;\n",
       "    }\n",
       "\n",
       "    .dataframe thead th {\n",
       "        text-align: right;\n",
       "    }\n",
       "</style>\n",
       "<table border=\"1\" class=\"dataframe\">\n",
       "  <thead>\n",
       "    <tr style=\"text-align: right;\">\n",
       "      <th></th>\n",
       "      <th>PassengerId</th>\n",
       "      <th>Survived</th>\n",
       "      <th>Pclass</th>\n",
       "      <th>Name</th>\n",
       "      <th>Sex</th>\n",
       "      <th>Age</th>\n",
       "      <th>SibSp</th>\n",
       "      <th>Parch</th>\n",
       "      <th>Ticket</th>\n",
       "      <th>Fare</th>\n",
       "      <th>Cabin</th>\n",
       "      <th>Embarked</th>\n",
       "      <th>FamilySize</th>\n",
       "    </tr>\n",
       "  </thead>\n",
       "  <tbody>\n",
       "    <tr>\n",
       "      <th>0</th>\n",
       "      <td>1</td>\n",
       "      <td>0</td>\n",
       "      <td>3</td>\n",
       "      <td>Braund, Mr. Owen Harris</td>\n",
       "      <td>male</td>\n",
       "      <td>22.0</td>\n",
       "      <td>1</td>\n",
       "      <td>0</td>\n",
       "      <td>A/5 21171</td>\n",
       "      <td>7.2500</td>\n",
       "      <td>NaN</td>\n",
       "      <td>S</td>\n",
       "      <td>2</td>\n",
       "    </tr>\n",
       "    <tr>\n",
       "      <th>1</th>\n",
       "      <td>2</td>\n",
       "      <td>1</td>\n",
       "      <td>1</td>\n",
       "      <td>Cumings, Mrs. John Bradley (Florence Briggs Th...</td>\n",
       "      <td>female</td>\n",
       "      <td>38.0</td>\n",
       "      <td>1</td>\n",
       "      <td>0</td>\n",
       "      <td>PC 17599</td>\n",
       "      <td>71.2833</td>\n",
       "      <td>C85</td>\n",
       "      <td>C</td>\n",
       "      <td>2</td>\n",
       "    </tr>\n",
       "    <tr>\n",
       "      <th>2</th>\n",
       "      <td>3</td>\n",
       "      <td>1</td>\n",
       "      <td>3</td>\n",
       "      <td>Heikkinen, Miss. Laina</td>\n",
       "      <td>female</td>\n",
       "      <td>26.0</td>\n",
       "      <td>0</td>\n",
       "      <td>0</td>\n",
       "      <td>STON/O2. 3101282</td>\n",
       "      <td>7.9250</td>\n",
       "      <td>NaN</td>\n",
       "      <td>S</td>\n",
       "      <td>1</td>\n",
       "    </tr>\n",
       "    <tr>\n",
       "      <th>3</th>\n",
       "      <td>4</td>\n",
       "      <td>1</td>\n",
       "      <td>1</td>\n",
       "      <td>Futrelle, Mrs. Jacques Heath (Lily May Peel)</td>\n",
       "      <td>female</td>\n",
       "      <td>35.0</td>\n",
       "      <td>1</td>\n",
       "      <td>0</td>\n",
       "      <td>113803</td>\n",
       "      <td>53.1000</td>\n",
       "      <td>C123</td>\n",
       "      <td>S</td>\n",
       "      <td>2</td>\n",
       "    </tr>\n",
       "    <tr>\n",
       "      <th>4</th>\n",
       "      <td>5</td>\n",
       "      <td>0</td>\n",
       "      <td>3</td>\n",
       "      <td>Allen, Mr. William Henry</td>\n",
       "      <td>male</td>\n",
       "      <td>35.0</td>\n",
       "      <td>0</td>\n",
       "      <td>0</td>\n",
       "      <td>373450</td>\n",
       "      <td>8.0500</td>\n",
       "      <td>NaN</td>\n",
       "      <td>S</td>\n",
       "      <td>1</td>\n",
       "    </tr>\n",
       "    <tr>\n",
       "      <th>5</th>\n",
       "      <td>6</td>\n",
       "      <td>0</td>\n",
       "      <td>3</td>\n",
       "      <td>Moran, Mr. James</td>\n",
       "      <td>male</td>\n",
       "      <td>NaN</td>\n",
       "      <td>0</td>\n",
       "      <td>0</td>\n",
       "      <td>330877</td>\n",
       "      <td>8.4583</td>\n",
       "      <td>NaN</td>\n",
       "      <td>Q</td>\n",
       "      <td>1</td>\n",
       "    </tr>\n",
       "    <tr>\n",
       "      <th>6</th>\n",
       "      <td>7</td>\n",
       "      <td>0</td>\n",
       "      <td>1</td>\n",
       "      <td>McCarthy, Mr. Timothy J</td>\n",
       "      <td>male</td>\n",
       "      <td>54.0</td>\n",
       "      <td>0</td>\n",
       "      <td>0</td>\n",
       "      <td>17463</td>\n",
       "      <td>51.8625</td>\n",
       "      <td>E46</td>\n",
       "      <td>S</td>\n",
       "      <td>1</td>\n",
       "    </tr>\n",
       "    <tr>\n",
       "      <th>7</th>\n",
       "      <td>8</td>\n",
       "      <td>0</td>\n",
       "      <td>3</td>\n",
       "      <td>Palsson, Master. Gosta Leonard</td>\n",
       "      <td>male</td>\n",
       "      <td>2.0</td>\n",
       "      <td>3</td>\n",
       "      <td>1</td>\n",
       "      <td>349909</td>\n",
       "      <td>21.0750</td>\n",
       "      <td>NaN</td>\n",
       "      <td>S</td>\n",
       "      <td>5</td>\n",
       "    </tr>\n",
       "    <tr>\n",
       "      <th>8</th>\n",
       "      <td>9</td>\n",
       "      <td>1</td>\n",
       "      <td>3</td>\n",
       "      <td>Johnson, Mrs. Oscar W (Elisabeth Vilhelmina Berg)</td>\n",
       "      <td>female</td>\n",
       "      <td>27.0</td>\n",
       "      <td>0</td>\n",
       "      <td>2</td>\n",
       "      <td>347742</td>\n",
       "      <td>11.1333</td>\n",
       "      <td>NaN</td>\n",
       "      <td>S</td>\n",
       "      <td>3</td>\n",
       "    </tr>\n",
       "    <tr>\n",
       "      <th>9</th>\n",
       "      <td>10</td>\n",
       "      <td>1</td>\n",
       "      <td>2</td>\n",
       "      <td>Nasser, Mrs. Nicholas (Adele Achem)</td>\n",
       "      <td>female</td>\n",
       "      <td>14.0</td>\n",
       "      <td>1</td>\n",
       "      <td>0</td>\n",
       "      <td>237736</td>\n",
       "      <td>30.0708</td>\n",
       "      <td>NaN</td>\n",
       "      <td>C</td>\n",
       "      <td>2</td>\n",
       "    </tr>\n",
       "  </tbody>\n",
       "</table>\n",
       "</div>"
      ],
      "text/plain": [
       "   PassengerId  Survived  Pclass  \\\n",
       "0            1         0       3   \n",
       "1            2         1       1   \n",
       "2            3         1       3   \n",
       "3            4         1       1   \n",
       "4            5         0       3   \n",
       "5            6         0       3   \n",
       "6            7         0       1   \n",
       "7            8         0       3   \n",
       "8            9         1       3   \n",
       "9           10         1       2   \n",
       "\n",
       "                                                Name     Sex   Age  SibSp  \\\n",
       "0                            Braund, Mr. Owen Harris    male  22.0      1   \n",
       "1  Cumings, Mrs. John Bradley (Florence Briggs Th...  female  38.0      1   \n",
       "2                             Heikkinen, Miss. Laina  female  26.0      0   \n",
       "3       Futrelle, Mrs. Jacques Heath (Lily May Peel)  female  35.0      1   \n",
       "4                           Allen, Mr. William Henry    male  35.0      0   \n",
       "5                                   Moran, Mr. James    male   NaN      0   \n",
       "6                            McCarthy, Mr. Timothy J    male  54.0      0   \n",
       "7                     Palsson, Master. Gosta Leonard    male   2.0      3   \n",
       "8  Johnson, Mrs. Oscar W (Elisabeth Vilhelmina Berg)  female  27.0      0   \n",
       "9                Nasser, Mrs. Nicholas (Adele Achem)  female  14.0      1   \n",
       "\n",
       "   Parch            Ticket     Fare Cabin Embarked  FamilySize  \n",
       "0      0         A/5 21171   7.2500   NaN        S           2  \n",
       "1      0          PC 17599  71.2833   C85        C           2  \n",
       "2      0  STON/O2. 3101282   7.9250   NaN        S           1  \n",
       "3      0            113803  53.1000  C123        S           2  \n",
       "4      0            373450   8.0500   NaN        S           1  \n",
       "5      0            330877   8.4583   NaN        Q           1  \n",
       "6      0             17463  51.8625   E46        S           1  \n",
       "7      1            349909  21.0750   NaN        S           5  \n",
       "8      2            347742  11.1333   NaN        S           3  \n",
       "9      0            237736  30.0708   NaN        C           2  "
      ]
     },
     "execution_count": 3,
     "metadata": {},
     "output_type": "execute_result"
    }
   ],
   "source": [
    "train_data = pd.read_csv(\"/kaggle/input/titanic/train.csv\") # Internal Kaggle path.\n",
    "\n",
    "# Add a new column 'FamilySize' to the training data\n",
    "train_data['FamilySize'] = train_data['SibSp'] + train_data['Parch'] + 1\n",
    "\n",
    "train_data.head(10) # Display the first ten observations."
   ]
  },
  {
   "cell_type": "code",
   "execution_count": 4,
   "id": "b07fad52",
   "metadata": {
    "execution": {
     "iopub.execute_input": "2023-12-19T14:25:11.184068Z",
     "iopub.status.busy": "2023-12-19T14:25:11.183712Z",
     "iopub.status.idle": "2023-12-19T14:25:11.715692Z",
     "shell.execute_reply": "2023-12-19T14:25:11.714372Z"
    },
    "papermill": {
     "duration": 0.548612,
     "end_time": "2023-12-19T14:25:11.718825",
     "exception": false,
     "start_time": "2023-12-19T14:25:11.170213",
     "status": "completed"
    },
    "tags": []
   },
   "outputs": [
    {
     "data": {
      "image/png": "[encoded data removed]",
      "text/plain": [
       "<Figure size 640x480 with 1 Axes>"
      ]
     },
     "metadata": {},
     "output_type": "display_data"
    }
   ],
   "source": [
    "# Checking for missing data:\n",
    "sns.heatmap(train_data.isnull(), cmap='viridis', cbar=False) # No colour bar.\n",
    "plt.title('Heat Map of Missing Data')\n",
    "plt.show()"
   ]
  },
  {
   "cell_type": "markdown",
   "id": "91873bed",
   "metadata": {
    "papermill": {
     "duration": 0.0131,
     "end_time": "2023-12-19T14:25:11.745814",
     "exception": false,
     "start_time": "2023-12-19T14:25:11.732714",
     "status": "completed"
    },
    "tags": []
   },
   "source": [
    "<p><u><i>Comments on the graph above</i></u>:</p>\n",
    "<p>It would appear that the variables: \"Age\", \"Cabin\" and \"Embarked\" have some missing values.</p>"
   ]
  },
  {
   "cell_type": "markdown",
   "id": "e61490c7",
   "metadata": {
    "papermill": {
     "duration": 0.012715,
     "end_time": "2023-12-19T14:25:11.771496",
     "exception": false,
     "start_time": "2023-12-19T14:25:11.758781",
     "status": "completed"
    },
    "tags": []
   },
   "source": [
    "#### <u><i>The Test Data</i></u>:\n",
    "<p>These are the data on which we will test our models.</p>"
   ]
  },
  {
   "cell_type": "code",
   "execution_count": 5,
   "id": "95792558",
   "metadata": {
    "execution": {
     "iopub.execute_input": "2023-12-19T14:25:11.863967Z",
     "iopub.status.busy": "2023-12-19T14:25:11.863556Z",
     "iopub.status.idle": "2023-12-19T14:25:11.890818Z",
     "shell.execute_reply": "2023-12-19T14:25:11.888886Z"
    },
    "papermill": {
     "duration": 0.107974,
     "end_time": "2023-12-19T14:25:11.893279",
     "exception": false,
     "start_time": "2023-12-19T14:25:11.785305",
     "status": "completed"
    },
    "tags": []
   },
   "outputs": [
    {
     "data": {
      "text/html": [
       "<div>\n",
       "<style scoped>\n",
       "    .dataframe tbody tr th:only-of-type {\n",
       "        vertical-align: middle;\n",
       "    }\n",
       "\n",
       "    .dataframe tbody tr th {\n",
       "        vertical-align: top;\n",
       "    }\n",
       "\n",
       "    .dataframe thead th {\n",
       "        text-align: right;\n",
       "    }\n",
       "</style>\n",
       "<table border=\"1\" class=\"dataframe\">\n",
       "  <thead>\n",
       "    <tr style=\"text-align: right;\">\n",
       "      <th></th>\n",
       "      <th>PassengerId</th>\n",
       "      <th>Pclass</th>\n",
       "      <th>Name</th>\n",
       "      <th>Sex</th>\n",
       "      <th>Age</th>\n",
       "      <th>SibSp</th>\n",
       "      <th>Parch</th>\n",
       "      <th>Ticket</th>\n",
       "      <th>Fare</th>\n",
       "      <th>Cabin</th>\n",
       "      <th>Embarked</th>\n",
       "      <th>FamilySize</th>\n",
       "    </tr>\n",
       "  </thead>\n",
       "  <tbody>\n",
       "    <tr>\n",
       "      <th>0</th>\n",
       "      <td>892</td>\n",
       "      <td>3</td>\n",
       "      <td>Kelly, Mr. James</td>\n",
       "      <td>male</td>\n",
       "      <td>34.5</td>\n",
       "      <td>0</td>\n",
       "      <td>0</td>\n",
       "      <td>330911</td>\n",
       "      <td>7.8292</td>\n",
       "      <td>NaN</td>\n",
       "      <td>Q</td>\n",
       "      <td>1</td>\n",
       "    </tr>\n",
       "    <tr>\n",
       "      <th>1</th>\n",
       "      <td>893</td>\n",
       "      <td>3</td>\n",
       "      <td>Wilkes, Mrs. James (Ellen Needs)</td>\n",
       "      <td>female</td>\n",
       "      <td>47.0</td>\n",
       "      <td>1</td>\n",
       "      <td>0</td>\n",
       "      <td>363272</td>\n",
       "      <td>7.0000</td>\n",
       "      <td>NaN</td>\n",
       "      <td>S</td>\n",
       "      <td>2</td>\n",
       "    </tr>\n",
       "    <tr>\n",
       "      <th>2</th>\n",
       "      <td>894</td>\n",
       "      <td>2</td>\n",
       "      <td>Myles, Mr. Thomas Francis</td>\n",
       "      <td>male</td>\n",
       "      <td>62.0</td>\n",
       "      <td>0</td>\n",
       "      <td>0</td>\n",
       "      <td>240276</td>\n",
       "      <td>9.6875</td>\n",
       "      <td>NaN</td>\n",
       "      <td>Q</td>\n",
       "      <td>1</td>\n",
       "    </tr>\n",
       "    <tr>\n",
       "      <th>3</th>\n",
       "      <td>895</td>\n",
       "      <td>3</td>\n",
       "      <td>Wirz, Mr. Albert</td>\n",
       "      <td>male</td>\n",
       "      <td>27.0</td>\n",
       "      <td>0</td>\n",
       "      <td>0</td>\n",
       "      <td>315154</td>\n",
       "      <td>8.6625</td>\n",
       "      <td>NaN</td>\n",
       "      <td>S</td>\n",
       "      <td>1</td>\n",
       "    </tr>\n",
       "    <tr>\n",
       "      <th>4</th>\n",
       "      <td>896</td>\n",
       "      <td>3</td>\n",
       "      <td>Hirvonen, Mrs. Alexander (Helga E Lindqvist)</td>\n",
       "      <td>female</td>\n",
       "      <td>22.0</td>\n",
       "      <td>1</td>\n",
       "      <td>1</td>\n",
       "      <td>3101298</td>\n",
       "      <td>12.2875</td>\n",
       "      <td>NaN</td>\n",
       "      <td>S</td>\n",
       "      <td>3</td>\n",
       "    </tr>\n",
       "    <tr>\n",
       "      <th>5</th>\n",
       "      <td>897</td>\n",
       "      <td>3</td>\n",
       "      <td>Svensson, Mr. Johan Cervin</td>\n",
       "      <td>male</td>\n",
       "      <td>14.0</td>\n",
       "      <td>0</td>\n",
       "      <td>0</td>\n",
       "      <td>7538</td>\n",
       "      <td>9.2250</td>\n",
       "      <td>NaN</td>\n",
       "      <td>S</td>\n",
       "      <td>1</td>\n",
       "    </tr>\n",
       "    <tr>\n",
       "      <th>6</th>\n",
       "      <td>898</td>\n",
       "      <td>3</td>\n",
       "      <td>Connolly, Miss. Kate</td>\n",
       "      <td>female</td>\n",
       "      <td>30.0</td>\n",
       "      <td>0</td>\n",
       "      <td>0</td>\n",
       "      <td>330972</td>\n",
       "      <td>7.6292</td>\n",
       "      <td>NaN</td>\n",
       "      <td>Q</td>\n",
       "      <td>1</td>\n",
       "    </tr>\n",
       "    <tr>\n",
       "      <th>7</th>\n",
       "      <td>899</td>\n",
       "      <td>2</td>\n",
       "      <td>Caldwell, Mr. Albert Francis</td>\n",
       "      <td>male</td>\n",
       "      <td>26.0</td>\n",
       "      <td>1</td>\n",
       "      <td>1</td>\n",
       "      <td>248738</td>\n",
       "      <td>29.0000</td>\n",
       "      <td>NaN</td>\n",
       "      <td>S</td>\n",
       "      <td>3</td>\n",
       "    </tr>\n",
       "    <tr>\n",
       "      <th>8</th>\n",
       "      <td>900</td>\n",
       "      <td>3</td>\n",
       "      <td>Abrahim, Mrs. Joseph (Sophie Halaut Easu)</td>\n",
       "      <td>female</td>\n",
       "      <td>18.0</td>\n",
       "      <td>0</td>\n",
       "      <td>0</td>\n",
       "      <td>2657</td>\n",
       "      <td>7.2292</td>\n",
       "      <td>NaN</td>\n",
       "      <td>C</td>\n",
       "      <td>1</td>\n",
       "    </tr>\n",
       "    <tr>\n",
       "      <th>9</th>\n",
       "      <td>901</td>\n",
       "      <td>3</td>\n",
       "      <td>Davies, Mr. John Samuel</td>\n",
       "      <td>male</td>\n",
       "      <td>21.0</td>\n",
       "      <td>2</td>\n",
       "      <td>0</td>\n",
       "      <td>A/4 48871</td>\n",
       "      <td>24.1500</td>\n",
       "      <td>NaN</td>\n",
       "      <td>S</td>\n",
       "      <td>3</td>\n",
       "    </tr>\n",
       "  </tbody>\n",
       "</table>\n",
       "</div>"
      ],
      "text/plain": [
       "   PassengerId  Pclass                                          Name     Sex  \\\n",
       "0          892       3                              Kelly, Mr. James    male   \n",
       "1          893       3              Wilkes, Mrs. James (Ellen Needs)  female   \n",
       "2          894       2                     Myles, Mr. Thomas Francis    male   \n",
       "3          895       3                              Wirz, Mr. Albert    male   \n",
       "4          896       3  Hirvonen, Mrs. Alexander (Helga E Lindqvist)  female   \n",
       "5          897       3                    Svensson, Mr. Johan Cervin    male   \n",
       "6          898       3                          Connolly, Miss. Kate  female   \n",
       "7          899       2                  Caldwell, Mr. Albert Francis    male   \n",
       "8          900       3     Abrahim, Mrs. Joseph (Sophie Halaut Easu)  female   \n",
       "9          901       3                       Davies, Mr. John Samuel    male   \n",
       "\n",
       "    Age  SibSp  Parch     Ticket     Fare Cabin Embarked  FamilySize  \n",
       "0  34.5      0      0     330911   7.8292   NaN        Q           1  \n",
       "1  47.0      1      0     363272   7.0000   NaN        S           2  \n",
       "2  62.0      0      0     240276   9.6875   NaN        Q           1  \n",
       "3  27.0      0      0     315154   8.6625   NaN        S           1  \n",
       "4  22.0      1      1    3101298  12.2875   NaN        S           3  \n",
       "5  14.0      0      0       7538   9.2250   NaN        S           1  \n",
       "6  30.0      0      0     330972   7.6292   NaN        Q           1  \n",
       "7  26.0      1      1     248738  29.0000   NaN        S           3  \n",
       "8  18.0      0      0       2657   7.2292   NaN        C           1  \n",
       "9  21.0      2      0  A/4 48871  24.1500   NaN        S           3  "
      ]
     },
     "execution_count": 5,
     "metadata": {},
     "output_type": "execute_result"
    }
   ],
   "source": [
    "test_data = pd.read_csv(\"/kaggle/input/titanic/test.csv\")\n",
    "\n",
    "# Add a new column 'FamilySize' to the testing data\n",
    "test_data['FamilySize'] = test_data['SibSp'] + test_data['Parch'] + 1\n",
    "\n",
    "test_data.head(10) # Display the first ten observations."
   ]
  },
  {
   "cell_type": "code",
   "execution_count": 6,
   "id": "92008440",
   "metadata": {
    "execution": {
     "iopub.execute_input": "2023-12-19T14:25:11.922547Z",
     "iopub.status.busy": "2023-12-19T14:25:11.922005Z",
     "iopub.status.idle": "2023-12-19T14:25:12.321569Z",
     "shell.execute_reply": "2023-12-19T14:25:12.320308Z"
    },
    "papermill": {
     "duration": 0.417093,
     "end_time": "2023-12-19T14:25:12.324217",
     "exception": false,
     "start_time": "2023-12-19T14:25:11.907124",
     "status": "completed"
    },
    "tags": []
   },
   "outputs": [
    {
     "data": {
      "image/png": "[encoded data removed]",
      "text/plain": [
       "<Figure size 640x480 with 1 Axes>"
      ]
     },
     "metadata": {},
     "output_type": "display_data"
    }
   ],
   "source": [
    "# Checking for missing data:\n",
    "sns.heatmap(test_data.isnull(), cmap='viridis', cbar=False) # No colour bar.\n",
    "plt.title('Heat Map of Missing Data')\n",
    "plt.show()"
   ]
  },
  {
   "cell_type": "markdown",
   "id": "80959ade",
   "metadata": {
    "papermill": {
     "duration": 0.014204,
     "end_time": "2023-12-19T14:25:12.354229",
     "exception": false,
     "start_time": "2023-12-19T14:25:12.340025",
     "status": "completed"
    },
    "tags": []
   },
   "source": [
    "<p><u><i>Comments on the graph above</i></u>:</p>\n",
    "<p>It appears that the variables: \"Age\", \"Fare\" and \"Cabin\" have missing values. None for \"Embarked\" like it was in the training data.</p>"
   ]
  },
  {
   "cell_type": "markdown",
   "id": "665297d3",
   "metadata": {
    "papermill": {
     "duration": 0.014064,
     "end_time": "2023-12-19T14:25:12.382491",
     "exception": false,
     "start_time": "2023-12-19T14:25:12.368427",
     "status": "completed"
    },
    "tags": []
   },
   "source": [
    "## <b><u><i>Some Data Visualizations</i></u></b>:"
   ]
  },
  {
   "cell_type": "markdown",
   "id": "a1250bf1",
   "metadata": {
    "papermill": {
     "duration": 0.013791,
     "end_time": "2023-12-19T14:25:12.410744",
     "exception": false,
     "start_time": "2023-12-19T14:25:12.396953",
     "status": "completed"
    },
    "tags": []
   },
   "source": [
    "#### <u><i>Survival Rate by Class and Gender</i></u>:"
   ]
  },
  {
   "cell_type": "code",
   "execution_count": 7,
   "id": "6578dbdb",
   "metadata": {
    "execution": {
     "iopub.execute_input": "2023-12-19T14:25:12.440981Z",
     "iopub.status.busy": "2023-12-19T14:25:12.440356Z",
     "iopub.status.idle": "2023-12-19T14:25:12.759944Z",
     "shell.execute_reply": "2023-12-19T14:25:12.758879Z"
    },
    "papermill": {
     "duration": 0.337647,
     "end_time": "2023-12-19T14:25:12.762382",
     "exception": false,
     "start_time": "2023-12-19T14:25:12.424735",
     "status": "completed"
    },
    "tags": []
   },
   "outputs": [
    {
     "data": {
      "image/png": "[encoded data removed]",
      "text/plain": [
       "<Figure size 1000x600 with 1 Axes>"
      ]
     },
     "metadata": {},
     "output_type": "display_data"
    }
   ],
   "source": [
    "# Create a new data frame with Survival Rate information:\n",
    "survival_rate_df = train_data.groupby(['Pclass', 'Sex'])['Survived'].mean().reset_index()\n",
    "\n",
    "# Plotting using seaborn:\n",
    "plt.figure(figsize=(10, 6))\n",
    "sns.barplot(x='Pclass', y='Survived', hue='Sex', data=survival_rate_df, palette='viridis')\n",
    "plt.title('Survival Rate by Class and Gender')\n",
    "plt.xlabel('Passenger Class')\n",
    "plt.ylabel('Survival Rate')\n",
    "plt.legend(title='Gender')\n",
    "plt.show()"
   ]
  },
  {
   "cell_type": "markdown",
   "id": "ec6e93a7",
   "metadata": {
    "papermill": {
     "duration": 0.014391,
     "end_time": "2023-12-19T14:25:12.791357",
     "exception": false,
     "start_time": "2023-12-19T14:25:12.776966",
     "status": "completed"
    },
    "tags": []
   },
   "source": [
    "<p><u><i>Comments on the graph above</i></u>:</p>\n",
    "<p>It would appear that higher classes had higher chances of survival. Overall females seem to have higher chances of surviving the disaster when compared to male survivors. This could be according to the maritime protocol of letting women and children go first on the lifeboats so that they could have a higher chance of suvival.</p>"
   ]
  },
  {
   "cell_type": "markdown",
   "id": "9469f83c",
   "metadata": {
    "papermill": {
     "duration": 0.014285,
     "end_time": "2023-12-19T14:25:12.820822",
     "exception": false,
     "start_time": "2023-12-19T14:25:12.806537",
     "status": "completed"
    },
    "tags": []
   },
   "source": [
    "#### <u><i>The Age Distribution of All Persons on the Titanic</i></u>:"
   ]
  },
  {
   "cell_type": "code",
   "execution_count": 8,
   "id": "875e2eac",
   "metadata": {
    "execution": {
     "iopub.execute_input": "2023-12-19T14:25:12.852343Z",
     "iopub.status.busy": "2023-12-19T14:25:12.851941Z",
     "iopub.status.idle": "2023-12-19T14:25:13.307720Z",
     "shell.execute_reply": "2023-12-19T14:25:13.306626Z"
    },
    "papermill": {
     "duration": 0.47421,
     "end_time": "2023-12-19T14:25:13.310089",
     "exception": false,
     "start_time": "2023-12-19T14:25:12.835879",
     "status": "completed"
    },
    "tags": []
   },
   "outputs": [
    {
     "data": {
      "image/png": "[encoded data removed]",
      "text/plain": [
       "<Figure size 1000x600 with 1 Axes>"
      ]
     },
     "metadata": {},
     "output_type": "display_data"
    }
   ],
   "source": [
    "# Drop missing values in the 'Age' column:\n",
    "age_data = train_data['Age'].dropna()\n",
    "\n",
    "# Plotting using seaborn:\n",
    "plt.figure(figsize=(10, 6))\n",
    "sns.histplot(age_data, bins=30, kde=True, color='skyblue')\n",
    "plt.title('Age Distribution on the Titanic')\n",
    "plt.xlabel('Age')\n",
    "plt.ylabel('Frequency')\n",
    "plt.show()"
   ]
  },
  {
   "cell_type": "markdown",
   "id": "a6ee1cd4",
   "metadata": {
    "papermill": {
     "duration": 0.016998,
     "end_time": "2023-12-19T14:25:13.343180",
     "exception": false,
     "start_time": "2023-12-19T14:25:13.326182",
     "status": "completed"
    },
    "tags": []
   },
   "source": [
    "<p><u><i>Comments on the graph above</i></u>:</p>\n",
    "<p>From the graph right above, we can see that most people were in between their 20s and 30s. There were children present and it seems from the distribution above that most of the children were babies.</p>"
   ]
  },
  {
   "cell_type": "markdown",
   "id": "cc23098b",
   "metadata": {
    "papermill": {
     "duration": 0.015055,
     "end_time": "2023-12-19T14:25:13.374122",
     "exception": false,
     "start_time": "2023-12-19T14:25:13.359067",
     "status": "completed"
    },
    "tags": []
   },
   "source": [
    "#### <u><i>Family Size Versus Survival Graph</i></u>:"
   ]
  },
  {
   "cell_type": "code",
   "execution_count": 9,
   "id": "8992eb0b",
   "metadata": {
    "execution": {
     "iopub.execute_input": "2023-12-19T14:25:13.408343Z",
     "iopub.status.busy": "2023-12-19T14:25:13.407293Z",
     "iopub.status.idle": "2023-12-19T14:25:13.778994Z",
     "shell.execute_reply": "2023-12-19T14:25:13.777630Z"
    },
    "papermill": {
     "duration": 0.391415,
     "end_time": "2023-12-19T14:25:13.781380",
     "exception": false,
     "start_time": "2023-12-19T14:25:13.389965",
     "status": "completed"
    },
    "tags": []
   },
   "outputs": [
    {
     "data": {
      "image/png": "[encoded data removed]",
      "text/plain": [
       "<Figure size 1000x600 with 1 Axes>"
      ]
     },
     "metadata": {},
     "output_type": "display_data"
    }
   ],
   "source": [
    "# Copy the \"train_data\" structure into a new data frame \"df\":\n",
    "df = train_data.copy()\n",
    "\n",
    "# Plotting using seaborn:\n",
    "plt.figure(figsize=(10, 6))\n",
    "sns.countplot(x='FamilySize', hue='Survived', data=df, palette='pastel')\n",
    "plt.title('Family Size and Survival')\n",
    "plt.xlabel('Family Size')\n",
    "plt.ylabel('Count')\n",
    "plt.legend(title='Survived', labels=['No', 'Yes'])\n",
    "plt.show()"
   ]
  },
  {
   "cell_type": "markdown",
   "id": "60140a39",
   "metadata": {
    "papermill": {
     "duration": 0.017264,
     "end_time": "2023-12-19T14:25:13.815613",
     "exception": false,
     "start_time": "2023-12-19T14:25:13.798349",
     "status": "completed"
    },
    "tags": []
   },
   "source": [
    "<p><u><i>Comments on the graph above</i></u>:</p>\n",
    "<p>The larger families must have had a tough time securing a boat for all of their members and most certainly in the panic of the moment a lot of memeber must have been lost. Therefore, it would be reasonable to think that smaller families had greater chances of survival.</p>"
   ]
  },
  {
   "cell_type": "markdown",
   "id": "8e0d8f44",
   "metadata": {
    "papermill": {
     "duration": 0.016208,
     "end_time": "2023-12-19T14:25:13.847834",
     "exception": false,
     "start_time": "2023-12-19T14:25:13.831626",
     "status": "completed"
    },
    "tags": []
   },
   "source": [
    "#### <u><i>Cabin Versus Survival Graph</i></u>:"
   ]
  },
  {
   "cell_type": "code",
   "execution_count": 10,
   "id": "05e02a5d",
   "metadata": {
    "execution": {
     "iopub.execute_input": "2023-12-19T14:25:13.884271Z",
     "iopub.status.busy": "2023-12-19T14:25:13.882973Z",
     "iopub.status.idle": "2023-12-19T14:25:14.163999Z",
     "shell.execute_reply": "2023-12-19T14:25:14.162559Z"
    },
    "papermill": {
     "duration": 0.301743,
     "end_time": "2023-12-19T14:25:14.166584",
     "exception": false,
     "start_time": "2023-12-19T14:25:13.864841",
     "status": "completed"
    },
    "tags": []
   },
   "outputs": [
    {
     "data": {
      "image/png": "[encoded data removed]",
      "text/plain": [
       "<Figure size 800x600 with 1 Axes>"
      ]
     },
     "metadata": {},
     "output_type": "display_data"
    }
   ],
   "source": [
    "# Same as before, copy the \"train_data\" structure into a new data frame \"df\":\n",
    "df = train_data.copy()\n",
    "\n",
    "# Fill missing 'Cabin' values with 'Unknown':\n",
    "df['Cabin'].fillna('Unknown', inplace=True)\n",
    "\n",
    "# Create a new column 'HasCabin' indicating whether the passenger has a recorded cabin.\n",
    "df['HasCabin'] = df['Cabin'].apply(lambda x: 0 if x == 'Unknown' else 1) # The missing values from before will be considered as the passenger not having a cabin.\n",
    "\n",
    "# Plotting using seaborn:\n",
    "plt.figure(figsize=(8, 6))\n",
    "sns.countplot(x='HasCabin', hue='Survived', data=df, palette='Set1')\n",
    "plt.title('Cabin vs. Survival')\n",
    "plt.xlabel('Has Cabin')\n",
    "plt.ylabel('Count')\n",
    "plt.xticks(ticks=[0, 1], labels=['No', 'Yes'])\n",
    "plt.legend(title='Survived', labels=['No', 'Yes'])\n",
    "plt.show()"
   ]
  },
  {
   "cell_type": "markdown",
   "id": "dd3cebc3",
   "metadata": {
    "papermill": {
     "duration": 0.018799,
     "end_time": "2023-12-19T14:25:14.202766",
     "exception": false,
     "start_time": "2023-12-19T14:25:14.183967",
     "status": "completed"
    },
    "tags": []
   },
   "source": [
    "<p><u><i>Comments on the graph above</i></u>:</p>\n",
    "<p>It seems like the people who had a cabin had a higher chance of survival. Although this graph should be taken with a grain of salt, as the missing values have been added to people who had no cabins booked.</p>"
   ]
  },
  {
   "cell_type": "markdown",
   "id": "246605f5",
   "metadata": {
    "papermill": {
     "duration": 0.016412,
     "end_time": "2023-12-19T14:25:14.236819",
     "exception": false,
     "start_time": "2023-12-19T14:25:14.220407",
     "status": "completed"
    },
    "tags": []
   },
   "source": [
    "#### <u><i>\"Fare\" Column Box-Plot</i></u>:"
   ]
  },
  {
   "cell_type": "code",
   "execution_count": 11,
   "id": "f0b9bf4f",
   "metadata": {
    "execution": {
     "iopub.execute_input": "2023-12-19T14:25:14.272706Z",
     "iopub.status.busy": "2023-12-19T14:25:14.272319Z",
     "iopub.status.idle": "2023-12-19T14:25:14.480266Z",
     "shell.execute_reply": "2023-12-19T14:25:14.479054Z"
    },
    "papermill": {
     "duration": 0.229094,
     "end_time": "2023-12-19T14:25:14.482927",
     "exception": false,
     "start_time": "2023-12-19T14:25:14.253833",
     "status": "completed"
    },
    "tags": []
   },
   "outputs": [
    {
     "data": {
      "image/png": "[encoded data removed]",
      "text/plain": [
       "<Figure size 1000x600 with 1 Axes>"
      ]
     },
     "metadata": {},
     "output_type": "display_data"
    }
   ],
   "source": [
    "# Get the \"Fare\" data:\n",
    "fare_data = train_data['Fare']\n",
    "\n",
    "# Create a box plot\n",
    "plt.figure(figsize=(10, 6))\n",
    "sns.boxplot(x=fare_data)\n",
    "plt.title('Box Plot of Fare')\n",
    "plt.xlabel('Fare')\n",
    "plt.show()"
   ]
  },
  {
   "cell_type": "markdown",
   "id": "6c1d626f",
   "metadata": {
    "papermill": {
     "duration": 0.016508,
     "end_time": "2023-12-19T14:25:14.517620",
     "exception": false,
     "start_time": "2023-12-19T14:25:14.501112",
     "status": "completed"
    },
    "tags": []
   },
   "source": [
    "<p><u><i>Comments on the graph above</i></u>:</p>\n",
    "<p>It appears that there are wuite a few outliers, as well as people who paid more than 500 pounds for a ticket.</p>"
   ]
  },
  {
   "cell_type": "markdown",
   "id": "28762db9",
   "metadata": {
    "papermill": {
     "duration": 0.016764,
     "end_time": "2023-12-19T14:25:14.551756",
     "exception": false,
     "start_time": "2023-12-19T14:25:14.534992",
     "status": "completed"
    },
    "tags": []
   },
   "source": [
    "## <b><u><i>Predicting Survivors</i></u></b>:\n",
    "#### <u><i>1. Selecting the Data</i></u>:"
   ]
  },
  {
   "cell_type": "code",
   "execution_count": 12,
   "id": "a5a4da06",
   "metadata": {
    "execution": {
     "iopub.execute_input": "2023-12-19T14:25:14.587957Z",
     "iopub.status.busy": "2023-12-19T14:25:14.587566Z",
     "iopub.status.idle": "2023-12-19T14:25:14.607628Z",
     "shell.execute_reply": "2023-12-19T14:25:14.606213Z"
    },
    "papermill": {
     "duration": 0.04121,
     "end_time": "2023-12-19T14:25:14.610430",
     "exception": false,
     "start_time": "2023-12-19T14:25:14.569220",
     "status": "completed"
    },
    "tags": []
   },
   "outputs": [],
   "source": [
    "# Extract the target variable (y_train) from the training data:\n",
    "y_train = train_data[\"Survived\"]\n",
    "\n",
    "# Choose the features to use in the model:\n",
    "features = [\"Age\", \"Pclass\", \"Sex\", \"FamilySize\", \"Embarked\", \"Fare\"]\n",
    "\n",
    "# Create the feature matrices for training and testing data using one-hot encoding:\n",
    "X_train = pd.get_dummies(train_data[features])\n",
    "X_test = pd.get_dummies(test_data[features])"
   ]
  },
  {
   "cell_type": "markdown",
   "id": "403ed620",
   "metadata": {
    "papermill": {
     "duration": 0.016304,
     "end_time": "2023-12-19T14:25:14.643735",
     "exception": false,
     "start_time": "2023-12-19T14:25:14.627431",
     "status": "completed"
    },
    "tags": []
   },
   "source": [
    "#### <u><i>2. Imputing the Missing Values</i></u>:"
   ]
  },
  {
   "cell_type": "code",
   "execution_count": 13,
   "id": "4672ebb6",
   "metadata": {
    "execution": {
     "iopub.execute_input": "2023-12-19T14:25:14.680397Z",
     "iopub.status.busy": "2023-12-19T14:25:14.679089Z",
     "iopub.status.idle": "2023-12-19T14:25:14.688856Z",
     "shell.execute_reply": "2023-12-19T14:25:14.687973Z"
    },
    "papermill": {
     "duration": 0.030453,
     "end_time": "2023-12-19T14:25:14.691277",
     "exception": false,
     "start_time": "2023-12-19T14:25:14.660824",
     "status": "completed"
    },
    "tags": []
   },
   "outputs": [],
   "source": [
    "# Impute the missing values by using the \"Fare\" column's median (due to outliers):\n",
    "median_fare = X_test['Fare'].median()\n",
    "X_test['Fare'].fillna(median_fare, inplace=True)\n",
    "\n",
    "# Impute missing values in the \"Age\" column with the mean\n",
    "X_train['Age'].fillna(X_train['Age'].mean(), inplace=True)\n",
    "X_test['Age'].fillna(X_test['Age'].mean(), inplace=True)"
   ]
  },
  {
   "cell_type": "markdown",
   "id": "01bf60b9",
   "metadata": {
    "papermill": {
     "duration": 0.016083,
     "end_time": "2023-12-19T14:25:14.724463",
     "exception": false,
     "start_time": "2023-12-19T14:25:14.708380",
     "status": "completed"
    },
    "tags": []
   },
   "source": [
    "#### <u><i>3. Scaling the Features</i></u>:"
   ]
  },
  {
   "cell_type": "code",
   "execution_count": 14,
   "id": "204bc631",
   "metadata": {
    "execution": {
     "iopub.execute_input": "2023-12-19T14:25:14.760697Z",
     "iopub.status.busy": "2023-12-19T14:25:14.760296Z",
     "iopub.status.idle": "2023-12-19T14:25:14.949852Z",
     "shell.execute_reply": "2023-12-19T14:25:14.948967Z"
    },
    "papermill": {
     "duration": 0.210762,
     "end_time": "2023-12-19T14:25:14.952323",
     "exception": false,
     "start_time": "2023-12-19T14:25:14.741561",
     "status": "completed"
    },
    "tags": []
   },
   "outputs": [],
   "source": [
    "from sklearn.preprocessing import MinMaxScaler\n",
    "\n",
    "# Select continuous features for scaling\n",
    "features_to_scale = [\"Age\", \"Fare\"]\n",
    "\n",
    "# Initialize the scaler\n",
    "scaler = MinMaxScaler()\n",
    "\n",
    "# Fit and transform the scaler on training data\n",
    "X_train[features_to_scale] = scaler.fit_transform(X_train[features_to_scale])\n",
    "\n",
    "# Transform the test data using the same scaler\n",
    "X_test[features_to_scale] = scaler.transform(X_test[features_to_scale])"
   ]
  },
  {
   "cell_type": "markdown",
   "id": "9d0baceb",
   "metadata": {
    "papermill": {
     "duration": 0.016535,
     "end_time": "2023-12-19T14:25:14.985691",
     "exception": false,
     "start_time": "2023-12-19T14:25:14.969156",
     "status": "completed"
    },
    "tags": []
   },
   "source": [
    "#### <u><i>4. Selecting the \"Best\" Features for our Model</i></u>:"
   ]
  },
  {
   "cell_type": "code",
   "execution_count": 15,
   "id": "47fd45d1",
   "metadata": {
    "execution": {
     "iopub.execute_input": "2023-12-19T14:25:15.024547Z",
     "iopub.status.busy": "2023-12-19T14:25:15.023480Z",
     "iopub.status.idle": "2023-12-19T14:25:15.380430Z",
     "shell.execute_reply": "2023-12-19T14:25:15.378726Z"
    },
    "papermill": {
     "duration": 0.379184,
     "end_time": "2023-12-19T14:25:15.383969",
     "exception": false,
     "start_time": "2023-12-19T14:25:15.004785",
     "status": "completed"
    },
    "tags": []
   },
   "outputs": [
    {
     "name": "stdout",
     "output_type": "stream",
     "text": [
      "Selected Features: Index(['Pclass', 'FamilySize', 'Sex_female', 'Embarked_S'], dtype='object')\n"
     ]
    }
   ],
   "source": [
    "from sklearn.linear_model import Lasso\n",
    "from sklearn.preprocessing import StandardScaler\n",
    "\n",
    "# Step 1: Create a Lasso model\n",
    "lasso = Lasso(alpha=0.01)  # Adjust the alpha parameter based on your requirements.\n",
    "\n",
    "# Step 2: Fit the Lasso model to the data\n",
    "lasso.fit(X_train, y_train)\n",
    "\n",
    "# Step 3: Get selected features\n",
    "selected_features = X_train.columns[lasso.coef_ != 0]\n",
    "\n",
    "# Optional: Print the selected features\n",
    "print(\"Selected Features:\", selected_features)\n",
    "\n",
    "#------------------------------------------------------------------------\n",
    "# Comments: The simple model that was chosen by Lasso (\"Pclass\", \"Sex\") \n",
    "# does not increase our score value."
   ]
  },
  {
   "cell_type": "code",
   "execution_count": 16,
   "id": "30810f90",
   "metadata": {
    "execution": {
     "iopub.execute_input": "2023-12-19T14:25:15.424081Z",
     "iopub.status.busy": "2023-12-19T14:25:15.423706Z",
     "iopub.status.idle": "2023-12-19T14:25:16.150423Z",
     "shell.execute_reply": "2023-12-19T14:25:16.148879Z"
    },
    "papermill": {
     "duration": 0.749669,
     "end_time": "2023-12-19T14:25:16.153105",
     "exception": false,
     "start_time": "2023-12-19T14:25:15.403436",
     "status": "completed"
    },
    "tags": []
   },
   "outputs": [
    {
     "name": "stdout",
     "output_type": "stream",
     "text": [
      "Feature Importances:\n",
      "Age: 0.2638718026481895\n",
      "Fare: 0.25446254401760676\n",
      "Sex_female: 0.14700450768318724\n",
      "Sex_male: 0.13856709754385646\n",
      "Pclass: 0.0888568633272304\n",
      "FamilySize: 0.07783832373010353\n",
      "Embarked_S: 0.012675210118715592\n",
      "Embarked_C: 0.010301165827747913\n",
      "Embarked_Q: 0.006422485103362512\n"
     ]
    },
    {
     "data": {
      "image/png": "[encoded data removed]",
      "text/plain": [
       "<Figure size 1000x600 with 1 Axes>"
      ]
     },
     "metadata": {},
     "output_type": "display_data"
    }
   ],
   "source": [
    "from sklearn.ensemble import RandomForestClassifier\n",
    "import matplotlib.pyplot as plt\n",
    "\n",
    "# Assuming X_train is your feature matrix and y_train is your target variable\n",
    "\n",
    "# Create a Random Forest classifier\n",
    "rf_classifier = RandomForestClassifier(n_estimators=100, random_state=42)\n",
    "\n",
    "# Fit the model to the training data\n",
    "rf_classifier.fit(X_train, y_train)\n",
    "\n",
    "# Get feature importances\n",
    "feature_importances = rf_classifier.feature_importances_\n",
    "\n",
    "# Get the indices of features sorted by importance\n",
    "sorted_indices = feature_importances.argsort()[::-1]\n",
    "\n",
    "# Print feature importances\n",
    "print(\"Feature Importances:\")\n",
    "for index in sorted_indices:\n",
    "    print(f\"{X_train.columns[index]}: {feature_importances[index]}\")\n",
    "\n",
    "# Plot feature importances\n",
    "plt.figure(figsize=(10, 6))\n",
    "plt.bar(range(X_train.shape[1]), feature_importances[sorted_indices], align=\"center\")\n",
    "plt.xticks(range(X_train.shape[1]), X_train.columns[sorted_indices], rotation=45)\n",
    "plt.xlabel(\"Feature\")\n",
    "plt.ylabel(\"Importance Score\")\n",
    "plt.title(\"Feature Importances from Random Forest\")\n",
    "plt.show()"
   ]
  },
  {
   "cell_type": "markdown",
   "id": "d5843b3c",
   "metadata": {
    "papermill": {
     "duration": 0.017726,
     "end_time": "2023-12-19T14:25:16.189713",
     "exception": false,
     "start_time": "2023-12-19T14:25:16.171987",
     "status": "completed"
    },
    "tags": []
   },
   "source": [
    "### <u><i>1. Logistic Regression</i></u>:\n",
    "<p><strong>Logistic Regression</strong> (also called <i>Logit Regression</i>) is a probabilistic statistical classification model that predicts the probability of the occurrence  of an event. If the estimated probability is greater than 50%, then the model predicts that the observation belongs to that particular class (to the class labeled \"1\"), and otherwise it predicts that it does not (or to the class labeled \"0\"). This makes it a binary classifier. The (multiple) logistic function, in our example, can be written as:</p>\n",
    "<p>$P(Y|X)=\\frac{exp(\\beta_0 + \\beta_1X_i + \\beta_2X_2 + \\beta_3X_3 + \\beta_4X_4 + \\beta_5X_5 + \\beta_6X_6)}{1 + exp (\\beta_0 + \\beta_1X_i + \\beta_2X_2 + \\beta_3X_3 + \\beta_4X_4 + \\beta_5X_5 + \\beta_6X_6)}$</p>"
   ]
  },
  {
   "cell_type": "code",
   "execution_count": 17,
   "id": "1fa13d83",
   "metadata": {
    "execution": {
     "iopub.execute_input": "2023-12-19T14:25:16.229418Z",
     "iopub.status.busy": "2023-12-19T14:25:16.228997Z",
     "iopub.status.idle": "2023-12-19T14:25:16.254754Z",
     "shell.execute_reply": "2023-12-19T14:25:16.253470Z"
    },
    "papermill": {
     "duration": 0.049757,
     "end_time": "2023-12-19T14:25:16.257625",
     "exception": false,
     "start_time": "2023-12-19T14:25:16.207868",
     "status": "completed"
    },
    "tags": []
   },
   "outputs": [],
   "source": [
    "# Import the LogisticRegression class from the scikit-learn library:\n",
    "from sklearn.linear_model import LogisticRegression\n",
    "\n",
    "# Initialize a Logistic Regression model with a specified random seed for reproducibility:\n",
    "LR = LogisticRegression(random_state=42, max_iter = 500)\n",
    "\n",
    "# Training the Logistic Regression model (using the training data):\n",
    "LR.fit(X_train, y_train)\n",
    "\n",
    "# Making predictions on the test data, (using the trained model):\n",
    "logr_pred = LR.predict(X_test)"
   ]
  },
  {
   "cell_type": "markdown",
   "id": "cb7697c8",
   "metadata": {
    "papermill": {
     "duration": 0.017894,
     "end_time": "2023-12-19T14:25:16.292925",
     "exception": false,
     "start_time": "2023-12-19T14:25:16.275031",
     "status": "completed"
    },
    "tags": []
   },
   "source": [
    "### <u><i>2. K-Nearest Neighbours</i></u>:\n",
    "<p>Yet another famous methodology, is the <strong>K-Nearest Neighbors</strong> (<i>K-NN</i>) classification methodology. What it does, is it identifies a group of <i>K</i> objects in the training set that are closest to the test object and assigns a label based on the most dominant class in this neighborhood. So for example if we have chosen a neighbourhood of five objects and three of them were labeled as 1, then the new observation would also be labelled as 1.</p>\n",
    "<p>The basic idea is that if we want to predict the value of a new observation we look for observations similar to this one and we use as predictors their values (or a function of them). Specifically, for classification problems as ours, we use the mode of the classes of the nearest data.</p>"
   ]
  },
  {
   "cell_type": "code",
   "execution_count": 18,
   "id": "5fa73a61",
   "metadata": {
    "execution": {
     "iopub.execute_input": "2023-12-19T14:25:16.332021Z",
     "iopub.status.busy": "2023-12-19T14:25:16.331635Z",
     "iopub.status.idle": "2023-12-19T14:25:16.388746Z",
     "shell.execute_reply": "2023-12-19T14:25:16.387557Z"
    },
    "papermill": {
     "duration": 0.079026,
     "end_time": "2023-12-19T14:25:16.391310",
     "exception": false,
     "start_time": "2023-12-19T14:25:16.312284",
     "status": "completed"
    },
    "tags": []
   },
   "outputs": [],
   "source": [
    "# Import the KNeighborsClassifier from the scikit-learn library:\n",
    "from sklearn.neighbors import KNeighborsClassifier\n",
    "\n",
    "# Initialize a KNeighborsClassifier with specified parameters:\n",
    "#-----------------------------------------------------------------------------\n",
    "# - n_neighbors: Number of neighbors to consider (in this case, 7 neighbors).\n",
    "# - metric: Distance metric used for the purpose of finding neighbors \n",
    "#          (here, 'minkowski').\n",
    "# - p: Power parameter for the Minkowski distance metric (here, p=3 \n",
    "#      corresponds to the L3 norm)\n",
    "#-----------------------------------------------------------------------------\n",
    "knn = KNeighborsClassifier(n_neighbors=7, metric='minkowski', p=3)\n",
    "\n",
    "# Fit the model using the training data:\n",
    "knn.fit(X_train, y_train)\n",
    "\n",
    "# Make predictions on the test data:\n",
    "knn_pred = knn.predict(X_test)"
   ]
  },
  {
   "cell_type": "markdown",
   "id": "e6989885",
   "metadata": {
    "papermill": {
     "duration": 0.017267,
     "end_time": "2023-12-19T14:25:16.427043",
     "exception": false,
     "start_time": "2023-12-19T14:25:16.409776",
     "status": "completed"
    },
    "tags": []
   },
   "source": [
    "### <u><i>3. Random Forest Classification</i></u>:\n",
    "<p>We have already mentioned this technique in the previous exercise, but let us repeat how this procedure works once again. <strong>Random Forest</strong> is an ensemble learning approach for classification, in which “weak learners” collaborate to form “strong learners,” using a large collection of decorrelated decision trees (the random forest). Instead of developing a solution based on the output of a single deep tree, however, random forest aggregates the output from a number of shallow trees, forming an additional layer to bagging. Bagging constructs n predictors, using independent successive trees, by bootstrapping samples of the dataset. The n predictors are combined to solve a classification or estimation problem through averaging. Although individual classifiers are weak learners, all the classifiers combined form a strong learner.</p>"
   ]
  },
  {
   "cell_type": "code",
   "execution_count": 19,
   "id": "c233b0a1",
   "metadata": {
    "execution": {
     "iopub.execute_input": "2023-12-19T14:25:16.463744Z",
     "iopub.status.busy": "2023-12-19T14:25:16.463352Z",
     "iopub.status.idle": "2023-12-19T14:25:16.678511Z",
     "shell.execute_reply": "2023-12-19T14:25:16.677440Z"
    },
    "papermill": {
     "duration": 0.236833,
     "end_time": "2023-12-19T14:25:16.681323",
     "exception": false,
     "start_time": "2023-12-19T14:25:16.444490",
     "status": "completed"
    },
    "tags": []
   },
   "outputs": [],
   "source": [
    "# Import the RandomForestClassifier from the scikit-learn library:\n",
    "from sklearn.ensemble import RandomForestClassifier\n",
    "\n",
    "# Initialize a RandomForestClassifier with specified hyperparameters:\n",
    "#--------------------------------------------------------------------\n",
    "# - n_estimators: the number of trees in the forest\n",
    "# - max_depth: the maximum depth of the trees\n",
    "# - random_state: seed for reproducibility\n",
    "#--------------------------------------------------------------------\n",
    "rf = RandomForestClassifier(n_estimators=100, max_depth=5, random_state=1)\n",
    "\n",
    "# Train the RandomForestClassifier on the training data:\n",
    "rf.fit(X_train, y_train)\n",
    "\n",
    "# Use the trained model to make predictions on the test data:\n",
    "rf_pred = rf.predict(X_test)"
   ]
  },
  {
   "cell_type": "markdown",
   "id": "1d3df253",
   "metadata": {
    "papermill": {
     "duration": 0.016984,
     "end_time": "2023-12-19T14:25:16.716442",
     "exception": false,
     "start_time": "2023-12-19T14:25:16.699458",
     "status": "completed"
    },
    "tags": []
   },
   "source": [
    "### <u><i>4. Gradient Boosting Classification</i></u>:\n",
    "<p><strong>Gradient Boosting</strong> is an ensemble learning technique that builds a series of weak learners (usually decision trees) sequentially, where each new tree corrects the errors made by the previous ones. The <strong>Gradient Boosting Classifier</strong> is specifically used for classification tasks. It is a powerful and widely used machine learning algorithm known for its high performance and flexibility. One of the popular implementations of Gradient Boosting is the XGBoost (Extreme Gradient Boosting) algorithm.</p>\n",
    "\n",
    "<p>Here are some key concepts and characteristics of the Gradient Boosting Classifier:</p>\n",
    "\n",
    "<ol>\n",
    "    <li><u><i>Boosting</i></u>: Gradient Boosting belongs to the family of boosting algorithms, where weak learners are combined to create a strong learner. Weak learners are typically shallow decision trees (also known as weak learners or base learners).</li>\n",
    "    <li><u><i>Sequential Training</i></u>: Trees are added sequentially to the ensemble, and each new tree focuses on correcting the errors of the combined model so far. The output of the entire ensemble is the sum of the outputs of all the individual trees.</li>\n",
    "    <li><u><i>Gradient Descent</i></u>: The \"Gradient\" in Gradient Boosting refers to the use of gradient descent optimization to minimize a loss function. The algorithm minimizes the loss by adjusting the parameters (weights) of the weak learners.</li>\n",
    "    <li><u><i>Regularization</i></u>: Gradient Boosting includes regularization techniques to prevent overfitting, such as controlling the depth of individual trees or adding a penalty term.</li>\n",
    "    <li><u><i>XGBoost</i></u>: XGBoost is an optimized and efficient implementation of Gradient Boosting. It includes additional features like regularization, parallel processing, and handling missing values, making it widely used in competitions and real-world applications.</li>\n",
    "    <li><u><i>Hyperparameter Tuning</i></u>: Gradient Boosting models have several hyperparameters that can be tuned to optimize performance. Common hyperparameters include learning rate, tree depth, number of trees, and regularization parameters.</li>\n",
    "    <li><u><i>Feature Importance</i></u>: Gradient Boosting models can provide insights into feature importance, helping you understand which features contribute the most to the model's predictions.</li>\n",
    "</ol>"
   ]
  },
  {
   "cell_type": "code",
   "execution_count": 20,
   "id": "0bf91482",
   "metadata": {
    "execution": {
     "iopub.execute_input": "2023-12-19T14:25:16.753281Z",
     "iopub.status.busy": "2023-12-19T14:25:16.752865Z",
     "iopub.status.idle": "2023-12-19T14:25:17.088133Z",
     "shell.execute_reply": "2023-12-19T14:25:17.086871Z"
    },
    "papermill": {
     "duration": 0.358205,
     "end_time": "2023-12-19T14:25:17.091992",
     "exception": false,
     "start_time": "2023-12-19T14:25:16.733787",
     "status": "completed"
    },
    "tags": []
   },
   "outputs": [],
   "source": [
    "# Import the XGBClassifier from the XGBoost library:\n",
    "from xgboost import XGBClassifier\n",
    "\n",
    "# Initialize an XGBoost classifier with a random seed for reproducibility:\n",
    "xgb = XGBClassifier(random_state=42)\n",
    "\n",
    "# Train (fit) the XGBoost classifier on the training data:\n",
    "xgb.fit(X_train, y_train)\n",
    "\n",
    "# Use the trained model to make predictions on the test set:\n",
    "xgb_pred = xgb.predict(X_test)"
   ]
  },
  {
   "cell_type": "markdown",
   "id": "f74daf00",
   "metadata": {
    "papermill": {
     "duration": 0.018248,
     "end_time": "2023-12-19T14:25:17.129090",
     "exception": false,
     "start_time": "2023-12-19T14:25:17.110842",
     "status": "completed"
    },
    "tags": []
   },
   "source": [
    "### <u><i>5. Naive Bayes Classification</i></u>:\n",
    "<p>Naive Bayes is a simple probabilistic classifier that applies Bayes’ theorem with strong (naive) assumption of independence, such that the presence of an individual feature of a class is unrelated to the presence of another feature.</p>\n",
    "<p>Assume that input features $x_1$, $x_2$, ..., $x_n$, are conditionally independent of each other, given the class label $Y$, such that:</p>\n",
    "<p>$P(x_1,x_2,...,x_n|Y)=\\prod_{i=1}^{n}P(x_i|Y)$</p>\n",
    "<p>Therefore, if we only had two classes, like in our problem, then we would define $P(i|x)$, for $i=0,1$ as the probability that measurement vector $x=\\{x_1, x_2, ..., x_n\\}$ belongs to class $i$. While the classification score would be defined as:</p>\n",
    "<p>$\\frac{P(1|x)}{P(0|x)}=\\frac{\\prod_{i=1}^{n}f(x_i|1)P(1)}{\\prod_{i=1}^{n}f(x_i|0)P(0)}=\\frac{P(1)}{P(0)}\\prod_{i=1}^{n}\\frac{f(x_i|1)}{f(x_i|0)}$</p>\n",
    "<p>The naive Bayes model is surprisingly effective and immensely appealing, owing to its simplicity and robustness. Because this algorithm does not require application of complex iterative parameter estimation schemes to large datasets, it is very useful and relatively easy to construct and use. It's somewhat similar to <strong>K-Nearest Neighbors</strong> in the sense that it makes some assumptions that might oversimplify reality, but still, it performs well in many cases.</p>"
   ]
  },
  {
   "cell_type": "code",
   "execution_count": 21,
   "id": "145f39d4",
   "metadata": {
    "execution": {
     "iopub.execute_input": "2023-12-19T14:25:17.169352Z",
     "iopub.status.busy": "2023-12-19T14:25:17.168726Z",
     "iopub.status.idle": "2023-12-19T14:25:17.181972Z",
     "shell.execute_reply": "2023-12-19T14:25:17.180753Z"
    },
    "papermill": {
     "duration": 0.038052,
     "end_time": "2023-12-19T14:25:17.185110",
     "exception": false,
     "start_time": "2023-12-19T14:25:17.147058",
     "status": "completed"
    },
    "tags": []
   },
   "outputs": [],
   "source": [
    "# Import the Gaussian Naive Bayes classifier from scikit-learn:\n",
    "from sklearn.naive_bayes import GaussianNB\n",
    "\n",
    "# Initialize a Gaussian Naive Bayes classifier:\n",
    "NB = GaussianNB()\n",
    "\n",
    "# Train the Naive Bayes classifier using the training data:\n",
    "NB.fit(X_train, y_train)\n",
    "\n",
    "# Use the trained model to make predictions on the test data:\n",
    "nb_pred = NB.predict(X_test)"
   ]
  },
  {
   "cell_type": "markdown",
   "id": "7cc6535b",
   "metadata": {
    "papermill": {
     "duration": 0.017152,
     "end_time": "2023-12-19T14:25:17.220437",
     "exception": false,
     "start_time": "2023-12-19T14:25:17.203285",
     "status": "completed"
    },
    "tags": []
   },
   "source": [
    "### <u><i>6. Support Vector Machine</i></u>:\n",
    "<p><strong>Support Vector Machine</strong> is a powerful, highly flexible modeling technique. It classifies the data by finding the hyperplane (meaning an <i>n – 1</i> subspace in an <i>n</i>-dimensional space) that maximizes the margin between the classes in the training data. In two dimensions, for example, the hyperplane is a line that separates the data. Thus, a good separation is achieved by the hyperplane that has the largest distance to the nearest training-data point of any class.</p>"
   ]
  },
  {
   "cell_type": "code",
   "execution_count": 22,
   "id": "2202009c",
   "metadata": {
    "execution": {
     "iopub.execute_input": "2023-12-19T14:25:17.258815Z",
     "iopub.status.busy": "2023-12-19T14:25:17.258387Z",
     "iopub.status.idle": "2023-12-19T14:25:17.297957Z",
     "shell.execute_reply": "2023-12-19T14:25:17.296668Z"
    },
    "papermill": {
     "duration": 0.061199,
     "end_time": "2023-12-19T14:25:17.300555",
     "exception": false,
     "start_time": "2023-12-19T14:25:17.239356",
     "status": "completed"
    },
    "tags": []
   },
   "outputs": [],
   "source": [
    "# Import the Support Vector Classification (SVC) class from the scikit-learn library:\n",
    "from sklearn.svm import SVC\n",
    "\n",
    "# Create a Support Vector Machine (SVM) classifier with a radial basis function (RBF) kernel:\n",
    "svm = SVC(kernel='rbf', random_state=0)\n",
    "\n",
    "# Train the SVM model on the training data:\n",
    "svm.fit(X_train, y_train)\n",
    "\n",
    "# Use the trained SVM model to make predictions on the test data:\n",
    "svm_pred = svm.predict(X_test)"
   ]
  },
  {
   "cell_type": "markdown",
   "id": "180bc7fe",
   "metadata": {
    "papermill": {
     "duration": 0.018618,
     "end_time": "2023-12-19T14:25:17.336750",
     "exception": false,
     "start_time": "2023-12-19T14:25:17.318132",
     "status": "completed"
    },
    "tags": []
   },
   "source": [
    "### <u><i>7. Artificial Neural Networks (ANN)</i></u>:\n",
    "<p><strong>Artificial Neural Network</strong> (<i>ANN</i>) is an efficient computing system whose central theme is borrowed from the analogy of biological neural networks. It incorporates a set of interconnected nodes that operate in parallel at each layer of the program. Its complexity depends on the architecture that we shall provide it each time. At this time and for this rather simple problem, we shall require a simple <i>Sequential</i> model, which is very straightforward (a simple list of layers), but is limited to single-input, single-output stacks of layers (as the name gives away).</p> \n",
    "<p>At this point we shall choose to use 4 layers in total (one input, one hidden) with 64 nodes in the first two and 32 in the last two, as well as an output layer of one value as the <i>Sequential</i> model requires. Since this is a simple classification, the output layer will be a <i>sigmoid</i> function.</p>\n",
    "<p>We shall also standardize the features, and here's why:</p>\n",
    "<ol>\n",
    "    <li><u><i>Gradient Descent Convergence</i></u>: Standardizing features helps gradient descent converge faster. When features have different scales, the optimizer may take longer to find the optimal weights and biases during training.</li>\n",
    "    <li><u><i>Weight Initialization</i></u>: Standardizing features can aid in weight initialization. When features are on different scales, the initial weights assigned to the network may lead to slow convergence or vanishing/exploding gradients.</li>\n",
    "    <li><u><i>Numerical Stability</i></u>: Standardization improves numerical stability in the computations performed during training. Large input values can result in very large or very small intermediate values, leading to numerical instability.</li>\n",
    "    <li><u><i>Model Interpretability</i></u>: Standardized features make it easier to interpret the impact of each feature on the model. The importance of features is more consistent when they are on the same scale.</li>\n",
    "    <li><u><i>Regularization</i></u>: Regularization techniques, such as L1 or L2 regularization, assume that all features have a similar scale. Standardizing features ensures that regularization penalties are applied uniformly across all features.</li>\n",
    "    <li><u><i>ANN Activation Functions</i></u>: Some activation functions, like the sigmoid or tanh, are sensitive to the scale of the input. Standardizing features can prevent saturation of these functions, allowing the network to capture more nuanced patterns.</li>\n",
    "    <li><u><i>Compatibility with Batch Normalization</i></u>: If you use batch normalization layers in your neural network, standardizing features can make the training process more stable and effective.</li>\n",
    "</ol>"
   ]
  },
  {
   "cell_type": "code",
   "execution_count": 23,
   "id": "03fb52b2",
   "metadata": {
    "execution": {
     "iopub.execute_input": "2023-12-19T14:25:17.377305Z",
     "iopub.status.busy": "2023-12-19T14:25:17.376902Z",
     "iopub.status.idle": "2023-12-19T14:25:47.071851Z",
     "shell.execute_reply": "2023-12-19T14:25:47.070659Z"
    },
    "papermill": {
     "duration": 29.718268,
     "end_time": "2023-12-19T14:25:47.074471",
     "exception": false,
     "start_time": "2023-12-19T14:25:17.356203",
     "status": "completed"
    },
    "tags": []
   },
   "outputs": [
    {
     "name": "stdout",
     "output_type": "stream",
     "text": [
      "Epoch 1/200\n",
      "28/28 [==============================] - 1s 3ms/step - loss: 0.6254 - accuracy: 0.6824\n",
      "Epoch 2/200\n",
      "28/28 [==============================] - 0s 2ms/step - loss: 0.4784 - accuracy: 0.7868\n",
      "Epoch 3/200\n",
      "28/28 [==============================] - 0s 2ms/step - loss: 0.4305 - accuracy: 0.8182\n",
      "Epoch 4/200\n",
      "28/28 [==============================] - 0s 2ms/step - loss: 0.4210 - accuracy: 0.8238\n",
      "Epoch 5/200\n",
      "28/28 [==============================] - 0s 2ms/step - loss: 0.4089 - accuracy: 0.8260\n",
      "Epoch 6/200\n",
      "28/28 [==============================] - 0s 2ms/step - loss: 0.4090 - accuracy: 0.8227\n",
      "Epoch 7/200\n",
      "28/28 [==============================] - 0s 2ms/step - loss: 0.4009 - accuracy: 0.8294\n",
      "Epoch 8/200\n",
      "28/28 [==============================] - 0s 3ms/step - loss: 0.3965 - accuracy: 0.8361\n",
      "Epoch 9/200\n",
      "28/28 [==============================] - 0s 3ms/step - loss: 0.3944 - accuracy: 0.8316\n",
      "Epoch 10/200\n",
      "28/28 [==============================] - 0s 2ms/step - loss: 0.3919 - accuracy: 0.8384\n",
      "Epoch 11/200\n",
      "28/28 [==============================] - 0s 2ms/step - loss: 0.3835 - accuracy: 0.8384\n",
      "Epoch 12/200\n",
      "28/28 [==============================] - 0s 2ms/step - loss: 0.3861 - accuracy: 0.8361\n",
      "Epoch 13/200\n",
      "28/28 [==============================] - 0s 2ms/step - loss: 0.3883 - accuracy: 0.8339\n",
      "Epoch 14/200\n",
      "28/28 [==============================] - 0s 2ms/step - loss: 0.3806 - accuracy: 0.8462\n",
      "Epoch 15/200\n",
      "28/28 [==============================] - 0s 2ms/step - loss: 0.3812 - accuracy: 0.8395\n",
      "Epoch 16/200\n",
      "28/28 [==============================] - 0s 2ms/step - loss: 0.3776 - accuracy: 0.8384\n",
      "Epoch 17/200\n",
      "28/28 [==============================] - 0s 2ms/step - loss: 0.3735 - accuracy: 0.8440\n",
      "Epoch 18/200\n",
      "28/28 [==============================] - 0s 3ms/step - loss: 0.3697 - accuracy: 0.8440\n",
      "Epoch 19/200\n",
      "28/28 [==============================] - 0s 2ms/step - loss: 0.3699 - accuracy: 0.8406\n",
      "Epoch 20/200\n",
      "28/28 [==============================] - 0s 2ms/step - loss: 0.3676 - accuracy: 0.8429\n",
      "Epoch 21/200\n",
      "28/28 [==============================] - 0s 2ms/step - loss: 0.3698 - accuracy: 0.8339\n",
      "Epoch 22/200\n",
      "28/28 [==============================] - 0s 2ms/step - loss: 0.3683 - accuracy: 0.8384\n",
      "Epoch 23/200\n",
      "28/28 [==============================] - 0s 2ms/step - loss: 0.3645 - accuracy: 0.8418\n",
      "Epoch 24/200\n",
      "28/28 [==============================] - 0s 2ms/step - loss: 0.3603 - accuracy: 0.8418\n",
      "Epoch 25/200\n",
      "28/28 [==============================] - 0s 2ms/step - loss: 0.3612 - accuracy: 0.8541\n",
      "Epoch 26/200\n",
      "28/28 [==============================] - 0s 2ms/step - loss: 0.3599 - accuracy: 0.8507\n",
      "Epoch 27/200\n",
      "28/28 [==============================] - 0s 2ms/step - loss: 0.3611 - accuracy: 0.8440\n",
      "Epoch 28/200\n",
      "28/28 [==============================] - 0s 2ms/step - loss: 0.3596 - accuracy: 0.8429\n",
      "Epoch 29/200\n",
      "28/28 [==============================] - 0s 2ms/step - loss: 0.3544 - accuracy: 0.8462\n",
      "Epoch 30/200\n",
      "28/28 [==============================] - 0s 2ms/step - loss: 0.3588 - accuracy: 0.8462\n",
      "Epoch 31/200\n",
      "28/28 [==============================] - 0s 2ms/step - loss: 0.3553 - accuracy: 0.8440\n",
      "Epoch 32/200\n",
      "28/28 [==============================] - 0s 2ms/step - loss: 0.3528 - accuracy: 0.8519\n",
      "Epoch 33/200\n",
      "28/28 [==============================] - 0s 2ms/step - loss: 0.3548 - accuracy: 0.8563\n",
      "Epoch 34/200\n",
      "28/28 [==============================] - 0s 2ms/step - loss: 0.3600 - accuracy: 0.8541\n",
      "Epoch 35/200\n",
      "28/28 [==============================] - 0s 3ms/step - loss: 0.3517 - accuracy: 0.8507\n",
      "Epoch 36/200\n",
      "28/28 [==============================] - 0s 5ms/step - loss: 0.3495 - accuracy: 0.8552\n",
      "Epoch 37/200\n",
      "28/28 [==============================] - 0s 3ms/step - loss: 0.3516 - accuracy: 0.8485\n",
      "Epoch 38/200\n",
      "28/28 [==============================] - 0s 3ms/step - loss: 0.3467 - accuracy: 0.8462\n",
      "Epoch 39/200\n",
      "28/28 [==============================] - 0s 2ms/step - loss: 0.3386 - accuracy: 0.8451\n",
      "Epoch 40/200\n",
      "28/28 [==============================] - 0s 2ms/step - loss: 0.3435 - accuracy: 0.8586\n",
      "Epoch 41/200\n",
      "28/28 [==============================] - 0s 2ms/step - loss: 0.3491 - accuracy: 0.8530\n",
      "Epoch 42/200\n",
      "28/28 [==============================] - 0s 2ms/step - loss: 0.3415 - accuracy: 0.8597\n",
      "Epoch 43/200\n",
      "28/28 [==============================] - 0s 2ms/step - loss: 0.3425 - accuracy: 0.8563\n",
      "Epoch 44/200\n",
      "28/28 [==============================] - 0s 2ms/step - loss: 0.3419 - accuracy: 0.8530\n",
      "Epoch 45/200\n",
      "28/28 [==============================] - 0s 2ms/step - loss: 0.3368 - accuracy: 0.8552\n",
      "Epoch 46/200\n",
      "28/28 [==============================] - 0s 2ms/step - loss: 0.3448 - accuracy: 0.8485\n",
      "Epoch 47/200\n",
      "28/28 [==============================] - 0s 2ms/step - loss: 0.3449 - accuracy: 0.8519\n",
      "Epoch 48/200\n",
      "28/28 [==============================] - 0s 2ms/step - loss: 0.3490 - accuracy: 0.8507\n",
      "Epoch 49/200\n",
      "28/28 [==============================] - 0s 2ms/step - loss: 0.3386 - accuracy: 0.8485\n",
      "Epoch 50/200\n",
      "28/28 [==============================] - 0s 2ms/step - loss: 0.3328 - accuracy: 0.8586\n",
      "Epoch 51/200\n",
      "28/28 [==============================] - 0s 2ms/step - loss: 0.3360 - accuracy: 0.8507\n",
      "Epoch 52/200\n",
      "28/28 [==============================] - 0s 2ms/step - loss: 0.3317 - accuracy: 0.8586\n",
      "Epoch 53/200\n",
      "28/28 [==============================] - 0s 2ms/step - loss: 0.3275 - accuracy: 0.8586\n",
      "Epoch 54/200\n",
      "28/28 [==============================] - 0s 2ms/step - loss: 0.3274 - accuracy: 0.8597\n",
      "Epoch 55/200\n",
      "28/28 [==============================] - 0s 2ms/step - loss: 0.3279 - accuracy: 0.8507\n",
      "Epoch 56/200\n",
      "28/28 [==============================] - 0s 2ms/step - loss: 0.3254 - accuracy: 0.8541\n",
      "Epoch 57/200\n",
      "28/28 [==============================] - 0s 2ms/step - loss: 0.3243 - accuracy: 0.8530\n",
      "Epoch 58/200\n",
      "28/28 [==============================] - 0s 2ms/step - loss: 0.3283 - accuracy: 0.8563\n",
      "Epoch 59/200\n",
      "28/28 [==============================] - 0s 2ms/step - loss: 0.3254 - accuracy: 0.8507\n",
      "Epoch 60/200\n",
      "28/28 [==============================] - 0s 2ms/step - loss: 0.3203 - accuracy: 0.8653\n",
      "Epoch 61/200\n",
      "28/28 [==============================] - 0s 2ms/step - loss: 0.3159 - accuracy: 0.8687\n",
      "Epoch 62/200\n",
      "28/28 [==============================] - 0s 2ms/step - loss: 0.3242 - accuracy: 0.8653\n",
      "Epoch 63/200\n",
      "28/28 [==============================] - 0s 2ms/step - loss: 0.3254 - accuracy: 0.8575\n",
      "Epoch 64/200\n",
      "28/28 [==============================] - 0s 2ms/step - loss: 0.3180 - accuracy: 0.8620\n",
      "Epoch 65/200\n",
      "28/28 [==============================] - 0s 2ms/step - loss: 0.3226 - accuracy: 0.8631\n",
      "Epoch 66/200\n",
      "28/28 [==============================] - 0s 2ms/step - loss: 0.3145 - accuracy: 0.8754\n",
      "Epoch 67/200\n",
      "28/28 [==============================] - 0s 2ms/step - loss: 0.3269 - accuracy: 0.8575\n",
      "Epoch 68/200\n",
      "28/28 [==============================] - 0s 2ms/step - loss: 0.3192 - accuracy: 0.8563\n",
      "Epoch 69/200\n",
      "28/28 [==============================] - 0s 2ms/step - loss: 0.3158 - accuracy: 0.8608\n",
      "Epoch 70/200\n",
      "28/28 [==============================] - 0s 2ms/step - loss: 0.3161 - accuracy: 0.8664\n",
      "Epoch 71/200\n",
      "28/28 [==============================] - 0s 2ms/step - loss: 0.3129 - accuracy: 0.8608\n",
      "Epoch 72/200\n",
      "28/28 [==============================] - 0s 2ms/step - loss: 0.3079 - accuracy: 0.8664\n",
      "Epoch 73/200\n",
      "28/28 [==============================] - 0s 2ms/step - loss: 0.3119 - accuracy: 0.8597\n",
      "Epoch 74/200\n",
      "28/28 [==============================] - 0s 2ms/step - loss: 0.3103 - accuracy: 0.8642\n",
      "Epoch 75/200\n",
      "28/28 [==============================] - 0s 2ms/step - loss: 0.3085 - accuracy: 0.8765\n",
      "Epoch 76/200\n",
      "28/28 [==============================] - 0s 2ms/step - loss: 0.3007 - accuracy: 0.8709\n",
      "Epoch 77/200\n",
      "28/28 [==============================] - 0s 2ms/step - loss: 0.3089 - accuracy: 0.8732\n",
      "Epoch 78/200\n",
      "28/28 [==============================] - 0s 2ms/step - loss: 0.3085 - accuracy: 0.8709\n",
      "Epoch 79/200\n",
      "28/28 [==============================] - 0s 2ms/step - loss: 0.3063 - accuracy: 0.8631\n",
      "Epoch 80/200\n",
      "28/28 [==============================] - 0s 2ms/step - loss: 0.3049 - accuracy: 0.8698\n",
      "Epoch 81/200\n",
      "28/28 [==============================] - 0s 2ms/step - loss: 0.3029 - accuracy: 0.8698\n",
      "Epoch 82/200\n",
      "28/28 [==============================] - 0s 2ms/step - loss: 0.3040 - accuracy: 0.8765\n",
      "Epoch 83/200\n",
      "28/28 [==============================] - 0s 2ms/step - loss: 0.3021 - accuracy: 0.8777\n",
      "Epoch 84/200\n",
      "28/28 [==============================] - 0s 2ms/step - loss: 0.3067 - accuracy: 0.8687\n",
      "Epoch 85/200\n",
      "28/28 [==============================] - 0s 2ms/step - loss: 0.3021 - accuracy: 0.8687\n",
      "Epoch 86/200\n",
      "28/28 [==============================] - 0s 2ms/step - loss: 0.3034 - accuracy: 0.8687\n",
      "Epoch 87/200\n",
      "28/28 [==============================] - 0s 2ms/step - loss: 0.2969 - accuracy: 0.8709\n",
      "Epoch 88/200\n",
      "28/28 [==============================] - 0s 2ms/step - loss: 0.3016 - accuracy: 0.8709\n",
      "Epoch 89/200\n",
      "28/28 [==============================] - 0s 2ms/step - loss: 0.3061 - accuracy: 0.8653\n",
      "Epoch 90/200\n",
      "28/28 [==============================] - 0s 2ms/step - loss: 0.3007 - accuracy: 0.8608\n",
      "Epoch 91/200\n",
      "28/28 [==============================] - 0s 2ms/step - loss: 0.2989 - accuracy: 0.8676\n",
      "Epoch 92/200\n",
      "28/28 [==============================] - 0s 2ms/step - loss: 0.3081 - accuracy: 0.8631\n",
      "Epoch 93/200\n",
      "28/28 [==============================] - 0s 2ms/step - loss: 0.3035 - accuracy: 0.8642\n",
      "Epoch 94/200\n",
      "28/28 [==============================] - 0s 2ms/step - loss: 0.2975 - accuracy: 0.8721\n",
      "Epoch 95/200\n",
      "28/28 [==============================] - 0s 2ms/step - loss: 0.2932 - accuracy: 0.8743\n",
      "Epoch 96/200\n",
      "28/28 [==============================] - 0s 2ms/step - loss: 0.2909 - accuracy: 0.8799\n",
      "Epoch 97/200\n",
      "28/28 [==============================] - 0s 2ms/step - loss: 0.3049 - accuracy: 0.8732\n",
      "Epoch 98/200\n",
      "28/28 [==============================] - 0s 2ms/step - loss: 0.3059 - accuracy: 0.8709\n",
      "Epoch 99/200\n",
      "28/28 [==============================] - 0s 2ms/step - loss: 0.2897 - accuracy: 0.8810\n",
      "Epoch 100/200\n",
      "28/28 [==============================] - 0s 2ms/step - loss: 0.2894 - accuracy: 0.8833\n",
      "Epoch 101/200\n",
      "28/28 [==============================] - 0s 2ms/step - loss: 0.2911 - accuracy: 0.8721\n",
      "Epoch 102/200\n",
      "28/28 [==============================] - 0s 2ms/step - loss: 0.2896 - accuracy: 0.8709\n",
      "Epoch 103/200\n",
      "28/28 [==============================] - 0s 2ms/step - loss: 0.2903 - accuracy: 0.8687\n",
      "Epoch 104/200\n",
      "28/28 [==============================] - 0s 2ms/step - loss: 0.2883 - accuracy: 0.8765\n",
      "Epoch 105/200\n",
      "28/28 [==============================] - 0s 2ms/step - loss: 0.2894 - accuracy: 0.8777\n",
      "Epoch 106/200\n",
      "28/28 [==============================] - 0s 2ms/step - loss: 0.2861 - accuracy: 0.8765\n",
      "Epoch 107/200\n",
      "28/28 [==============================] - 0s 2ms/step - loss: 0.2842 - accuracy: 0.8743\n",
      "Epoch 108/200\n",
      "28/28 [==============================] - 0s 2ms/step - loss: 0.2927 - accuracy: 0.8743\n",
      "Epoch 109/200\n",
      "28/28 [==============================] - 0s 2ms/step - loss: 0.2854 - accuracy: 0.8799\n",
      "Epoch 110/200\n",
      "28/28 [==============================] - 0s 2ms/step - loss: 0.2860 - accuracy: 0.8743\n",
      "Epoch 111/200\n",
      "28/28 [==============================] - 0s 2ms/step - loss: 0.2824 - accuracy: 0.8822\n",
      "Epoch 112/200\n",
      "28/28 [==============================] - 0s 2ms/step - loss: 0.2863 - accuracy: 0.8721\n",
      "Epoch 113/200\n",
      "28/28 [==============================] - 0s 2ms/step - loss: 0.2887 - accuracy: 0.8765\n",
      "Epoch 114/200\n",
      "28/28 [==============================] - 0s 3ms/step - loss: 0.2833 - accuracy: 0.8765\n",
      "Epoch 115/200\n",
      "28/28 [==============================] - 0s 2ms/step - loss: 0.2893 - accuracy: 0.8743\n",
      "Epoch 116/200\n",
      "28/28 [==============================] - 0s 2ms/step - loss: 0.2815 - accuracy: 0.8788\n",
      "Epoch 117/200\n",
      "28/28 [==============================] - 0s 2ms/step - loss: 0.2829 - accuracy: 0.8799\n",
      "Epoch 118/200\n",
      "28/28 [==============================] - 0s 2ms/step - loss: 0.2918 - accuracy: 0.8642\n",
      "Epoch 119/200\n",
      "28/28 [==============================] - 0s 2ms/step - loss: 0.2883 - accuracy: 0.8743\n",
      "Epoch 120/200\n",
      "28/28 [==============================] - 0s 2ms/step - loss: 0.2885 - accuracy: 0.8698\n",
      "Epoch 121/200\n",
      "28/28 [==============================] - 0s 2ms/step - loss: 0.2835 - accuracy: 0.8777\n",
      "Epoch 122/200\n",
      "28/28 [==============================] - 0s 2ms/step - loss: 0.2791 - accuracy: 0.8754\n",
      "Epoch 123/200\n",
      "28/28 [==============================] - 0s 2ms/step - loss: 0.2786 - accuracy: 0.8732\n",
      "Epoch 124/200\n",
      "28/28 [==============================] - 0s 2ms/step - loss: 0.2810 - accuracy: 0.8732\n",
      "Epoch 125/200\n",
      "28/28 [==============================] - 0s 2ms/step - loss: 0.2845 - accuracy: 0.8777\n",
      "Epoch 126/200\n",
      "28/28 [==============================] - 0s 2ms/step - loss: 0.2764 - accuracy: 0.8810\n",
      "Epoch 127/200\n",
      "28/28 [==============================] - 0s 2ms/step - loss: 0.2778 - accuracy: 0.8810\n",
      "Epoch 128/200\n",
      "28/28 [==============================] - 0s 2ms/step - loss: 0.2742 - accuracy: 0.8878\n",
      "Epoch 129/200\n",
      "28/28 [==============================] - 0s 2ms/step - loss: 0.2801 - accuracy: 0.8743\n",
      "Epoch 130/200\n",
      "28/28 [==============================] - 0s 2ms/step - loss: 0.2741 - accuracy: 0.8889\n",
      "Epoch 131/200\n",
      "28/28 [==============================] - 0s 2ms/step - loss: 0.2753 - accuracy: 0.8833\n",
      "Epoch 132/200\n",
      "28/28 [==============================] - 0s 2ms/step - loss: 0.2697 - accuracy: 0.8788\n",
      "Epoch 133/200\n",
      "28/28 [==============================] - 0s 2ms/step - loss: 0.2786 - accuracy: 0.8777\n",
      "Epoch 134/200\n",
      "28/28 [==============================] - 0s 2ms/step - loss: 0.2778 - accuracy: 0.8743\n",
      "Epoch 135/200\n",
      "28/28 [==============================] - 0s 2ms/step - loss: 0.2800 - accuracy: 0.8799\n",
      "Epoch 136/200\n",
      "28/28 [==============================] - 0s 2ms/step - loss: 0.2771 - accuracy: 0.8777\n",
      "Epoch 137/200\n",
      "28/28 [==============================] - 0s 2ms/step - loss: 0.2820 - accuracy: 0.8777\n",
      "Epoch 138/200\n",
      "28/28 [==============================] - 0s 2ms/step - loss: 0.2763 - accuracy: 0.8777\n",
      "Epoch 139/200\n",
      "28/28 [==============================] - 0s 3ms/step - loss: 0.2741 - accuracy: 0.8822\n",
      "Epoch 140/200\n",
      "28/28 [==============================] - 0s 2ms/step - loss: 0.2735 - accuracy: 0.8822\n",
      "Epoch 141/200\n",
      "28/28 [==============================] - 0s 2ms/step - loss: 0.2699 - accuracy: 0.8721\n",
      "Epoch 142/200\n",
      "28/28 [==============================] - 0s 2ms/step - loss: 0.2750 - accuracy: 0.8777\n",
      "Epoch 143/200\n",
      "28/28 [==============================] - 0s 2ms/step - loss: 0.2849 - accuracy: 0.8777\n",
      "Epoch 144/200\n",
      "28/28 [==============================] - 0s 2ms/step - loss: 0.2679 - accuracy: 0.8799\n",
      "Epoch 145/200\n",
      "28/28 [==============================] - 0s 2ms/step - loss: 0.2767 - accuracy: 0.8788\n",
      "Epoch 146/200\n",
      "28/28 [==============================] - 0s 3ms/step - loss: 0.2680 - accuracy: 0.8833\n",
      "Epoch 147/200\n",
      "28/28 [==============================] - 0s 3ms/step - loss: 0.2697 - accuracy: 0.8855\n",
      "Epoch 148/200\n",
      "28/28 [==============================] - 0s 2ms/step - loss: 0.2672 - accuracy: 0.8889\n",
      "Epoch 149/200\n",
      "28/28 [==============================] - 0s 2ms/step - loss: 0.2890 - accuracy: 0.8721\n",
      "Epoch 150/200\n",
      "28/28 [==============================] - 0s 2ms/step - loss: 0.2696 - accuracy: 0.8833\n",
      "Epoch 151/200\n",
      "28/28 [==============================] - 0s 2ms/step - loss: 0.2694 - accuracy: 0.8732\n",
      "Epoch 152/200\n",
      "28/28 [==============================] - 0s 3ms/step - loss: 0.2695 - accuracy: 0.8855\n",
      "Epoch 153/200\n",
      "28/28 [==============================] - 0s 2ms/step - loss: 0.2731 - accuracy: 0.8777\n",
      "Epoch 154/200\n",
      "28/28 [==============================] - 0s 2ms/step - loss: 0.2627 - accuracy: 0.8866\n",
      "Epoch 155/200\n",
      "28/28 [==============================] - 0s 2ms/step - loss: 0.2662 - accuracy: 0.8911\n",
      "Epoch 156/200\n",
      "28/28 [==============================] - 0s 2ms/step - loss: 0.2614 - accuracy: 0.8866\n",
      "Epoch 157/200\n",
      "28/28 [==============================] - 0s 2ms/step - loss: 0.2740 - accuracy: 0.8765\n",
      "Epoch 158/200\n",
      "28/28 [==============================] - 0s 2ms/step - loss: 0.2765 - accuracy: 0.8844\n",
      "Epoch 159/200\n",
      "28/28 [==============================] - 0s 3ms/step - loss: 0.2666 - accuracy: 0.8822\n",
      "Epoch 160/200\n",
      "28/28 [==============================] - 0s 3ms/step - loss: 0.2661 - accuracy: 0.8822\n",
      "Epoch 161/200\n",
      "28/28 [==============================] - 0s 3ms/step - loss: 0.2662 - accuracy: 0.8788\n",
      "Epoch 162/200\n",
      "28/28 [==============================] - 0s 2ms/step - loss: 0.2914 - accuracy: 0.8788\n",
      "Epoch 163/200\n",
      "28/28 [==============================] - 0s 2ms/step - loss: 0.2798 - accuracy: 0.8889\n",
      "Epoch 164/200\n",
      "28/28 [==============================] - 0s 2ms/step - loss: 0.2658 - accuracy: 0.8889\n",
      "Epoch 165/200\n",
      "28/28 [==============================] - 0s 2ms/step - loss: 0.2783 - accuracy: 0.8788\n",
      "Epoch 166/200\n",
      "28/28 [==============================] - 0s 2ms/step - loss: 0.2783 - accuracy: 0.8777\n",
      "Epoch 167/200\n",
      "28/28 [==============================] - 0s 2ms/step - loss: 0.2656 - accuracy: 0.8777\n",
      "Epoch 168/200\n",
      "28/28 [==============================] - 0s 2ms/step - loss: 0.2650 - accuracy: 0.8889\n",
      "Epoch 169/200\n",
      "28/28 [==============================] - 0s 2ms/step - loss: 0.2684 - accuracy: 0.8799\n",
      "Epoch 170/200\n",
      "28/28 [==============================] - 0s 2ms/step - loss: 0.2658 - accuracy: 0.8866\n",
      "Epoch 171/200\n",
      "28/28 [==============================] - 0s 2ms/step - loss: 0.2685 - accuracy: 0.8810\n",
      "Epoch 172/200\n",
      "28/28 [==============================] - 0s 2ms/step - loss: 0.2622 - accuracy: 0.8810\n",
      "Epoch 173/200\n",
      "28/28 [==============================] - 0s 2ms/step - loss: 0.2625 - accuracy: 0.8934\n",
      "Epoch 174/200\n",
      "28/28 [==============================] - 0s 2ms/step - loss: 0.2652 - accuracy: 0.8900\n",
      "Epoch 175/200\n",
      "28/28 [==============================] - 0s 2ms/step - loss: 0.2688 - accuracy: 0.8855\n",
      "Epoch 176/200\n",
      "28/28 [==============================] - 0s 2ms/step - loss: 0.2596 - accuracy: 0.8844\n",
      "Epoch 177/200\n",
      "28/28 [==============================] - 0s 2ms/step - loss: 0.2605 - accuracy: 0.8855\n",
      "Epoch 178/200\n",
      "28/28 [==============================] - 0s 2ms/step - loss: 0.2588 - accuracy: 0.8855\n",
      "Epoch 179/200\n",
      "28/28 [==============================] - 0s 2ms/step - loss: 0.2597 - accuracy: 0.8866\n",
      "Epoch 180/200\n",
      "28/28 [==============================] - 0s 2ms/step - loss: 0.2579 - accuracy: 0.8900\n",
      "Epoch 181/200\n",
      "28/28 [==============================] - 0s 2ms/step - loss: 0.2733 - accuracy: 0.8810\n",
      "Epoch 182/200\n",
      "28/28 [==============================] - 0s 2ms/step - loss: 0.2725 - accuracy: 0.8799\n",
      "Epoch 183/200\n",
      "28/28 [==============================] - 0s 2ms/step - loss: 0.2612 - accuracy: 0.8889\n",
      "Epoch 184/200\n",
      "28/28 [==============================] - 0s 2ms/step - loss: 0.2504 - accuracy: 0.8923\n",
      "Epoch 185/200\n",
      "28/28 [==============================] - 0s 2ms/step - loss: 0.2555 - accuracy: 0.8878\n",
      "Epoch 186/200\n",
      "28/28 [==============================] - 0s 2ms/step - loss: 0.2627 - accuracy: 0.8844\n",
      "Epoch 187/200\n",
      "28/28 [==============================] - 0s 2ms/step - loss: 0.2528 - accuracy: 0.8855\n",
      "Epoch 188/200\n",
      "28/28 [==============================] - 0s 2ms/step - loss: 0.2535 - accuracy: 0.8945\n",
      "Epoch 189/200\n",
      "28/28 [==============================] - 0s 2ms/step - loss: 0.2606 - accuracy: 0.8911\n",
      "Epoch 190/200\n",
      "28/28 [==============================] - 0s 2ms/step - loss: 0.2594 - accuracy: 0.8900\n",
      "Epoch 191/200\n",
      "28/28 [==============================] - 0s 2ms/step - loss: 0.2555 - accuracy: 0.8844\n",
      "Epoch 192/200\n",
      "28/28 [==============================] - 0s 2ms/step - loss: 0.2539 - accuracy: 0.8911\n",
      "Epoch 193/200\n",
      "28/28 [==============================] - 0s 5ms/step - loss: 0.2658 - accuracy: 0.8844\n",
      "Epoch 194/200\n",
      "28/28 [==============================] - 0s 3ms/step - loss: 0.2684 - accuracy: 0.8911\n",
      "Epoch 195/200\n",
      "28/28 [==============================] - 0s 2ms/step - loss: 0.2568 - accuracy: 0.8844\n",
      "Epoch 196/200\n",
      "28/28 [==============================] - 0s 2ms/step - loss: 0.2654 - accuracy: 0.8765\n",
      "Epoch 197/200\n",
      "28/28 [==============================] - 0s 2ms/step - loss: 0.2577 - accuracy: 0.8844\n",
      "Epoch 198/200\n",
      "28/28 [==============================] - 0s 2ms/step - loss: 0.2561 - accuracy: 0.8900\n",
      "Epoch 199/200\n",
      "28/28 [==============================] - 0s 2ms/step - loss: 0.2547 - accuracy: 0.8878\n",
      "Epoch 200/200\n",
      "28/28 [==============================] - 0s 3ms/step - loss: 0.2489 - accuracy: 0.8878\n",
      "14/14 [==============================] - 0s 1ms/step\n"
     ]
    }
   ],
   "source": [
    "# Import necessary libraries:\n",
    "import tensorflow as tf\n",
    "from sklearn.preprocessing import StandardScaler\n",
    "from tensorflow import keras\n",
    "from tensorflow.keras import layers\n",
    "\n",
    "# Standardize features using StandardScaler:\n",
    "scaler = StandardScaler()\n",
    "X_train_scaled = scaler.fit_transform(X_train)\n",
    "X_test_scaled = scaler.transform(X_test)\n",
    "\n",
    "# Build the neural network model using Keras Sequential API:\n",
    "ann = keras.Sequential([\n",
    "    layers.Dense(64, activation='relu', input_shape=(X_train.shape[1],)),  # Input layer with 64 neurons and ReLU activation\n",
    "    layers.Dense(64, activation='relu'),  # Hidden layer with 64 neurons and ReLU activation\n",
    "    layers.Dense(32, activation='relu'),  # Hidden layer with 32 neurons and ReLU activation\n",
    "    layers.Dense(32, activation='relu'),  # Hidden layer with 32 neurons and ReLU activation\n",
    "    layers.Dense(1, activation='sigmoid')  # Output layer with 1 neuron (binary classification) and sigmoid activation\n",
    "])\n",
    "\n",
    "# Compile the model using binary crossentropy loss and Adam optimizer:\n",
    "ann.compile(optimizer='adam', loss='binary_crossentropy', metrics=['accuracy'])\n",
    "\n",
    "# Train the model on the scaled training data with 200 epochs and a batch size of 32:\n",
    "ann.fit(X_train_scaled, y_train, epochs=200, batch_size=32)\n",
    "\n",
    "# Evaluate the trained model on the scaled test set:\n",
    "y_pred_probs = ann.predict(X_test_scaled)\n",
    "\n",
    "# Convert probabilities to binary predictions using a threshold (e.g., 0.5):\n",
    "threshold = 0.5\n",
    "ann_pred = np.ravel((y_pred_probs > threshold).astype(int))"
   ]
  },
  {
   "cell_type": "markdown",
   "id": "381fbfea",
   "metadata": {
    "papermill": {
     "duration": 0.069873,
     "end_time": "2023-12-19T14:25:47.211089",
     "exception": false,
     "start_time": "2023-12-19T14:25:47.141216",
     "status": "completed"
    },
    "tags": []
   },
   "source": [
    "### <u><i>8. Random Forest Classification with Cross-Validation</i></u>:\n",
    "<p><strong>Random Forest Classification with Cross-Validation</strong> is a powerful and widely used machine learning technique for predictive modeling. Random Forest is an ensemble learning method that combines the predictions of multiple decision trees to improve accuracy and robustness. Each tree is trained on a random subset of the training data and makes independent predictions. The final prediction is then determined by aggregating the results of individual trees, often through a majority voting mechanism.</p>\n",
    "<p>Cross-validation is a crucial component when working with Random Forests to assess their performance and generalization capabilities. Cross-validation involves splitting the dataset into multiple subsets, typically k-folds, where the model is trained on k-1 folds and validated on the remaining fold. This process is repeated k times, and performance metrics are averaged to provide a more reliable estimate of the model's effectiveness.</p>\n",
    "<p>The combination of Random Forest and Cross-Validation addresses several key issues in machine learning, such as overfitting and variability in model performance. Random Forest helps reduce overfitting by introducing randomness in the training process, and cross-validation provides a more robust evaluation of the model's performance by testing it on different subsets of the data.</p>\n",
    "<p>Benefits of <strong>Random Forest Classification with Cross-Validation</strong> include:</p>\n",
    "<ol>\n",
    "    <li><u><i>Improved Generalization</i></u>: Random Forests are less prone to overfitting, making them well-suited for a wide range of datasets.</li>\n",
    "    <li><u><i>High Accuracy</i></u>: The ensemble nature of Random Forests often results in higher predictive accuracy compared to individual decision trees.</li>\n",
    "    <li><u><i>Feature Importance</i></u>: Random Forests provide a measure of feature importance, helping to identify the most influential features in the dataset.</li>\n",
    "    <li><u><i>Robustness</i></u>: The combination of randomness and cross-validation enhances the model's robustness, making it more reliable across different subsets of the data.</li>\n",
    "    <li><u><i>Versatility</i></u>: Random Forests can be applied to both classification and regression problems, making them versatile for various tasks.</li>\n",
    "</ol>\n",
    "<p>In summary, Random Forest Classification with Cross-Validation is a potent approach in machine learning, offering improved accuracy, robustness, and generalization. It is particularly useful when dealing with complex datasets and scenarios where overfitting is a concern.</p>"
   ]
  },
  {
   "cell_type": "code",
   "execution_count": 24,
   "id": "acc07df2",
   "metadata": {
    "execution": {
     "iopub.execute_input": "2023-12-19T14:25:47.348486Z",
     "iopub.status.busy": "2023-12-19T14:25:47.347339Z",
     "iopub.status.idle": "2023-12-19T14:26:42.582274Z",
     "shell.execute_reply": "2023-12-19T14:26:42.581318Z"
    },
    "papermill": {
     "duration": 55.368043,
     "end_time": "2023-12-19T14:26:42.646706",
     "exception": false,
     "start_time": "2023-12-19T14:25:47.278663",
     "status": "completed"
    },
    "tags": []
   },
   "outputs": [
    {
     "name": "stdout",
     "output_type": "stream",
     "text": [
      "Best Model Hyperparameters: {'criterion': 'entropy', 'max_depth': 4, 'max_features': 'sqrt', 'n_estimators': 200}\n"
     ]
    }
   ],
   "source": [
    "# Import necessary libraries from scikit-learn:\n",
    "from sklearn.ensemble import RandomForestClassifier\n",
    "from sklearn.model_selection import GridSearchCV\n",
    "\n",
    "# Initialize a RandomForestClassifier with specified parameters:\n",
    "rfc = RandomForestClassifier(random_state=42, \n",
    "                             n_jobs=-1 # Use all processors.\n",
    "                            )\n",
    "\n",
    "# Define the parameter grid for hyperparameter tuning using GridSearchCV:\n",
    "param_grid = { \n",
    "    'n_estimators': [50, 80, 100, 200],  # The number of trees in the forest.\n",
    "    'max_features': ['sqrt'],  # The number of features to consider when looking for the best split.\n",
    "    'max_depth' : [2, 3, 4, 5],  # The maximum depth of the individual regression estimators.\n",
    "    'criterion' :['gini', 'entropy']  # Function to measure the quality of a split.\n",
    "}\n",
    "\n",
    "# Initialize GridSearchCV with the RandomForestClassifier and parameter grid:\n",
    "# (use 5-fold cross-validation and accuracy as the scoring metric).\n",
    "cv_rfc = GridSearchCV(estimator=rfc, param_grid=param_grid, cv=5, scoring='accuracy')\n",
    "\n",
    "# Fit the model to the training data:\n",
    "cv_rfc.fit(X_train, y_train)\n",
    "\n",
    "# Print the best hyperparameters found by GridSearchCV:\n",
    "print('Best Model Hyperparameters:', cv_rfc.best_params_)\n",
    "\n",
    "# Make predictions on the test data using the best model:\n",
    "cv_rfc_pred = cv_rfc.predict(X_test)"
   ]
  },
  {
   "cell_type": "markdown",
   "id": "84f72088",
   "metadata": {
    "papermill": {
     "duration": 0.067501,
     "end_time": "2023-12-19T14:26:42.783511",
     "exception": false,
     "start_time": "2023-12-19T14:26:42.716010",
     "status": "completed"
    },
    "tags": []
   },
   "source": [
    "### <u><i>9. Support Vector Machine with Cross-Validation</i></u>:\n",
    "<p>Support Vector Machine (SVM) is a powerful and versatile machine learning algorithm used for both classification and regression tasks. One crucial aspect in training an SVM model is determining the appropriate hyperparameters, such as the regularization parameter (C) and the kernel type. Cross-validation is a key technique employed to find the optimal set of hyperparameters for SVM models.</p>\n",
    "<p>Cross-validation involves partitioning the dataset into multiple subsets, training the model on a subset, and validating it on the remaining data. This process is repeated several times, with different subsets used for training and validation in each iteration. One common method for cross-validation is k-fold cross-validation, where the dataset is divided into k equally sized folds, and the model is trained and evaluated k times, each time using a different fold as the validation set.</p>\n",
    "<p>For SVM, cross-validation helps in tuning hyperparameters to achieve better generalization performance. It prevents overfitting by assessing the model's performance on various subsets of the data, ensuring that the model's performance is not overly dependent on a specific training-test split.</p>\n",
    "<p>During cross-validation, the SVM algorithm explores different combinations of hyperparameters, and the performance metrics (such as accuracy, precision, or F1-score) are averaged over the k iterations. This provides a more robust estimate of the model's performance and helps to identify the hyperparameter values that result in the best overall performance on the given dataset.</p>\n",
    "<p>In summary, <strong>Support Vector Machines with Cross-Validation</strong> is a systematic approach to fine-tune SVM models, enhancing their ability to generalize well to unseen data and improving their reliability in real-world applications. It is an essential step in the model development process to ensure that the SVM model performs optimally across different data subsets.</p>"
   ]
  },
  {
   "cell_type": "code",
   "execution_count": 25,
   "id": "d9136509",
   "metadata": {
    "execution": {
     "iopub.execute_input": "2023-12-19T14:26:42.924610Z",
     "iopub.status.busy": "2023-12-19T14:26:42.924162Z",
     "iopub.status.idle": "2023-12-19T14:27:12.750767Z",
     "shell.execute_reply": "2023-12-19T14:27:12.749141Z"
    },
    "papermill": {
     "duration": 29.898968,
     "end_time": "2023-12-19T14:27:12.753298",
     "exception": false,
     "start_time": "2023-12-19T14:26:42.854330",
     "status": "completed"
    },
    "tags": []
   },
   "outputs": [
    {
     "name": "stdout",
     "output_type": "stream",
     "text": [
      "Best Model Hyperparameters: SVC(C=10, gamma=0.1)\n"
     ]
    }
   ],
   "source": [
    "# Import necessary libraries:\n",
    "from sklearn.svm import SVC\n",
    "from sklearn.model_selection import GridSearchCV\n",
    "\n",
    "# Create a Support Vector Machine (SVM) classifier:\n",
    "cv_svm = SVC()\n",
    "\n",
    "# Define the hyperparameter grid for GridSearchCV:\n",
    "param_grid = {'C': [0.1, 1, 10, 100], 'kernel': ['linear', 'rbf'], 'gamma': [0.1, 0.01, 0.001]}\n",
    "\n",
    "# Create a GridSearchCV object with SVM classifier, hyperparameter grid:\n",
    "# (use 10-fold cross-validation, and accuracy scoring):\n",
    "grid_search = GridSearchCV(cv_svm, param_grid, cv=5, scoring='accuracy')\n",
    "\n",
    "# Fit the GridSearchCV object on the training data to find the best hyperparameters:\n",
    "grid_search.fit(X_train, y_train)\n",
    "\n",
    "# Print the best hyperparameters found by GridSearchCV:\n",
    "print(\"Best Model Hyperparameters:\", grid_search.best_estimator_)\n",
    "\n",
    "# Retrieve the best model from the grid search:\n",
    "best_model = grid_search.best_estimator_\n",
    "\n",
    "# Make predictions on the test data using the best model:\n",
    "cv_svm_pred = best_model.predict(X_test)"
   ]
  },
  {
   "cell_type": "markdown",
   "id": "b0d8fe30",
   "metadata": {
    "papermill": {
     "duration": 0.068163,
     "end_time": "2023-12-19T14:27:12.891483",
     "exception": false,
     "start_time": "2023-12-19T14:27:12.823320",
     "status": "completed"
    },
    "tags": []
   },
   "source": [
    "### <u><i>10. Stacking Classifier</i></u>:\n",
    "<p>A <strong>Stacking Classifier</strong> is an ensemble learning technique that combines multiple base classifiers to create a meta-model that makes predictions based on the collective outputs of the base classifiers. This approach aims to improve the overall performance and robustness of the predictive model by leveraging the strengths of different individual classifiers.</p>\n",
    "<p>Here's an overview of how a Stacking Classifier typically works:</p>\n",
    "<ol>\n",
    "    <li><u><i>Base Classifiers</i></u>: Multiple diverse base classifiers are trained independently on the same dataset. These base classifiers can be of different types or may use different algorithms. Examples of base classifiers include Decision Trees, Support Vector Machines, Random Forests, Gradient Boosting Machines, k-Nearest Neighbors, and more.</li>\n",
    "    <li><u><i>First-Level Predictions</i></u>: Each base classifier makes predictions on the input data, and these predictions serve as the first-level predictions.</li>\n",
    "    <li><u><i>Meta-Model (Stacking Layer)</i></u>: A meta-model, often referred to as the \"stacker\" or \"meta-classifier,\" is trained on the first-level predictions. This meta-model takes the outputs of the base classifiers as input features. The meta-model learns to combine the first-level predictions and produce a final output that ideally improves the overall predictive performance.</li>\n",
    "    <li><u><i>Final Prediction</i></u>: When making predictions on new, unseen data, the input is first passed through each base classifier to obtain their individual predictions.\n",
    "        The first-level predictions are then input into the meta-model, and the meta-model produces the final prediction.</li>\n",
    "</ol>\n",
    "<p>Advantages of Stacking Classifier:</p>\n",
    "<ul>\n",
    "    <li><u><i>Improved Performance</i></u>: Stacking allows the model to capture complex relationships in the data by combining the strengths of different base classifiers.</li>\n",
    "    <li><u><i>Robustness</i></u>: By using multiple diverse models, the ensemble is less sensitive to noise and outliers compared to individual models.</li>\n",
    "    <li><u><i>Flexibility</i></u>: Different algorithms and models can be used as base classifiers, providing flexibility in model selection.</li>\n",
    "    <li><u><i>Adaptability</i></u>: Stacking can be extended to multiple layers, creating more sophisticated ensemble architectures.</li>\n",
    "</ul>\n",
    "<p>However, it's important to note that stacking may also introduce additional complexity, and proper tuning is required to achieve optimal performance. Cross-validation is often used to train and evaluate the stacking ensemble, ensuring that it generalizes well to new, unseen data.</p>\n",
    "<p>In summary, a Stacking Classifier is a powerful technique that combines the predictions of multiple base classifiers to create a meta-model, offering improved predictive performance and robustness compared to individual models.</p>"
   ]
  },
  {
   "cell_type": "code",
   "execution_count": 26,
   "id": "7d156293",
   "metadata": {
    "execution": {
     "iopub.execute_input": "2023-12-19T14:27:13.030010Z",
     "iopub.status.busy": "2023-12-19T14:27:13.029284Z",
     "iopub.status.idle": "2023-12-19T14:27:31.840956Z",
     "shell.execute_reply": "2023-12-19T14:27:31.839578Z"
    },
    "papermill": {
     "duration": 18.88615,
     "end_time": "2023-12-19T14:27:31.844613",
     "exception": false,
     "start_time": "2023-12-19T14:27:12.958463",
     "status": "completed"
    },
    "tags": []
   },
   "outputs": [],
   "source": [
    "from sklearn.ensemble import StackingClassifier\n",
    "from sklearn.neural_network import MLPClassifier\n",
    "\n",
    "# Define individual classifier for ANN as it's not callable.\n",
    "ann_classifier = MLPClassifier(random_state=42, max_iter=1000)\n",
    "\n",
    "# Create a Stacking Classifier with Random Forest as the final estimator\n",
    "stacking_classifier_rf_final = StackingClassifier(\n",
    "    estimators=[\n",
    "        ('logreg', LR),\n",
    "        ('knn', knn),\n",
    "        ('rf', rf),\n",
    "        ('xgb', xgb),\n",
    "        ('nb', NB),\n",
    "        ('svm', svm),\n",
    "        ('ann', ann_classifier)\n",
    "    ],\n",
    "    final_estimator=RandomForestClassifier(n_estimators=100, random_state=42)\n",
    ")\n",
    "\n",
    "# Fit the Stacking Classifier to the training data\n",
    "stacking_classifier_rf_final.fit(X_train, y_train)\n",
    "\n",
    "# Make predictions on the test set\n",
    "stack_pred = stacking_classifier_rf_final.predict(X_test)"
   ]
  },
  {
   "cell_type": "markdown",
   "id": "0766e0a0",
   "metadata": {
    "papermill": {
     "duration": 0.069088,
     "end_time": "2023-12-19T14:27:32.025400",
     "exception": false,
     "start_time": "2023-12-19T14:27:31.956312",
     "status": "completed"
    },
    "tags": []
   },
   "source": [
    "#### <u><i>Exporting our results into a <i>CSV</i> file and submitting them</i></u>:"
   ]
  },
  {
   "cell_type": "code",
   "execution_count": 27,
   "id": "b9a42fb4",
   "metadata": {
    "execution": {
     "iopub.execute_input": "2023-12-19T14:27:32.166865Z",
     "iopub.status.busy": "2023-12-19T14:27:32.166455Z",
     "iopub.status.idle": "2023-12-19T14:27:32.177978Z",
     "shell.execute_reply": "2023-12-19T14:27:32.176713Z"
    },
    "papermill": {
     "duration": 0.086415,
     "end_time": "2023-12-19T14:27:32.180441",
     "exception": false,
     "start_time": "2023-12-19T14:27:32.094026",
     "status": "completed"
    },
    "tags": []
   },
   "outputs": [
    {
     "name": "stdout",
     "output_type": "stream",
     "text": [
      "Your submission was successfully saved!\n"
     ]
    }
   ],
   "source": [
    "output = pd.DataFrame({'PassengerId': test_data.PassengerId, 'Survived': stack_pred})\n",
    "output.to_csv('submission.csv', index=False)\n",
    "print(\"Your submission was successfully saved!\")"
   ]
  },
  {
   "cell_type": "markdown",
   "id": "4c722879",
   "metadata": {
    "papermill": {
     "duration": 0.069148,
     "end_time": "2023-12-19T14:27:32.317922",
     "exception": false,
     "start_time": "2023-12-19T14:27:32.248774",
     "status": "completed"
    },
    "tags": []
   },
   "source": [
    "## <b><u><i>Conclusion</i></u></b>:\n",
    "In Conclusion, the simple <strong><i>Random Forest Classifier</i></strong> gave the best accuracy possible, which is: <strong><i>0.78708</i></strong>. The accuracy rose due to the use of the \"Fare\" feature, which was imputed by its median values because of some missing data in the column."
   ]
  },
  {
   "cell_type": "markdown",
   "id": "4923c305",
   "metadata": {
    "papermill": {
     "duration": 0.066465,
     "end_time": "2023-12-19T14:27:32.453918",
     "exception": false,
     "start_time": "2023-12-19T14:27:32.387453",
     "status": "completed"
    },
    "tags": []
   },
   "source": [
    "## **Citation**\n",
    "<p> Will Cukierski. (2012). Titanic - Machine Learning from Disaster. Kaggle. https://kaggle.com/competitions/titanic </p>"
   ]
  }
 ],
 "metadata": {
  "kaggle": {
   "accelerator": "none",
   "dataSources": [
    {
     "databundleVersionId": 26502,
     "sourceId": 3136,
     "sourceType": "competition"
    }
   ],
   "dockerImageVersionId": 30615,
   "isGpuEnabled": false,
   "isInternetEnabled": false,
   "language": "python",
   "sourceType": "notebook"
  },
  "kernelspec": {
   "display_name": "Python 3",
   "language": "python",
   "name": "python3"
  },
  "language_info": {
   "codemirror_mode": {
    "name": "ipython",
    "version": 3
   },
   "file_extension": ".py",
   "mimetype": "text/x-python",
   "name": "python",
   "nbconvert_exporter": "python",
   "pygments_lexer": "ipython3",
   "version": "3.10.12"
  },
  "papermill": {
   "default_parameters": {},
   "duration": 149.215474,
   "end_time": "2023-12-19T14:27:34.247570",
   "environment_variables": {},
   "exception": null,
   "input_path": "__notebook__.ipynb",
   "output_path": "__notebook__.ipynb",
   "parameters": {},
   "start_time": "2023-12-19T14:25:05.032096",
   "version": "2.4.0"
  }
 },
 "nbformat": 4,
 "nbformat_minor": 5
}
