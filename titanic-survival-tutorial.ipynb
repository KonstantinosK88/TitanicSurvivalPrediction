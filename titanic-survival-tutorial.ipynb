{
 "cells": [
  {
   "cell_type": "markdown",
   "id": "cd33351d",
   "metadata": {
    "_cell_guid": "b1076dfc-b9ad-4769-8c92-a6c4dae69d19",
    "_uuid": "8f2839f25d086af736a60e9eeb907d3b93b6e0e5",
    "execution": {
     "iopub.execute_input": "2023-12-12T10:09:04.792116Z",
     "iopub.status.busy": "2023-12-12T10:09:04.791683Z",
     "iopub.status.idle": "2023-12-12T10:09:05.229107Z",
     "shell.execute_reply": "2023-12-12T10:09:05.227734Z",
     "shell.execute_reply.started": "2023-12-12T10:09:04.792080Z"
    },
    "papermill": {
     "duration": 0.014543,
     "end_time": "2023-12-14T14:44:37.456009",
     "exception": false,
     "start_time": "2023-12-14T14:44:37.441466",
     "status": "completed"
    },
    "tags": []
   },
   "source": [
    "# **Titanic Survival Tutorial**\n",
    "The Titanic disaster was one of the most infamous maritime tragedies in history, which is still known even more than 100 years after its demise. The RMS Titanic was a British passenger liner that sank on its maiden voyage from Southampton to New York City in April 1912.\n",
    "\n",
    "The challenge is to see whether we can predict the people who are not going to survive the disaster based on some features that are provided."
   ]
  },
  {
   "cell_type": "markdown",
   "id": "4657759e",
   "metadata": {
    "papermill": {
     "duration": 0.013997,
     "end_time": "2023-12-14T14:44:37.484600",
     "exception": false,
     "start_time": "2023-12-14T14:44:37.470603",
     "status": "completed"
    },
    "tags": []
   },
   "source": [
    "### <u><i>Loading Helpful Packages</i></u>:\n",
    "<p> <span style=\"background-color: #E8E8E8\"><strong>\"numpy\"</strong></span> for linear algebra.</p>\n",
    "<p> <span style=\"background-color: #E8E8E8\"><strong>\"pandas\"</strong></span> for data processing, Comma Separated Values (CSV) file input and output.</p>\n",
    "<p><span style=\"background-color: #E8E8E8\"><strong>\"matplotlib.pyplot\"</strong></span> and <span style=\"background-color: #E8E8E8\"><strong>\"seaborn\"</strong></span> for statistical graphics and visualization.</p>"
   ]
  },
  {
   "cell_type": "code",
   "execution_count": 1,
   "id": "7d30089d",
   "metadata": {
    "execution": {
     "iopub.execute_input": "2023-12-14T14:44:37.514145Z",
     "iopub.status.busy": "2023-12-14T14:44:37.513604Z",
     "iopub.status.idle": "2023-12-14T14:44:40.045571Z",
     "shell.execute_reply": "2023-12-14T14:44:40.044091Z"
    },
    "papermill": {
     "duration": 2.550351,
     "end_time": "2023-12-14T14:44:40.048598",
     "exception": false,
     "start_time": "2023-12-14T14:44:37.498247",
     "status": "completed"
    },
    "tags": []
   },
   "outputs": [],
   "source": [
    "import numpy as np\n",
    "import pandas as pd\n",
    "\n",
    "import seaborn as sns\n",
    "import matplotlib.pyplot as plt"
   ]
  },
  {
   "cell_type": "markdown",
   "id": "6dc02d63",
   "metadata": {
    "papermill": {
     "duration": 0.013428,
     "end_time": "2023-12-14T14:44:40.075895",
     "exception": false,
     "start_time": "2023-12-14T14:44:40.062467",
     "status": "completed"
    },
    "tags": []
   },
   "source": [
    "### <u><i>Importing the Datasets</i></u>:"
   ]
  },
  {
   "cell_type": "code",
   "execution_count": 2,
   "id": "039336dd",
   "metadata": {
    "execution": {
     "iopub.execute_input": "2023-12-14T14:44:40.105698Z",
     "iopub.status.busy": "2023-12-14T14:44:40.105131Z",
     "iopub.status.idle": "2023-12-14T14:44:40.113268Z",
     "shell.execute_reply": "2023-12-14T14:44:40.112048Z"
    },
    "papermill": {
     "duration": 0.025522,
     "end_time": "2023-12-14T14:44:40.115458",
     "exception": false,
     "start_time": "2023-12-14T14:44:40.089936",
     "status": "completed"
    },
    "tags": []
   },
   "outputs": [
    {
     "name": "stdout",
     "output_type": "stream",
     "text": [
      "/kaggle/input/titanic/train.csv\n",
      "/kaggle/input/titanic/test.csv\n",
      "/kaggle/input/titanic/gender_submission.csv\n"
     ]
    }
   ],
   "source": [
    "import os\n",
    "for dirname, _, filenames in os.walk('/kaggle/input'):\n",
    "    for filename in filenames:\n",
    "        print(os.path.join(dirname, filename))"
   ]
  },
  {
   "cell_type": "markdown",
   "id": "da168de4",
   "metadata": {
    "papermill": {
     "duration": 0.013593,
     "end_time": "2023-12-14T14:44:40.143976",
     "exception": false,
     "start_time": "2023-12-14T14:44:40.130383",
     "status": "completed"
    },
    "tags": []
   },
   "source": [
    "#### <u><i>The Train Data</i></u>:\n",
    "<p>These are the data on which we will train our models.</p>"
   ]
  },
  {
   "cell_type": "code",
   "execution_count": 3,
   "id": "1c44f979",
   "metadata": {
    "execution": {
     "iopub.execute_input": "2023-12-14T14:44:40.174886Z",
     "iopub.status.busy": "2023-12-14T14:44:40.174199Z",
     "iopub.status.idle": "2023-12-14T14:44:40.231228Z",
     "shell.execute_reply": "2023-12-14T14:44:40.230109Z"
    },
    "papermill": {
     "duration": 0.075205,
     "end_time": "2023-12-14T14:44:40.233928",
     "exception": false,
     "start_time": "2023-12-14T14:44:40.158723",
     "status": "completed"
    },
    "tags": []
   },
   "outputs": [
    {
     "data": {
      "text/html": [
       "<div>\n",
       "<style scoped>\n",
       "    .dataframe tbody tr th:only-of-type {\n",
       "        vertical-align: middle;\n",
       "    }\n",
       "\n",
       "    .dataframe tbody tr th {\n",
       "        vertical-align: top;\n",
       "    }\n",
       "\n",
       "    .dataframe thead th {\n",
       "        text-align: right;\n",
       "    }\n",
       "</style>\n",
       "<table border=\"1\" class=\"dataframe\">\n",
       "  <thead>\n",
       "    <tr style=\"text-align: right;\">\n",
       "      <th></th>\n",
       "      <th>PassengerId</th>\n",
       "      <th>Survived</th>\n",
       "      <th>Pclass</th>\n",
       "      <th>Name</th>\n",
       "      <th>Sex</th>\n",
       "      <th>Age</th>\n",
       "      <th>SibSp</th>\n",
       "      <th>Parch</th>\n",
       "      <th>Ticket</th>\n",
       "      <th>Fare</th>\n",
       "      <th>Cabin</th>\n",
       "      <th>Embarked</th>\n",
       "    </tr>\n",
       "  </thead>\n",
       "  <tbody>\n",
       "    <tr>\n",
       "      <th>0</th>\n",
       "      <td>1</td>\n",
       "      <td>0</td>\n",
       "      <td>3</td>\n",
       "      <td>Braund, Mr. Owen Harris</td>\n",
       "      <td>male</td>\n",
       "      <td>22.0</td>\n",
       "      <td>1</td>\n",
       "      <td>0</td>\n",
       "      <td>A/5 21171</td>\n",
       "      <td>7.2500</td>\n",
       "      <td>NaN</td>\n",
       "      <td>S</td>\n",
       "    </tr>\n",
       "    <tr>\n",
       "      <th>1</th>\n",
       "      <td>2</td>\n",
       "      <td>1</td>\n",
       "      <td>1</td>\n",
       "      <td>Cumings, Mrs. John Bradley (Florence Briggs Th...</td>\n",
       "      <td>female</td>\n",
       "      <td>38.0</td>\n",
       "      <td>1</td>\n",
       "      <td>0</td>\n",
       "      <td>PC 17599</td>\n",
       "      <td>71.2833</td>\n",
       "      <td>C85</td>\n",
       "      <td>C</td>\n",
       "    </tr>\n",
       "    <tr>\n",
       "      <th>2</th>\n",
       "      <td>3</td>\n",
       "      <td>1</td>\n",
       "      <td>3</td>\n",
       "      <td>Heikkinen, Miss. Laina</td>\n",
       "      <td>female</td>\n",
       "      <td>26.0</td>\n",
       "      <td>0</td>\n",
       "      <td>0</td>\n",
       "      <td>STON/O2. 3101282</td>\n",
       "      <td>7.9250</td>\n",
       "      <td>NaN</td>\n",
       "      <td>S</td>\n",
       "    </tr>\n",
       "    <tr>\n",
       "      <th>3</th>\n",
       "      <td>4</td>\n",
       "      <td>1</td>\n",
       "      <td>1</td>\n",
       "      <td>Futrelle, Mrs. Jacques Heath (Lily May Peel)</td>\n",
       "      <td>female</td>\n",
       "      <td>35.0</td>\n",
       "      <td>1</td>\n",
       "      <td>0</td>\n",
       "      <td>113803</td>\n",
       "      <td>53.1000</td>\n",
       "      <td>C123</td>\n",
       "      <td>S</td>\n",
       "    </tr>\n",
       "    <tr>\n",
       "      <th>4</th>\n",
       "      <td>5</td>\n",
       "      <td>0</td>\n",
       "      <td>3</td>\n",
       "      <td>Allen, Mr. William Henry</td>\n",
       "      <td>male</td>\n",
       "      <td>35.0</td>\n",
       "      <td>0</td>\n",
       "      <td>0</td>\n",
       "      <td>373450</td>\n",
       "      <td>8.0500</td>\n",
       "      <td>NaN</td>\n",
       "      <td>S</td>\n",
       "    </tr>\n",
       "    <tr>\n",
       "      <th>5</th>\n",
       "      <td>6</td>\n",
       "      <td>0</td>\n",
       "      <td>3</td>\n",
       "      <td>Moran, Mr. James</td>\n",
       "      <td>male</td>\n",
       "      <td>NaN</td>\n",
       "      <td>0</td>\n",
       "      <td>0</td>\n",
       "      <td>330877</td>\n",
       "      <td>8.4583</td>\n",
       "      <td>NaN</td>\n",
       "      <td>Q</td>\n",
       "    </tr>\n",
       "    <tr>\n",
       "      <th>6</th>\n",
       "      <td>7</td>\n",
       "      <td>0</td>\n",
       "      <td>1</td>\n",
       "      <td>McCarthy, Mr. Timothy J</td>\n",
       "      <td>male</td>\n",
       "      <td>54.0</td>\n",
       "      <td>0</td>\n",
       "      <td>0</td>\n",
       "      <td>17463</td>\n",
       "      <td>51.8625</td>\n",
       "      <td>E46</td>\n",
       "      <td>S</td>\n",
       "    </tr>\n",
       "    <tr>\n",
       "      <th>7</th>\n",
       "      <td>8</td>\n",
       "      <td>0</td>\n",
       "      <td>3</td>\n",
       "      <td>Palsson, Master. Gosta Leonard</td>\n",
       "      <td>male</td>\n",
       "      <td>2.0</td>\n",
       "      <td>3</td>\n",
       "      <td>1</td>\n",
       "      <td>349909</td>\n",
       "      <td>21.0750</td>\n",
       "      <td>NaN</td>\n",
       "      <td>S</td>\n",
       "    </tr>\n",
       "    <tr>\n",
       "      <th>8</th>\n",
       "      <td>9</td>\n",
       "      <td>1</td>\n",
       "      <td>3</td>\n",
       "      <td>Johnson, Mrs. Oscar W (Elisabeth Vilhelmina Berg)</td>\n",
       "      <td>female</td>\n",
       "      <td>27.0</td>\n",
       "      <td>0</td>\n",
       "      <td>2</td>\n",
       "      <td>347742</td>\n",
       "      <td>11.1333</td>\n",
       "      <td>NaN</td>\n",
       "      <td>S</td>\n",
       "    </tr>\n",
       "    <tr>\n",
       "      <th>9</th>\n",
       "      <td>10</td>\n",
       "      <td>1</td>\n",
       "      <td>2</td>\n",
       "      <td>Nasser, Mrs. Nicholas (Adele Achem)</td>\n",
       "      <td>female</td>\n",
       "      <td>14.0</td>\n",
       "      <td>1</td>\n",
       "      <td>0</td>\n",
       "      <td>237736</td>\n",
       "      <td>30.0708</td>\n",
       "      <td>NaN</td>\n",
       "      <td>C</td>\n",
       "    </tr>\n",
       "  </tbody>\n",
       "</table>\n",
       "</div>"
      ],
      "text/plain": [
       "   PassengerId  Survived  Pclass  \\\n",
       "0            1         0       3   \n",
       "1            2         1       1   \n",
       "2            3         1       3   \n",
       "3            4         1       1   \n",
       "4            5         0       3   \n",
       "5            6         0       3   \n",
       "6            7         0       1   \n",
       "7            8         0       3   \n",
       "8            9         1       3   \n",
       "9           10         1       2   \n",
       "\n",
       "                                                Name     Sex   Age  SibSp  \\\n",
       "0                            Braund, Mr. Owen Harris    male  22.0      1   \n",
       "1  Cumings, Mrs. John Bradley (Florence Briggs Th...  female  38.0      1   \n",
       "2                             Heikkinen, Miss. Laina  female  26.0      0   \n",
       "3       Futrelle, Mrs. Jacques Heath (Lily May Peel)  female  35.0      1   \n",
       "4                           Allen, Mr. William Henry    male  35.0      0   \n",
       "5                                   Moran, Mr. James    male   NaN      0   \n",
       "6                            McCarthy, Mr. Timothy J    male  54.0      0   \n",
       "7                     Palsson, Master. Gosta Leonard    male   2.0      3   \n",
       "8  Johnson, Mrs. Oscar W (Elisabeth Vilhelmina Berg)  female  27.0      0   \n",
       "9                Nasser, Mrs. Nicholas (Adele Achem)  female  14.0      1   \n",
       "\n",
       "   Parch            Ticket     Fare Cabin Embarked  \n",
       "0      0         A/5 21171   7.2500   NaN        S  \n",
       "1      0          PC 17599  71.2833   C85        C  \n",
       "2      0  STON/O2. 3101282   7.9250   NaN        S  \n",
       "3      0            113803  53.1000  C123        S  \n",
       "4      0            373450   8.0500   NaN        S  \n",
       "5      0            330877   8.4583   NaN        Q  \n",
       "6      0             17463  51.8625   E46        S  \n",
       "7      1            349909  21.0750   NaN        S  \n",
       "8      2            347742  11.1333   NaN        S  \n",
       "9      0            237736  30.0708   NaN        C  "
      ]
     },
     "execution_count": 3,
     "metadata": {},
     "output_type": "execute_result"
    }
   ],
   "source": [
    "train_data = pd.read_csv(\"/kaggle/input/titanic/train.csv\") # Internal Kaggle path.\n",
    "train_data.head(10) # Display the first ten observations."
   ]
  },
  {
   "cell_type": "code",
   "execution_count": 4,
   "id": "a8155803",
   "metadata": {
    "execution": {
     "iopub.execute_input": "2023-12-14T14:44:40.264605Z",
     "iopub.status.busy": "2023-12-14T14:44:40.263827Z",
     "iopub.status.idle": "2023-12-14T14:44:40.953181Z",
     "shell.execute_reply": "2023-12-14T14:44:40.952053Z"
    },
    "papermill": {
     "duration": 0.707855,
     "end_time": "2023-12-14T14:44:40.955907",
     "exception": false,
     "start_time": "2023-12-14T14:44:40.248052",
     "status": "completed"
    },
    "tags": []
   },
   "outputs": [
    {
     "data": {
      "image/png": "[encoded data removed]",
      "text/plain": [
       "<Figure size 640x480 with 1 Axes>"
      ]
     },
     "metadata": {},
     "output_type": "display_data"
    }
   ],
   "source": [
    "# Checking for missing data:\n",
    "sns.heatmap(train_data.isnull(), cmap='viridis', cbar=False) # No colour bar.\n",
    "plt.title('Heat Map of Missing Data')\n",
    "plt.show()"
   ]
  },
  {
   "cell_type": "markdown",
   "id": "03944620",
   "metadata": {
    "papermill": {
     "duration": 0.015465,
     "end_time": "2023-12-14T14:44:40.987233",
     "exception": false,
     "start_time": "2023-12-14T14:44:40.971768",
     "status": "completed"
    },
    "tags": []
   },
   "source": [
    "<p><u><i>Comments on the graph above</i></u>:</p>\n",
    "<p>It would appear that the variables: \"Age\", \"Cabin\" and \"Embarked\" have some missing values.</p>"
   ]
  },
  {
   "cell_type": "markdown",
   "id": "ba428059",
   "metadata": {
    "papermill": {
     "duration": 0.01477,
     "end_time": "2023-12-14T14:44:41.017182",
     "exception": false,
     "start_time": "2023-12-14T14:44:41.002412",
     "status": "completed"
    },
    "tags": []
   },
   "source": [
    "#### <u><i>The Test Data</i></u>:\n",
    "<p>These are the data on which we will test our models.</p>"
   ]
  },
  {
   "cell_type": "code",
   "execution_count": 5,
   "id": "646179d4",
   "metadata": {
    "execution": {
     "iopub.execute_input": "2023-12-14T14:44:41.049578Z",
     "iopub.status.busy": "2023-12-14T14:44:41.049058Z",
     "iopub.status.idle": "2023-12-14T14:44:41.078529Z",
     "shell.execute_reply": "2023-12-14T14:44:41.077157Z"
    },
    "papermill": {
     "duration": 0.048846,
     "end_time": "2023-12-14T14:44:41.081449",
     "exception": false,
     "start_time": "2023-12-14T14:44:41.032603",
     "status": "completed"
    },
    "tags": []
   },
   "outputs": [
    {
     "data": {
      "text/html": [
       "<div>\n",
       "<style scoped>\n",
       "    .dataframe tbody tr th:only-of-type {\n",
       "        vertical-align: middle;\n",
       "    }\n",
       "\n",
       "    .dataframe tbody tr th {\n",
       "        vertical-align: top;\n",
       "    }\n",
       "\n",
       "    .dataframe thead th {\n",
       "        text-align: right;\n",
       "    }\n",
       "</style>\n",
       "<table border=\"1\" class=\"dataframe\">\n",
       "  <thead>\n",
       "    <tr style=\"text-align: right;\">\n",
       "      <th></th>\n",
       "      <th>PassengerId</th>\n",
       "      <th>Pclass</th>\n",
       "      <th>Name</th>\n",
       "      <th>Sex</th>\n",
       "      <th>Age</th>\n",
       "      <th>SibSp</th>\n",
       "      <th>Parch</th>\n",
       "      <th>Ticket</th>\n",
       "      <th>Fare</th>\n",
       "      <th>Cabin</th>\n",
       "      <th>Embarked</th>\n",
       "    </tr>\n",
       "  </thead>\n",
       "  <tbody>\n",
       "    <tr>\n",
       "      <th>0</th>\n",
       "      <td>892</td>\n",
       "      <td>3</td>\n",
       "      <td>Kelly, Mr. James</td>\n",
       "      <td>male</td>\n",
       "      <td>34.5</td>\n",
       "      <td>0</td>\n",
       "      <td>0</td>\n",
       "      <td>330911</td>\n",
       "      <td>7.8292</td>\n",
       "      <td>NaN</td>\n",
       "      <td>Q</td>\n",
       "    </tr>\n",
       "    <tr>\n",
       "      <th>1</th>\n",
       "      <td>893</td>\n",
       "      <td>3</td>\n",
       "      <td>Wilkes, Mrs. James (Ellen Needs)</td>\n",
       "      <td>female</td>\n",
       "      <td>47.0</td>\n",
       "      <td>1</td>\n",
       "      <td>0</td>\n",
       "      <td>363272</td>\n",
       "      <td>7.0000</td>\n",
       "      <td>NaN</td>\n",
       "      <td>S</td>\n",
       "    </tr>\n",
       "    <tr>\n",
       "      <th>2</th>\n",
       "      <td>894</td>\n",
       "      <td>2</td>\n",
       "      <td>Myles, Mr. Thomas Francis</td>\n",
       "      <td>male</td>\n",
       "      <td>62.0</td>\n",
       "      <td>0</td>\n",
       "      <td>0</td>\n",
       "      <td>240276</td>\n",
       "      <td>9.6875</td>\n",
       "      <td>NaN</td>\n",
       "      <td>Q</td>\n",
       "    </tr>\n",
       "    <tr>\n",
       "      <th>3</th>\n",
       "      <td>895</td>\n",
       "      <td>3</td>\n",
       "      <td>Wirz, Mr. Albert</td>\n",
       "      <td>male</td>\n",
       "      <td>27.0</td>\n",
       "      <td>0</td>\n",
       "      <td>0</td>\n",
       "      <td>315154</td>\n",
       "      <td>8.6625</td>\n",
       "      <td>NaN</td>\n",
       "      <td>S</td>\n",
       "    </tr>\n",
       "    <tr>\n",
       "      <th>4</th>\n",
       "      <td>896</td>\n",
       "      <td>3</td>\n",
       "      <td>Hirvonen, Mrs. Alexander (Helga E Lindqvist)</td>\n",
       "      <td>female</td>\n",
       "      <td>22.0</td>\n",
       "      <td>1</td>\n",
       "      <td>1</td>\n",
       "      <td>3101298</td>\n",
       "      <td>12.2875</td>\n",
       "      <td>NaN</td>\n",
       "      <td>S</td>\n",
       "    </tr>\n",
       "    <tr>\n",
       "      <th>5</th>\n",
       "      <td>897</td>\n",
       "      <td>3</td>\n",
       "      <td>Svensson, Mr. Johan Cervin</td>\n",
       "      <td>male</td>\n",
       "      <td>14.0</td>\n",
       "      <td>0</td>\n",
       "      <td>0</td>\n",
       "      <td>7538</td>\n",
       "      <td>9.2250</td>\n",
       "      <td>NaN</td>\n",
       "      <td>S</td>\n",
       "    </tr>\n",
       "    <tr>\n",
       "      <th>6</th>\n",
       "      <td>898</td>\n",
       "      <td>3</td>\n",
       "      <td>Connolly, Miss. Kate</td>\n",
       "      <td>female</td>\n",
       "      <td>30.0</td>\n",
       "      <td>0</td>\n",
       "      <td>0</td>\n",
       "      <td>330972</td>\n",
       "      <td>7.6292</td>\n",
       "      <td>NaN</td>\n",
       "      <td>Q</td>\n",
       "    </tr>\n",
       "    <tr>\n",
       "      <th>7</th>\n",
       "      <td>899</td>\n",
       "      <td>2</td>\n",
       "      <td>Caldwell, Mr. Albert Francis</td>\n",
       "      <td>male</td>\n",
       "      <td>26.0</td>\n",
       "      <td>1</td>\n",
       "      <td>1</td>\n",
       "      <td>248738</td>\n",
       "      <td>29.0000</td>\n",
       "      <td>NaN</td>\n",
       "      <td>S</td>\n",
       "    </tr>\n",
       "    <tr>\n",
       "      <th>8</th>\n",
       "      <td>900</td>\n",
       "      <td>3</td>\n",
       "      <td>Abrahim, Mrs. Joseph (Sophie Halaut Easu)</td>\n",
       "      <td>female</td>\n",
       "      <td>18.0</td>\n",
       "      <td>0</td>\n",
       "      <td>0</td>\n",
       "      <td>2657</td>\n",
       "      <td>7.2292</td>\n",
       "      <td>NaN</td>\n",
       "      <td>C</td>\n",
       "    </tr>\n",
       "    <tr>\n",
       "      <th>9</th>\n",
       "      <td>901</td>\n",
       "      <td>3</td>\n",
       "      <td>Davies, Mr. John Samuel</td>\n",
       "      <td>male</td>\n",
       "      <td>21.0</td>\n",
       "      <td>2</td>\n",
       "      <td>0</td>\n",
       "      <td>A/4 48871</td>\n",
       "      <td>24.1500</td>\n",
       "      <td>NaN</td>\n",
       "      <td>S</td>\n",
       "    </tr>\n",
       "  </tbody>\n",
       "</table>\n",
       "</div>"
      ],
      "text/plain": [
       "   PassengerId  Pclass                                          Name     Sex  \\\n",
       "0          892       3                              Kelly, Mr. James    male   \n",
       "1          893       3              Wilkes, Mrs. James (Ellen Needs)  female   \n",
       "2          894       2                     Myles, Mr. Thomas Francis    male   \n",
       "3          895       3                              Wirz, Mr. Albert    male   \n",
       "4          896       3  Hirvonen, Mrs. Alexander (Helga E Lindqvist)  female   \n",
       "5          897       3                    Svensson, Mr. Johan Cervin    male   \n",
       "6          898       3                          Connolly, Miss. Kate  female   \n",
       "7          899       2                  Caldwell, Mr. Albert Francis    male   \n",
       "8          900       3     Abrahim, Mrs. Joseph (Sophie Halaut Easu)  female   \n",
       "9          901       3                       Davies, Mr. John Samuel    male   \n",
       "\n",
       "    Age  SibSp  Parch     Ticket     Fare Cabin Embarked  \n",
       "0  34.5      0      0     330911   7.8292   NaN        Q  \n",
       "1  47.0      1      0     363272   7.0000   NaN        S  \n",
       "2  62.0      0      0     240276   9.6875   NaN        Q  \n",
       "3  27.0      0      0     315154   8.6625   NaN        S  \n",
       "4  22.0      1      1    3101298  12.2875   NaN        S  \n",
       "5  14.0      0      0       7538   9.2250   NaN        S  \n",
       "6  30.0      0      0     330972   7.6292   NaN        Q  \n",
       "7  26.0      1      1     248738  29.0000   NaN        S  \n",
       "8  18.0      0      0       2657   7.2292   NaN        C  \n",
       "9  21.0      2      0  A/4 48871  24.1500   NaN        S  "
      ]
     },
     "execution_count": 5,
     "metadata": {},
     "output_type": "execute_result"
    }
   ],
   "source": [
    "test_data = pd.read_csv(\"/kaggle/input/titanic/test.csv\")\n",
    "test_data.head(10) # Display the first ten observations."
   ]
  },
  {
   "cell_type": "code",
   "execution_count": 6,
   "id": "4fb3314f",
   "metadata": {
    "execution": {
     "iopub.execute_input": "2023-12-14T14:44:41.115933Z",
     "iopub.status.busy": "2023-12-14T14:44:41.115517Z",
     "iopub.status.idle": "2023-12-14T14:44:41.536766Z",
     "shell.execute_reply": "2023-12-14T14:44:41.535559Z"
    },
    "papermill": {
     "duration": 0.441834,
     "end_time": "2023-12-14T14:44:41.539748",
     "exception": false,
     "start_time": "2023-12-14T14:44:41.097914",
     "status": "completed"
    },
    "tags": []
   },
   "outputs": [
    {
     "data": {
      "image/png": "[encoded data removed]",
      "text/plain": [
       "<Figure size 640x480 with 1 Axes>"
      ]
     },
     "metadata": {},
     "output_type": "display_data"
    }
   ],
   "source": [
    "# Checking for missing data:\n",
    "sns.heatmap(test_data.isnull(), cmap='viridis', cbar=False) # No colour bar.\n",
    "plt.title('Heat Map of Missing Data')\n",
    "plt.show()"
   ]
  },
  {
   "cell_type": "markdown",
   "id": "fc5cb553",
   "metadata": {
    "papermill": {
     "duration": 0.016382,
     "end_time": "2023-12-14T14:44:41.572332",
     "exception": false,
     "start_time": "2023-12-14T14:44:41.555950",
     "status": "completed"
    },
    "tags": []
   },
   "source": [
    "<p><u><i>Comments on the graph above</i></u>:</p>\n",
    "<p>It appears that the variables: \"Age\", \"Fare\" and \"Cabin\" have missing values. None for \"Embarked\" like it was in the training data.</p>"
   ]
  },
  {
   "cell_type": "markdown",
   "id": "2d8aad01",
   "metadata": {
    "papermill": {
     "duration": 0.016916,
     "end_time": "2023-12-14T14:44:41.605292",
     "exception": false,
     "start_time": "2023-12-14T14:44:41.588376",
     "status": "completed"
    },
    "tags": []
   },
   "source": [
    "## <b><u><i>Some Data Visualizations</i></u></b>:"
   ]
  },
  {
   "cell_type": "markdown",
   "id": "c7bf52b4",
   "metadata": {
    "papermill": {
     "duration": 0.016114,
     "end_time": "2023-12-14T14:44:41.637477",
     "exception": false,
     "start_time": "2023-12-14T14:44:41.621363",
     "status": "completed"
    },
    "tags": []
   },
   "source": [
    "#### <u><i>Survival Rate by Class and Gender</i></u>:"
   ]
  },
  {
   "cell_type": "code",
   "execution_count": 7,
   "id": "d16d7971",
   "metadata": {
    "execution": {
     "iopub.execute_input": "2023-12-14T14:44:41.676333Z",
     "iopub.status.busy": "2023-12-14T14:44:41.675925Z",
     "iopub.status.idle": "2023-12-14T14:44:42.027037Z",
     "shell.execute_reply": "2023-12-14T14:44:42.025871Z"
    },
    "papermill": {
     "duration": 0.373463,
     "end_time": "2023-12-14T14:44:42.029535",
     "exception": false,
     "start_time": "2023-12-14T14:44:41.656072",
     "status": "completed"
    },
    "tags": []
   },
   "outputs": [
    {
     "data": {
      "image/png": "[encoded data removed]",
      "text/plain": [
       "<Figure size 1000x600 with 1 Axes>"
      ]
     },
     "metadata": {},
     "output_type": "display_data"
    }
   ],
   "source": [
    "# Create a new data frame with Survival Rate information:\n",
    "survival_rate_df = train_data.groupby(['Pclass', 'Sex'])['Survived'].mean().reset_index()\n",
    "\n",
    "# Plotting using seaborn:\n",
    "plt.figure(figsize=(10, 6))\n",
    "sns.barplot(x='Pclass', y='Survived', hue='Sex', data=survival_rate_df, palette='viridis')\n",
    "plt.title('Survival Rate by Class and Gender')\n",
    "plt.xlabel('Passenger Class')\n",
    "plt.ylabel('Survival Rate')\n",
    "plt.legend(title='Gender')\n",
    "plt.show()"
   ]
  },
  {
   "cell_type": "markdown",
   "id": "25b73f11",
   "metadata": {
    "papermill": {
     "duration": 0.016523,
     "end_time": "2023-12-14T14:44:42.062891",
     "exception": false,
     "start_time": "2023-12-14T14:44:42.046368",
     "status": "completed"
    },
    "tags": []
   },
   "source": [
    "<p><u><i>Comments on the graph above</i></u>:</p>\n",
    "<p>It would appear that higher classes had higher chances of survival. Overall females seem to have higher chances of surviving the disaster when compared to male survivors. This could be according to the maritime protocol of letting women and children go first on the lifeboats so that they could have a higher chance of suvival.</p>"
   ]
  },
  {
   "cell_type": "markdown",
   "id": "53b6f832",
   "metadata": {
    "papermill": {
     "duration": 0.019145,
     "end_time": "2023-12-14T14:44:42.172515",
     "exception": false,
     "start_time": "2023-12-14T14:44:42.153370",
     "status": "completed"
    },
    "tags": []
   },
   "source": [
    "#### <u><i>The Age Distribution of All Persons on the Titanic</i></u>:"
   ]
  },
  {
   "cell_type": "code",
   "execution_count": 8,
   "id": "ac071272",
   "metadata": {
    "execution": {
     "iopub.execute_input": "2023-12-14T14:44:42.208999Z",
     "iopub.status.busy": "2023-12-14T14:44:42.207756Z",
     "iopub.status.idle": "2023-12-14T14:44:42.677271Z",
     "shell.execute_reply": "2023-12-14T14:44:42.676083Z"
    },
    "papermill": {
     "duration": 0.49064,
     "end_time": "2023-12-14T14:44:42.680158",
     "exception": false,
     "start_time": "2023-12-14T14:44:42.189518",
     "status": "completed"
    },
    "tags": []
   },
   "outputs": [
    {
     "data": {
      "image/png": "[encoded data removed]",
      "text/plain": [
       "<Figure size 1000x600 with 1 Axes>"
      ]
     },
     "metadata": {},
     "output_type": "display_data"
    }
   ],
   "source": [
    "# Drop missing values in the 'Age' column:\n",
    "age_data = train_data['Age'].dropna()\n",
    "\n",
    "# Plotting using seaborn:\n",
    "plt.figure(figsize=(10, 6))\n",
    "sns.histplot(age_data, bins=30, kde=True, color='skyblue')\n",
    "plt.title('Age Distribution on the Titanic')\n",
    "plt.xlabel('Age')\n",
    "plt.ylabel('Frequency')\n",
    "plt.show()"
   ]
  },
  {
   "cell_type": "markdown",
   "id": "28c7d51f",
   "metadata": {
    "papermill": {
     "duration": 0.019092,
     "end_time": "2023-12-14T14:44:42.716847",
     "exception": false,
     "start_time": "2023-12-14T14:44:42.697755",
     "status": "completed"
    },
    "tags": []
   },
   "source": [
    "<p><u><i>Comments on the graph above</i></u>:</p>\n",
    "<p>From the graph right above, we can see that most people were in between their 20s and 30s. There were children present and it seems from the distribution above that most of the children were babies.</p>"
   ]
  },
  {
   "cell_type": "markdown",
   "id": "b5f9083f",
   "metadata": {
    "papermill": {
     "duration": 0.017351,
     "end_time": "2023-12-14T14:44:42.751971",
     "exception": false,
     "start_time": "2023-12-14T14:44:42.734620",
     "status": "completed"
    },
    "tags": []
   },
   "source": [
    "#### <u><i>Family Size Versus Survival Graph</i></u>:"
   ]
  },
  {
   "cell_type": "code",
   "execution_count": 9,
   "id": "66277312",
   "metadata": {
    "execution": {
     "iopub.execute_input": "2023-12-14T14:44:42.790173Z",
     "iopub.status.busy": "2023-12-14T14:44:42.789004Z",
     "iopub.status.idle": "2023-12-14T14:44:43.194526Z",
     "shell.execute_reply": "2023-12-14T14:44:43.193427Z"
    },
    "papermill": {
     "duration": 0.427223,
     "end_time": "2023-12-14T14:44:43.196981",
     "exception": false,
     "start_time": "2023-12-14T14:44:42.769758",
     "status": "completed"
    },
    "tags": []
   },
   "outputs": [
    {
     "data": {
      "image/png": "[encoded data removed]",
      "text/plain": [
       "<Figure size 1000x600 with 1 Axes>"
      ]
     },
     "metadata": {},
     "output_type": "display_data"
    }
   ],
   "source": [
    "# Copy the \"train_data\" structure into a new data frame \"df\", because I do not want to alter the original data.\n",
    "df = train_data.copy()\n",
    "\n",
    "# Create a new column 'FamilySize' by summing 'SibSp' and 'Parch':\n",
    "df['FamilySize'] = df['SibSp'] + df['Parch'] + 1  # Adding 1 for the passenger himself.\n",
    "\n",
    "# Plotting using seaborn:\n",
    "plt.figure(figsize=(10, 6))\n",
    "sns.countplot(x='FamilySize', hue='Survived', data=df, palette='pastel')\n",
    "plt.title('Family Size and Survival')\n",
    "plt.xlabel('Family Size')\n",
    "plt.ylabel('Count')\n",
    "plt.legend(title='Survived', labels=['No', 'Yes'])\n",
    "plt.show()"
   ]
  },
  {
   "cell_type": "markdown",
   "id": "e5279ece",
   "metadata": {
    "papermill": {
     "duration": 0.017718,
     "end_time": "2023-12-14T14:44:43.232857",
     "exception": false,
     "start_time": "2023-12-14T14:44:43.215139",
     "status": "completed"
    },
    "tags": []
   },
   "source": [
    "<p><u><i>Comments on the graph above</i></u>:</p>\n",
    "<p>The larger families must have had a tough time securing a boat for all of their members and most certainly in the panic of the moment a lot of memeber must have been lost. Therefore, it would be reasonable to think that smaller families had greater chances of survival.</p>"
   ]
  },
  {
   "cell_type": "markdown",
   "id": "9550f50a",
   "metadata": {
    "papermill": {
     "duration": 0.017807,
     "end_time": "2023-12-14T14:44:43.269821",
     "exception": false,
     "start_time": "2023-12-14T14:44:43.252014",
     "status": "completed"
    },
    "tags": []
   },
   "source": [
    "#### <u><i>Cabin Versus Survival Graph</i></u>:"
   ]
  },
  {
   "cell_type": "code",
   "execution_count": 10,
   "id": "0ef0f14a",
   "metadata": {
    "execution": {
     "iopub.execute_input": "2023-12-14T14:44:43.308200Z",
     "iopub.status.busy": "2023-12-14T14:44:43.307832Z",
     "iopub.status.idle": "2023-12-14T14:44:43.607218Z",
     "shell.execute_reply": "2023-12-14T14:44:43.605833Z"
    },
    "papermill": {
     "duration": 0.321838,
     "end_time": "2023-12-14T14:44:43.610192",
     "exception": false,
     "start_time": "2023-12-14T14:44:43.288354",
     "status": "completed"
    },
    "tags": []
   },
   "outputs": [
    {
     "data": {
      "image/png": "[encoded data removed]",
      "text/plain": [
       "<Figure size 800x600 with 1 Axes>"
      ]
     },
     "metadata": {},
     "output_type": "display_data"
    }
   ],
   "source": [
    "# Same as before, copy the \"train_data\" structure into a new data frame \"df\".\n",
    "df = train_data.copy()\n",
    "\n",
    "# Fill missing 'Cabin' values with 'Unknown':\n",
    "df['Cabin'].fillna('Unknown', inplace=True)\n",
    "\n",
    "# Create a new column 'HasCabin' indicating whether the passenger has a recorded cabin.\n",
    "df['HasCabin'] = df['Cabin'].apply(lambda x: 0 if x == 'Unknown' else 1) # The missing values from before will be considered as the passenger not having a cabin.\n",
    "\n",
    "# Plotting using seaborn:\n",
    "plt.figure(figsize=(8, 6))\n",
    "sns.countplot(x='HasCabin', hue='Survived', data=df, palette='Set1')\n",
    "plt.title('Cabin vs. Survival')\n",
    "plt.xlabel('Has Cabin')\n",
    "plt.ylabel('Count')\n",
    "plt.xticks(ticks=[0, 1], labels=['No', 'Yes'])\n",
    "plt.legend(title='Survived', labels=['No', 'Yes'])\n",
    "plt.show()"
   ]
  },
  {
   "cell_type": "markdown",
   "id": "01d047c6",
   "metadata": {
    "papermill": {
     "duration": 0.020121,
     "end_time": "2023-12-14T14:44:43.649458",
     "exception": false,
     "start_time": "2023-12-14T14:44:43.629337",
     "status": "completed"
    },
    "tags": []
   },
   "source": [
    "<p><u><i>Comments on the graph above</i></u>:</p>\n",
    "<p>It seems like the people who had a cabin had a higher chance of survival. Although this graph should be taken with a grain of salt, as the missing values have been added to people who had no cabins booked.</p>"
   ]
  },
  {
   "cell_type": "markdown",
   "id": "90af370c",
   "metadata": {
    "papermill": {
     "duration": 0.019566,
     "end_time": "2023-12-14T14:44:43.688091",
     "exception": false,
     "start_time": "2023-12-14T14:44:43.668525",
     "status": "completed"
    },
    "tags": []
   },
   "source": [
    "## <b><u><i>Predicting Survivors</i></u></b>:"
   ]
  },
  {
   "cell_type": "markdown",
   "id": "2036f2fc",
   "metadata": {
    "papermill": {
     "duration": 0.018463,
     "end_time": "2023-12-14T14:44:43.725362",
     "exception": false,
     "start_time": "2023-12-14T14:44:43.706899",
     "status": "completed"
    },
    "tags": []
   },
   "source": [
    "### <u><i>1. Logistic Regression</i></u>:\n",
    "<p><strong>Logistic Regression</strong> (also called <i>Logit Regression</i>) is a probabilistic statistical classification model that predicts the probability of the occurrence  of an event. If the estimated probability is greater than 50%, then the model predicts that the observation belongs to that particular class (to the class labeled \"1\"), and otherwise it predicts that it does not (or to the class labeled \"0\"). This makes it a binary classifier. The (multiple) logistic function, in our example, can be written as:</p>\n",
    "<p>$P(Y|X)=\\frac{exp(\\beta_0 + \\beta_1X_i + \\beta_2X_2 + \\beta_3X_3 + \\beta_4X_4 + \\beta_5X_5 + \\beta_6X_6)}{1 + exp (\\beta_0 + \\beta_1X_i + \\beta_2X_2 + \\beta_3X_3 + \\beta_4X_4 + \\beta_5X_5 + \\beta_6X_6)}$</p>"
   ]
  },
  {
   "cell_type": "code",
   "execution_count": 11,
   "id": "72424adc",
   "metadata": {
    "execution": {
     "iopub.execute_input": "2023-12-14T14:44:43.765067Z",
     "iopub.status.busy": "2023-12-14T14:44:43.764595Z",
     "iopub.status.idle": "2023-12-14T14:44:44.244385Z",
     "shell.execute_reply": "2023-12-14T14:44:44.243063Z"
    },
    "papermill": {
     "duration": 0.502782,
     "end_time": "2023-12-14T14:44:44.246871",
     "exception": false,
     "start_time": "2023-12-14T14:44:43.744089",
     "status": "completed"
    },
    "tags": []
   },
   "outputs": [
    {
     "name": "stderr",
     "output_type": "stream",
     "text": [
      "/opt/conda/lib/python3.10/site-packages/sklearn/linear_model/_logistic.py:458: ConvergenceWarning: lbfgs failed to converge (status=1):\n",
      "STOP: TOTAL NO. of ITERATIONS REACHED LIMIT.\n",
      "\n",
      "Increase the number of iterations (max_iter) or scale the data as shown in:\n",
      "    https://scikit-learn.org/stable/modules/preprocessing.html\n",
      "Please also refer to the documentation for alternative solver options:\n",
      "    https://scikit-learn.org/stable/modules/linear_model.html#logistic-regression\n",
      "  n_iter_i = _check_optimize_result(\n"
     ]
    }
   ],
   "source": [
    "# Import the LogisticRegression class from the scikit-learn library:\n",
    "from sklearn.linear_model import LogisticRegression\n",
    "\n",
    "# Extract the target variable (y_train) from the training data:\n",
    "y_train = train_data[\"Survived\"]\n",
    "\n",
    "# Choose the features to use in the model:\n",
    "features = [\"Pclass\", \"Sex\", \"SibSp\", \"Parch\", \"Embarked\", \"Fare\"]\n",
    "\n",
    "# Create the feature matrices for training and testing data using one-hot encoding:\n",
    "X_train = pd.get_dummies(train_data[features])\n",
    "X_test = pd.get_dummies(test_data[features])\n",
    "\n",
    "# Impute the missing values by using the \"Fare\" column's median:\n",
    "median_fare = X_test['Fare'].median()\n",
    "X_test['Fare'].fillna(median_fare, inplace=True)\n",
    "\n",
    "# Initialize a Logistic Regression model with a specified random seed for reproducibility:\n",
    "LR = LogisticRegression(random_state=5)\n",
    "\n",
    "# Training the Logistic Regression model (using the training data):\n",
    "LR.fit(X_train, y_train)\n",
    "\n",
    "# Making predictions on the test data, (using the trained model):\n",
    "logr_pred = LR.predict(X_test)"
   ]
  },
  {
   "cell_type": "markdown",
   "id": "7b8ba8b4",
   "metadata": {
    "papermill": {
     "duration": 0.018797,
     "end_time": "2023-12-14T14:44:44.285158",
     "exception": false,
     "start_time": "2023-12-14T14:44:44.266361",
     "status": "completed"
    },
    "tags": []
   },
   "source": [
    "### <u><i>2. K-Nearest Neighbours</i></u>:\n",
    "<p>Yet another famous methodology, is the <strong>K-Nearest Neighbors</strong> (<i>K-NN</i>) classification methodology. What it does, is it identifies a group of <i>K</i> objects in the training set that are closest to the test object and assigns a label based on the most dominant class in this neighborhood. So for example if we have chosen a neighbourhood of five objects and three of them were labeled as 1, then the new observation would also be labelled as 1.</p>\n",
    "<p>The basic idea is that if we want to predict the value of a new observation we look for observations similar to this one and we use as predictors their values (or a function of them). Specifically, for classification problems as ours, we use the mode of the classes of the nearest data.</p>"
   ]
  },
  {
   "cell_type": "code",
   "execution_count": 12,
   "id": "e0363dc7",
   "metadata": {
    "execution": {
     "iopub.execute_input": "2023-12-14T14:44:44.326671Z",
     "iopub.status.busy": "2023-12-14T14:44:44.325178Z",
     "iopub.status.idle": "2023-12-14T14:44:44.467284Z",
     "shell.execute_reply": "2023-12-14T14:44:44.465859Z"
    },
    "papermill": {
     "duration": 0.165923,
     "end_time": "2023-12-14T14:44:44.470221",
     "exception": false,
     "start_time": "2023-12-14T14:44:44.304298",
     "status": "completed"
    },
    "tags": []
   },
   "outputs": [],
   "source": [
    "# Import the KNeighborsClassifier from the scikit-learn library:\n",
    "from sklearn.neighbors import KNeighborsClassifier\n",
    "\n",
    "# Extract the target variable (y_train) from the training data:\n",
    "y_train = train_data[\"Survived\"]\n",
    "\n",
    "# Choose the features to use in the model:\n",
    "features = [\"Pclass\", \"Sex\", \"SibSp\", \"Parch\", \"Embarked\", \"Fare\"]\n",
    "\n",
    "# Create the feature matrices for training and testing data using one-hot encoding:\n",
    "X_train = pd.get_dummies(train_data[features])\n",
    "X_test = pd.get_dummies(test_data[features])\n",
    "\n",
    "# Impute the missing values by using the \"Fare\" column's median:\n",
    "median_fare = X_test['Fare'].median()\n",
    "X_test['Fare'].fillna(median_fare, inplace=True)\n",
    "\n",
    "# Initialize a KNeighborsClassifier with specified parameters:\n",
    "#-----------------------------------------------------------------------------\n",
    "# - n_neighbors: Number of neighbors to consider (in this case, 5 neighbors).\n",
    "# - metric: Distance metric used for the purpose of finding neighbors \n",
    "#          (here, 'minkowski').\n",
    "# - p: Power parameter for the Minkowski distance metric (here, p=3 \n",
    "#      corresponds to the L3 norm)\n",
    "#-----------------------------------------------------------------------------\n",
    "knn = KNeighborsClassifier(n_neighbors=5, metric='minkowski', p=3)\n",
    "\n",
    "# Fit the model using the training data:\n",
    "knn.fit(X_train, y_train)\n",
    "\n",
    "# Make predictions on the test data:\n",
    "knn_pred = knn.predict(X_test)"
   ]
  },
  {
   "cell_type": "markdown",
   "id": "b70026ea",
   "metadata": {
    "papermill": {
     "duration": 0.018576,
     "end_time": "2023-12-14T14:44:44.507614",
     "exception": false,
     "start_time": "2023-12-14T14:44:44.489038",
     "status": "completed"
    },
    "tags": []
   },
   "source": [
    "### <u><i>3. Random Forest Classification</i></u>:\n",
    "<p>We have already mentioned this technique in the previous exercise, but let us repeat how this procedure works once again. <strong>Random Forest</strong> is an ensemble learning approach for classification, in which “weak learners” collaborate to form “strong learners,” using a large collection of decorrelated decision trees (the random forest). Instead of developing a solution based on the output of a single deep tree, however, random forest aggregates the output from a number of shallow trees, forming an additional layer to bagging. Bagging constructs n predictors, using independent successive trees, by bootstrapping samples of the dataset. The n predictors are combined to solve a classification or estimation problem through averaging. Although individual classifiers are weak learners, all the classifiers combined form a strong learner.</p>"
   ]
  },
  {
   "cell_type": "code",
   "execution_count": 13,
   "id": "03a0607a",
   "metadata": {
    "execution": {
     "iopub.execute_input": "2023-12-14T14:44:44.546975Z",
     "iopub.status.busy": "2023-12-14T14:44:44.546512Z",
     "iopub.status.idle": "2023-12-14T14:44:44.944979Z",
     "shell.execute_reply": "2023-12-14T14:44:44.943714Z"
    },
    "papermill": {
     "duration": 0.421645,
     "end_time": "2023-12-14T14:44:44.947938",
     "exception": false,
     "start_time": "2023-12-14T14:44:44.526293",
     "status": "completed"
    },
    "tags": []
   },
   "outputs": [],
   "source": [
    "# Import the RandomForestClassifier from the scikit-learn library:\n",
    "from sklearn.ensemble import RandomForestClassifier\n",
    "\n",
    "# Extract the target variable (y_train) from the training data:\n",
    "y_train = train_data[\"Survived\"]\n",
    "\n",
    "# Choose the features to use in the model:\n",
    "features = [\"Pclass\", \"Sex\", \"SibSp\", \"Parch\", \"Embarked\", \"Fare\"]\n",
    "\n",
    "# Create the feature matrices for training and testing data using one-hot encoding:\n",
    "X_train = pd.get_dummies(train_data[features])\n",
    "X_test = pd.get_dummies(test_data[features])\n",
    "\n",
    "# Impute the missing values by using the \"Fare\" column's median:\n",
    "median_fare = X_test['Fare'].median()\n",
    "X_test['Fare'].fillna(median_fare, inplace=True)\n",
    "\n",
    "# Initialize a RandomForestClassifier with specified hyperparameters:\n",
    "#--------------------------------------------------------------------\n",
    "# - n_estimators: the number of trees in the forest\n",
    "# - max_depth: the maximum depth of the trees\n",
    "# - random_state: seed for reproducibility\n",
    "#--------------------------------------------------------------------\n",
    "rf = RandomForestClassifier(n_estimators=100, max_depth=5, random_state=1)\n",
    "\n",
    "# Train the RandomForestClassifier on the training data:\n",
    "rf.fit(X_train, y_train)\n",
    "\n",
    "# Use the trained model to make predictions on the test data:\n",
    "rf_pred = rf.predict(X_test)"
   ]
  },
  {
   "cell_type": "markdown",
   "id": "0ed1a2be",
   "metadata": {
    "papermill": {
     "duration": 0.018204,
     "end_time": "2023-12-14T14:44:44.985117",
     "exception": false,
     "start_time": "2023-12-14T14:44:44.966913",
     "status": "completed"
    },
    "tags": []
   },
   "source": [
    "### <u><i>4. Gradient Boosting Classification</i></u>:\n",
    "<p><strong>Gradient Boosting</strong> is an ensemble learning technique that builds a series of weak learners (usually decision trees) sequentially, where each new tree corrects the errors made by the previous ones. The <strong>Gradient Boosting Classifier</strong> is specifically used for classification tasks. It is a powerful and widely used machine learning algorithm known for its high performance and flexibility. One of the popular implementations of Gradient Boosting is the XGBoost (Extreme Gradient Boosting) algorithm.</p>\n",
    "\n",
    "<p>Here are some key concepts and characteristics of the Gradient Boosting Classifier:</p>\n",
    "\n",
    "<ol>\n",
    "    <li><u><i>Boosting</i></u>: Gradient Boosting belongs to the family of boosting algorithms, where weak learners are combined to create a strong learner. Weak learners are typically shallow decision trees (also known as weak learners or base learners).</li>\n",
    "    <li><u><i>Sequential Training</i></u>: Trees are added sequentially to the ensemble, and each new tree focuses on correcting the errors of the combined model so far. The output of the entire ensemble is the sum of the outputs of all the individual trees.</li>\n",
    "    <li><u><i>Gradient Descent</i></u>: The \"Gradient\" in Gradient Boosting refers to the use of gradient descent optimization to minimize a loss function. The algorithm minimizes the loss by adjusting the parameters (weights) of the weak learners.</li>\n",
    "    <li><u><i>Regularization</i></u>: Gradient Boosting includes regularization techniques to prevent overfitting, such as controlling the depth of individual trees or adding a penalty term.</li>\n",
    "    <li><u><i>XGBoost</i></u>: XGBoost is an optimized and efficient implementation of Gradient Boosting. It includes additional features like regularization, parallel processing, and handling missing values, making it widely used in competitions and real-world applications.</li>\n",
    "    <li><u><i>Hyperparameter Tuning</i></u>: Gradient Boosting models have several hyperparameters that can be tuned to optimize performance. Common hyperparameters include learning rate, tree depth, number of trees, and regularization parameters.</li>\n",
    "    <li><u><i>Feature Importance</i></u>: Gradient Boosting models can provide insights into feature importance, helping you understand which features contribute the most to the model's predictions.</li>\n",
    "</ol>"
   ]
  },
  {
   "cell_type": "code",
   "execution_count": 14,
   "id": "442f1ff4",
   "metadata": {
    "execution": {
     "iopub.execute_input": "2023-12-14T14:44:45.024564Z",
     "iopub.status.busy": "2023-12-14T14:44:45.023890Z",
     "iopub.status.idle": "2023-12-14T14:44:45.379483Z",
     "shell.execute_reply": "2023-12-14T14:44:45.378478Z"
    },
    "papermill": {
     "duration": 0.378446,
     "end_time": "2023-12-14T14:44:45.382244",
     "exception": false,
     "start_time": "2023-12-14T14:44:45.003798",
     "status": "completed"
    },
    "tags": []
   },
   "outputs": [],
   "source": [
    "# Import the XGBClassifier from the XGBoost library:\n",
    "from xgboost import XGBClassifier\n",
    "\n",
    "# Extract the target variable (y_train) from the training data:\n",
    "y_train = train_data[\"Survived\"]\n",
    "\n",
    "# Choose the features to use in the model:\n",
    "features = [\"Pclass\", \"Sex\", \"SibSp\", \"Parch\", \"Embarked\", \"Fare\"]\n",
    "\n",
    "# Create the feature matrices for training and testing data using one-hot encoding:\n",
    "X_train = pd.get_dummies(train_data[features])\n",
    "X_test = pd.get_dummies(test_data[features])\n",
    "\n",
    "# Impute the missing values by using the \"Fare\" column's median:\n",
    "median_fare = X_test['Fare'].median()\n",
    "X_test['Fare'].fillna(median_fare, inplace=True)\n",
    "\n",
    "# Initialize an XGBoost classifier with a random seed for reproducibility:\n",
    "xgb = XGBClassifier(random_state=42)\n",
    "\n",
    "# Train (fit) the XGBoost classifier on the training data:\n",
    "xgb.fit(X_train, y_train)\n",
    "\n",
    "# Use the trained model to make predictions on the test set:\n",
    "xgb_pred = xgb.predict(X_test)"
   ]
  },
  {
   "cell_type": "markdown",
   "id": "e7f7c489",
   "metadata": {
    "papermill": {
     "duration": 0.019254,
     "end_time": "2023-12-14T14:44:45.422272",
     "exception": false,
     "start_time": "2023-12-14T14:44:45.403018",
     "status": "completed"
    },
    "tags": []
   },
   "source": [
    "### <u><i>5. Naive Bayes Classification</i></u>:\n",
    "<p>Naive Bayes is a simple probabilistic classifier that applies Bayes’ theorem with strong (naive) assumption of independence, such that the presence of an individual feature of a class is unrelated to the presence of another feature.</p>\n",
    "<p>Assume that input features $x_1$, $x_2$, ..., $x_n$, are conditionally independent of each other, given the class label $Y$, such that:</p>\n",
    "<p>$P(x_1,x_2,...,x_n|Y)=\\prod_{i=1}^{n}P(x_i|Y)$</p>\n",
    "<p>Therefore, if we only had two classes, like in our problem, then we would define $P(i|x)$, for $i=0,1$ as the probability that measurement vector $x=\\{x_1, x_2, ..., x_n\\}$ belongs to class $i$. While the classification score would be defined as:</p>\n",
    "<p>$\\frac{P(1|x)}{P(0|x)}=\\frac{\\prod_{i=1}^{n}f(x_i|1)P(1)}{\\prod_{i=1}^{n}f(x_i|0)P(0)}=\\frac{P(1)}{P(0)}\\prod_{i=1}^{n}\\frac{f(x_i|1)}{f(x_i|0)}$</p>\n",
    "<p>The naive Bayes model is surprisingly effective and immensely appealing, owing to its simplicity and robustness. Because this algorithm does not require application of complex iterative parameter estimation schemes to large datasets, it is very useful and relatively easy to construct and use. It's somewhat similar to <strong>K-Nearest Neighbors</strong> in the sense that it makes some assumptions that might oversimplify reality, but still, it performs well in many cases.</p>"
   ]
  },
  {
   "cell_type": "code",
   "execution_count": 15,
   "id": "3e90063a",
   "metadata": {
    "execution": {
     "iopub.execute_input": "2023-12-14T14:44:45.462316Z",
     "iopub.status.busy": "2023-12-14T14:44:45.461908Z",
     "iopub.status.idle": "2023-12-14T14:44:45.488372Z",
     "shell.execute_reply": "2023-12-14T14:44:45.487048Z"
    },
    "papermill": {
     "duration": 0.049996,
     "end_time": "2023-12-14T14:44:45.491466",
     "exception": false,
     "start_time": "2023-12-14T14:44:45.441470",
     "status": "completed"
    },
    "tags": []
   },
   "outputs": [],
   "source": [
    "# Import the Gaussian Naive Bayes classifier from scikit-learn:\n",
    "from sklearn.naive_bayes import GaussianNB\n",
    "\n",
    "# Extract the target variable (y_train) from the training data:\n",
    "y_train = train_data[\"Survived\"]\n",
    "\n",
    "# Choose the features to use in the model:\n",
    "features = [\"Pclass\", \"Sex\", \"SibSp\", \"Parch\", \"Embarked\", \"Fare\"]\n",
    "\n",
    "# Create the feature matrices for training and testing data using one-hot encoding:\n",
    "X_train = pd.get_dummies(train_data[features])\n",
    "X_test = pd.get_dummies(test_data[features])\n",
    "\n",
    "# Impute the missing values by using the \"Fare\" column's median:\n",
    "median_fare = X_test['Fare'].median()\n",
    "X_test['Fare'].fillna(median_fare, inplace=True)\n",
    "\n",
    "# Initialize a Gaussian Naive Bayes classifier:\n",
    "NB = GaussianNB()\n",
    "\n",
    "# Train the Naive Bayes classifier using the training data:\n",
    "NB.fit(X_train, y_train)\n",
    "\n",
    "# Use the trained model to make predictions on the test data:\n",
    "nb_pred = NB.predict(X_test)"
   ]
  },
  {
   "cell_type": "markdown",
   "id": "74fbd162",
   "metadata": {
    "papermill": {
     "duration": 0.018596,
     "end_time": "2023-12-14T14:44:45.529588",
     "exception": false,
     "start_time": "2023-12-14T14:44:45.510992",
     "status": "completed"
    },
    "tags": []
   },
   "source": [
    "### <u><i>6. Support Vector Machine</i></u>:\n",
    "<p><strong>Support Vector Machine</strong> is a powerful, highly flexible modeling technique. It classifies the data by finding the hyperplane (meaning an <i>n – 1</i> subspace in an <i>n</i>-dimensional space) that maximizes the margin between the classes in the training data. In two dimensions, for example, the hyperplane is a line that separates the data. Thus, a good separation is achieved by the hyperplane that has the largest distance to the nearest training-data point of any class.</p>"
   ]
  },
  {
   "cell_type": "code",
   "execution_count": 16,
   "id": "c56d4cbb",
   "metadata": {
    "execution": {
     "iopub.execute_input": "2023-12-14T14:44:45.570177Z",
     "iopub.status.busy": "2023-12-14T14:44:45.569717Z",
     "iopub.status.idle": "2023-12-14T14:44:45.637063Z",
     "shell.execute_reply": "2023-12-14T14:44:45.635777Z"
    },
    "papermill": {
     "duration": 0.091073,
     "end_time": "2023-12-14T14:44:45.639973",
     "exception": false,
     "start_time": "2023-12-14T14:44:45.548900",
     "status": "completed"
    },
    "tags": []
   },
   "outputs": [],
   "source": [
    "# Import the Support Vector Classification (SVC) class from the scikit-learn library:\n",
    "from sklearn.svm import SVC\n",
    "\n",
    "# Extract the target variable (y_train) from the training data:\n",
    "y_train = train_data[\"Survived\"]\n",
    "\n",
    "# Choose the features to use in the model:\n",
    "features = [\"Pclass\", \"Sex\", \"SibSp\", \"Parch\", \"Embarked\", \"Fare\"]\n",
    "\n",
    "# Create the feature matrices for training and testing data using one-hot encoding:\n",
    "X_train = pd.get_dummies(train_data[features])\n",
    "X_test = pd.get_dummies(test_data[features])\n",
    "\n",
    "# Impute the missing values by using the \"Fare\" column's median:\n",
    "median_fare = X_test['Fare'].median()\n",
    "X_test['Fare'].fillna(median_fare, inplace=True)\n",
    "\n",
    "# Create a Support Vector Machine (SVM) classifier with a radial basis function (RBF) kernel:\n",
    "svm = SVC(kernel='rbf', random_state=0)\n",
    "\n",
    "# Train the SVM model on the training data:\n",
    "svm.fit(X_train, y_train)\n",
    "\n",
    "# Use the trained SVM model to make predictions on the test data:\n",
    "svm_pred = svm.predict(X_test)"
   ]
  },
  {
   "cell_type": "markdown",
   "id": "6ae06a88",
   "metadata": {
    "papermill": {
     "duration": 0.018511,
     "end_time": "2023-12-14T14:44:45.677398",
     "exception": false,
     "start_time": "2023-12-14T14:44:45.658887",
     "status": "completed"
    },
    "tags": []
   },
   "source": [
    "### <u><i>7. Artificial Neural Networks (ANN)</i></u>:\n",
    "<p><strong>Artificial Neural Network</strong> (<i>ANN</i>) is an efficient computing system whose central theme is borrowed from the analogy of biological neural networks. It incorporates a set of interconnected nodes that operate in parallel at each layer of the program. Its complexity depends on the architecture that we shall provide it each time. At this time and for this rather simple problem, we shall require a simple <i>Sequential</i> model, which is very straightforward (a simple list of layers), but is limited to single-input, single-output stacks of layers (as the name gives away).</p> \n",
    "<p>At this point we shall choose to use 4 layers in total (one input, one hidden) with 64 nodes in the first two and 32 in the last two, as well as an output layer of one value as the <i>Sequential</i> model requires. Since this is a simple classification, the output layer will be a <i>sigmoid</i> function.</p>\n",
    "<p>We shall also standardize the features, and here's why:</p>\n",
    "<ol>\n",
    "    <li><u><i>Gradient Descent Convergence</i></u>: Standardizing features helps gradient descent converge faster. When features have different scales, the optimizer may take longer to find the optimal weights and biases during training.</li>\n",
    "    <li><u><i>Weight Initialization</i></u>: Standardizing features can aid in weight initialization. When features are on different scales, the initial weights assigned to the network may lead to slow convergence or vanishing/exploding gradients.</li>\n",
    "    <li><u><i>Numerical Stability</i></u>: Standardization improves numerical stability in the computations performed during training. Large input values can result in very large or very small intermediate values, leading to numerical instability.</li>\n",
    "    <li><u><i>Model Interpretability</i></u>: Standardized features make it easier to interpret the impact of each feature on the model. The importance of features is more consistent when they are on the same scale.</li>\n",
    "    <li><u><i>Regularization</i></u>: Regularization techniques, such as L1 or L2 regularization, assume that all features have a similar scale. Standardizing features ensures that regularization penalties are applied uniformly across all features.</li>\n",
    "    <li><u><i>ANN Activation Functions</i></u>: Some activation functions, like the sigmoid or tanh, are sensitive to the scale of the input. Standardizing features can prevent saturation of these functions, allowing the network to capture more nuanced patterns.</li>\n",
    "    <li><u><i>Compatibility with Batch Normalization</i></u>: If you use batch normalization layers in your neural network, standardizing features can make the training process more stable and effective.</li>\n",
    "</ol>"
   ]
  },
  {
   "cell_type": "code",
   "execution_count": 17,
   "id": "9262ac37",
   "metadata": {
    "execution": {
     "iopub.execute_input": "2023-12-14T14:44:45.717453Z",
     "iopub.status.busy": "2023-12-14T14:44:45.717008Z",
     "iopub.status.idle": "2023-12-14T14:45:17.614455Z",
     "shell.execute_reply": "2023-12-14T14:45:17.613340Z"
    },
    "papermill": {
     "duration": 31.920922,
     "end_time": "2023-12-14T14:45:17.617136",
     "exception": false,
     "start_time": "2023-12-14T14:44:45.696214",
     "status": "completed"
    },
    "tags": []
   },
   "outputs": [
    {
     "name": "stdout",
     "output_type": "stream",
     "text": [
      "Epoch 1/200\n",
      "28/28 [==============================] - 2s 3ms/step - loss: 0.6039 - accuracy: 0.7486\n",
      "Epoch 2/200\n",
      "28/28 [==============================] - 0s 2ms/step - loss: 0.4625 - accuracy: 0.8025\n",
      "Epoch 3/200\n",
      "28/28 [==============================] - 0s 2ms/step - loss: 0.4459 - accuracy: 0.8013\n",
      "Epoch 4/200\n",
      "28/28 [==============================] - 0s 3ms/step - loss: 0.4336 - accuracy: 0.8058\n",
      "Epoch 5/200\n",
      "28/28 [==============================] - 0s 3ms/step - loss: 0.4300 - accuracy: 0.8092\n",
      "Epoch 6/200\n",
      "28/28 [==============================] - 0s 3ms/step - loss: 0.4247 - accuracy: 0.8148\n",
      "Epoch 7/200\n",
      "28/28 [==============================] - 0s 2ms/step - loss: 0.4205 - accuracy: 0.8204\n",
      "Epoch 8/200\n",
      "28/28 [==============================] - 0s 3ms/step - loss: 0.4206 - accuracy: 0.8137\n",
      "Epoch 9/200\n",
      "28/28 [==============================] - 0s 3ms/step - loss: 0.4210 - accuracy: 0.8148\n",
      "Epoch 10/200\n",
      "28/28 [==============================] - 0s 3ms/step - loss: 0.4126 - accuracy: 0.8182\n",
      "Epoch 11/200\n",
      "28/28 [==============================] - 0s 2ms/step - loss: 0.4130 - accuracy: 0.8193\n",
      "Epoch 12/200\n",
      "28/28 [==============================] - 0s 2ms/step - loss: 0.4103 - accuracy: 0.8204\n",
      "Epoch 13/200\n",
      "28/28 [==============================] - 0s 2ms/step - loss: 0.4124 - accuracy: 0.8148\n",
      "Epoch 14/200\n",
      "28/28 [==============================] - 0s 2ms/step - loss: 0.4071 - accuracy: 0.8215\n",
      "Epoch 15/200\n",
      "28/28 [==============================] - 0s 2ms/step - loss: 0.4049 - accuracy: 0.8204\n",
      "Epoch 16/200\n",
      "28/28 [==============================] - 0s 2ms/step - loss: 0.4022 - accuracy: 0.8260\n",
      "Epoch 17/200\n",
      "28/28 [==============================] - 0s 2ms/step - loss: 0.4007 - accuracy: 0.8215\n",
      "Epoch 18/200\n",
      "28/28 [==============================] - 0s 3ms/step - loss: 0.4027 - accuracy: 0.8238\n",
      "Epoch 19/200\n",
      "28/28 [==============================] - 0s 3ms/step - loss: 0.3969 - accuracy: 0.8283\n",
      "Epoch 20/200\n",
      "28/28 [==============================] - 0s 3ms/step - loss: 0.3924 - accuracy: 0.8215\n",
      "Epoch 21/200\n",
      "28/28 [==============================] - 0s 3ms/step - loss: 0.3938 - accuracy: 0.8305\n",
      "Epoch 22/200\n",
      "28/28 [==============================] - 0s 3ms/step - loss: 0.3924 - accuracy: 0.8328\n",
      "Epoch 23/200\n",
      "28/28 [==============================] - 0s 2ms/step - loss: 0.3887 - accuracy: 0.8283\n",
      "Epoch 24/200\n",
      "28/28 [==============================] - 0s 3ms/step - loss: 0.3852 - accuracy: 0.8418\n",
      "Epoch 25/200\n",
      "28/28 [==============================] - 0s 3ms/step - loss: 0.3876 - accuracy: 0.8294\n",
      "Epoch 26/200\n",
      "28/28 [==============================] - 0s 2ms/step - loss: 0.3899 - accuracy: 0.8260\n",
      "Epoch 27/200\n",
      "28/28 [==============================] - 0s 3ms/step - loss: 0.3890 - accuracy: 0.8328\n",
      "Epoch 28/200\n",
      "28/28 [==============================] - 0s 2ms/step - loss: 0.3877 - accuracy: 0.8350\n",
      "Epoch 29/200\n",
      "28/28 [==============================] - 0s 2ms/step - loss: 0.3831 - accuracy: 0.8305\n",
      "Epoch 30/200\n",
      "28/28 [==============================] - 0s 2ms/step - loss: 0.3835 - accuracy: 0.8294\n",
      "Epoch 31/200\n",
      "28/28 [==============================] - 0s 2ms/step - loss: 0.3832 - accuracy: 0.8305\n",
      "Epoch 32/200\n",
      "28/28 [==============================] - 0s 2ms/step - loss: 0.3786 - accuracy: 0.8305\n",
      "Epoch 33/200\n",
      "28/28 [==============================] - 0s 3ms/step - loss: 0.3812 - accuracy: 0.8316\n",
      "Epoch 34/200\n",
      "28/28 [==============================] - 0s 3ms/step - loss: 0.3785 - accuracy: 0.8316\n",
      "Epoch 35/200\n",
      "28/28 [==============================] - 0s 3ms/step - loss: 0.3735 - accuracy: 0.8429\n",
      "Epoch 36/200\n",
      "28/28 [==============================] - 0s 3ms/step - loss: 0.3752 - accuracy: 0.8305\n",
      "Epoch 37/200\n",
      "28/28 [==============================] - 0s 2ms/step - loss: 0.3734 - accuracy: 0.8350\n",
      "Epoch 38/200\n",
      "28/28 [==============================] - 0s 2ms/step - loss: 0.3752 - accuracy: 0.8429\n",
      "Epoch 39/200\n",
      "28/28 [==============================] - 0s 2ms/step - loss: 0.3693 - accuracy: 0.8384\n",
      "Epoch 40/200\n",
      "28/28 [==============================] - 0s 2ms/step - loss: 0.3720 - accuracy: 0.8429\n",
      "Epoch 41/200\n",
      "28/28 [==============================] - 0s 2ms/step - loss: 0.3691 - accuracy: 0.8451\n",
      "Epoch 42/200\n",
      "28/28 [==============================] - 0s 2ms/step - loss: 0.3679 - accuracy: 0.8451\n",
      "Epoch 43/200\n",
      "28/28 [==============================] - 0s 2ms/step - loss: 0.3658 - accuracy: 0.8339\n",
      "Epoch 44/200\n",
      "28/28 [==============================] - 0s 2ms/step - loss: 0.3732 - accuracy: 0.8418\n",
      "Epoch 45/200\n",
      "28/28 [==============================] - 0s 3ms/step - loss: 0.3657 - accuracy: 0.8429\n",
      "Epoch 46/200\n",
      "28/28 [==============================] - 0s 2ms/step - loss: 0.3661 - accuracy: 0.8429\n",
      "Epoch 47/200\n",
      "28/28 [==============================] - 0s 2ms/step - loss: 0.3667 - accuracy: 0.8384\n",
      "Epoch 48/200\n",
      "28/28 [==============================] - 0s 2ms/step - loss: 0.3630 - accuracy: 0.8462\n",
      "Epoch 49/200\n",
      "28/28 [==============================] - 0s 2ms/step - loss: 0.3647 - accuracy: 0.8429\n",
      "Epoch 50/200\n",
      "28/28 [==============================] - 0s 2ms/step - loss: 0.3639 - accuracy: 0.8373\n",
      "Epoch 51/200\n",
      "28/28 [==============================] - 0s 2ms/step - loss: 0.3719 - accuracy: 0.8350\n",
      "Epoch 52/200\n",
      "28/28 [==============================] - 0s 2ms/step - loss: 0.3658 - accuracy: 0.8373\n",
      "Epoch 53/200\n",
      "28/28 [==============================] - 0s 2ms/step - loss: 0.3617 - accuracy: 0.8474\n",
      "Epoch 54/200\n",
      "28/28 [==============================] - 0s 2ms/step - loss: 0.3586 - accuracy: 0.8440\n",
      "Epoch 55/200\n",
      "28/28 [==============================] - 0s 2ms/step - loss: 0.3567 - accuracy: 0.8406\n",
      "Epoch 56/200\n",
      "28/28 [==============================] - 0s 2ms/step - loss: 0.3579 - accuracy: 0.8485\n",
      "Epoch 57/200\n",
      "28/28 [==============================] - 0s 2ms/step - loss: 0.3578 - accuracy: 0.8440\n",
      "Epoch 58/200\n",
      "28/28 [==============================] - 0s 2ms/step - loss: 0.3592 - accuracy: 0.8373\n",
      "Epoch 59/200\n",
      "28/28 [==============================] - 0s 2ms/step - loss: 0.3568 - accuracy: 0.8384\n",
      "Epoch 60/200\n",
      "28/28 [==============================] - 0s 2ms/step - loss: 0.3569 - accuracy: 0.8451\n",
      "Epoch 61/200\n",
      "28/28 [==============================] - 0s 2ms/step - loss: 0.3583 - accuracy: 0.8462\n",
      "Epoch 62/200\n",
      "28/28 [==============================] - 0s 2ms/step - loss: 0.3546 - accuracy: 0.8451\n",
      "Epoch 63/200\n",
      "28/28 [==============================] - 0s 2ms/step - loss: 0.3516 - accuracy: 0.8418\n",
      "Epoch 64/200\n",
      "28/28 [==============================] - 0s 2ms/step - loss: 0.3532 - accuracy: 0.8451\n",
      "Epoch 65/200\n",
      "28/28 [==============================] - 0s 2ms/step - loss: 0.3496 - accuracy: 0.8451\n",
      "Epoch 66/200\n",
      "28/28 [==============================] - 0s 2ms/step - loss: 0.3516 - accuracy: 0.8429\n",
      "Epoch 67/200\n",
      "28/28 [==============================] - 0s 2ms/step - loss: 0.3561 - accuracy: 0.8395\n",
      "Epoch 68/200\n",
      "28/28 [==============================] - 0s 2ms/step - loss: 0.3514 - accuracy: 0.8462\n",
      "Epoch 69/200\n",
      "28/28 [==============================] - 0s 2ms/step - loss: 0.3487 - accuracy: 0.8406\n",
      "Epoch 70/200\n",
      "28/28 [==============================] - 0s 2ms/step - loss: 0.3495 - accuracy: 0.8485\n",
      "Epoch 71/200\n",
      "28/28 [==============================] - 0s 2ms/step - loss: 0.3514 - accuracy: 0.8429\n",
      "Epoch 72/200\n",
      "28/28 [==============================] - 0s 2ms/step - loss: 0.3500 - accuracy: 0.8474\n",
      "Epoch 73/200\n",
      "28/28 [==============================] - 0s 2ms/step - loss: 0.3520 - accuracy: 0.8462\n",
      "Epoch 74/200\n",
      "28/28 [==============================] - 0s 2ms/step - loss: 0.3480 - accuracy: 0.8541\n",
      "Epoch 75/200\n",
      "28/28 [==============================] - 0s 2ms/step - loss: 0.3462 - accuracy: 0.8474\n",
      "Epoch 76/200\n",
      "28/28 [==============================] - 0s 2ms/step - loss: 0.3440 - accuracy: 0.8451\n",
      "Epoch 77/200\n",
      "28/28 [==============================] - 0s 2ms/step - loss: 0.3497 - accuracy: 0.8474\n",
      "Epoch 78/200\n",
      "28/28 [==============================] - 0s 2ms/step - loss: 0.3520 - accuracy: 0.8440\n",
      "Epoch 79/200\n",
      "28/28 [==============================] - 0s 2ms/step - loss: 0.3471 - accuracy: 0.8429\n",
      "Epoch 80/200\n",
      "28/28 [==============================] - 0s 2ms/step - loss: 0.3469 - accuracy: 0.8440\n",
      "Epoch 81/200\n",
      "28/28 [==============================] - 0s 2ms/step - loss: 0.3504 - accuracy: 0.8462\n",
      "Epoch 82/200\n",
      "28/28 [==============================] - 0s 2ms/step - loss: 0.3498 - accuracy: 0.8451\n",
      "Epoch 83/200\n",
      "28/28 [==============================] - 0s 2ms/step - loss: 0.3481 - accuracy: 0.8541\n",
      "Epoch 84/200\n",
      "28/28 [==============================] - 0s 2ms/step - loss: 0.3488 - accuracy: 0.8451\n",
      "Epoch 85/200\n",
      "28/28 [==============================] - 0s 2ms/step - loss: 0.3437 - accuracy: 0.8530\n",
      "Epoch 86/200\n",
      "28/28 [==============================] - 0s 2ms/step - loss: 0.3455 - accuracy: 0.8440\n",
      "Epoch 87/200\n",
      "28/28 [==============================] - 0s 2ms/step - loss: 0.3531 - accuracy: 0.8496\n",
      "Epoch 88/200\n",
      "28/28 [==============================] - 0s 2ms/step - loss: 0.3500 - accuracy: 0.8451\n",
      "Epoch 89/200\n",
      "28/28 [==============================] - 0s 2ms/step - loss: 0.3477 - accuracy: 0.8395\n",
      "Epoch 90/200\n",
      "28/28 [==============================] - 0s 2ms/step - loss: 0.3426 - accuracy: 0.8530\n",
      "Epoch 91/200\n",
      "28/28 [==============================] - 0s 2ms/step - loss: 0.3437 - accuracy: 0.8507\n",
      "Epoch 92/200\n",
      "28/28 [==============================] - 0s 2ms/step - loss: 0.3507 - accuracy: 0.8440\n",
      "Epoch 93/200\n",
      "28/28 [==============================] - 0s 2ms/step - loss: 0.3461 - accuracy: 0.8451\n",
      "Epoch 94/200\n",
      "28/28 [==============================] - 0s 2ms/step - loss: 0.3525 - accuracy: 0.8440\n",
      "Epoch 95/200\n",
      "28/28 [==============================] - 0s 2ms/step - loss: 0.3439 - accuracy: 0.8462\n",
      "Epoch 96/200\n",
      "28/28 [==============================] - 0s 2ms/step - loss: 0.3428 - accuracy: 0.8485\n",
      "Epoch 97/200\n",
      "28/28 [==============================] - 0s 2ms/step - loss: 0.3385 - accuracy: 0.8474\n",
      "Epoch 98/200\n",
      "28/28 [==============================] - 0s 2ms/step - loss: 0.3413 - accuracy: 0.8474\n",
      "Epoch 99/200\n",
      "28/28 [==============================] - 0s 2ms/step - loss: 0.3430 - accuracy: 0.8474\n",
      "Epoch 100/200\n",
      "28/28 [==============================] - 0s 2ms/step - loss: 0.3417 - accuracy: 0.8507\n",
      "Epoch 101/200\n",
      "28/28 [==============================] - 0s 2ms/step - loss: 0.3445 - accuracy: 0.8440\n",
      "Epoch 102/200\n",
      "28/28 [==============================] - 0s 2ms/step - loss: 0.3360 - accuracy: 0.8406\n",
      "Epoch 103/200\n",
      "28/28 [==============================] - 0s 2ms/step - loss: 0.3475 - accuracy: 0.8474\n",
      "Epoch 104/200\n",
      "28/28 [==============================] - 0s 2ms/step - loss: 0.3381 - accuracy: 0.8541\n",
      "Epoch 105/200\n",
      "28/28 [==============================] - 0s 3ms/step - loss: 0.3433 - accuracy: 0.8496\n",
      "Epoch 106/200\n",
      "28/28 [==============================] - 0s 3ms/step - loss: 0.3484 - accuracy: 0.8552\n",
      "Epoch 107/200\n",
      "28/28 [==============================] - 0s 2ms/step - loss: 0.3458 - accuracy: 0.8283\n",
      "Epoch 108/200\n",
      "28/28 [==============================] - 0s 2ms/step - loss: 0.3427 - accuracy: 0.8485\n",
      "Epoch 109/200\n",
      "28/28 [==============================] - 0s 2ms/step - loss: 0.3394 - accuracy: 0.8462\n",
      "Epoch 110/200\n",
      "28/28 [==============================] - 0s 2ms/step - loss: 0.3396 - accuracy: 0.8462\n",
      "Epoch 111/200\n",
      "28/28 [==============================] - 0s 2ms/step - loss: 0.3400 - accuracy: 0.8519\n",
      "Epoch 112/200\n",
      "28/28 [==============================] - 0s 2ms/step - loss: 0.3378 - accuracy: 0.8530\n",
      "Epoch 113/200\n",
      "28/28 [==============================] - 0s 2ms/step - loss: 0.3412 - accuracy: 0.8474\n",
      "Epoch 114/200\n",
      "28/28 [==============================] - 0s 2ms/step - loss: 0.3400 - accuracy: 0.8485\n",
      "Epoch 115/200\n",
      "28/28 [==============================] - 0s 2ms/step - loss: 0.3357 - accuracy: 0.8519\n",
      "Epoch 116/200\n",
      "28/28 [==============================] - 0s 2ms/step - loss: 0.3358 - accuracy: 0.8485\n",
      "Epoch 117/200\n",
      "28/28 [==============================] - 0s 2ms/step - loss: 0.3362 - accuracy: 0.8496\n",
      "Epoch 118/200\n",
      "28/28 [==============================] - 0s 2ms/step - loss: 0.3348 - accuracy: 0.8485\n",
      "Epoch 119/200\n",
      "28/28 [==============================] - 0s 2ms/step - loss: 0.3330 - accuracy: 0.8474\n",
      "Epoch 120/200\n",
      "28/28 [==============================] - 0s 2ms/step - loss: 0.3354 - accuracy: 0.8485\n",
      "Epoch 121/200\n",
      "28/28 [==============================] - 0s 2ms/step - loss: 0.3351 - accuracy: 0.8485\n",
      "Epoch 122/200\n",
      "28/28 [==============================] - 0s 2ms/step - loss: 0.3337 - accuracy: 0.8519\n",
      "Epoch 123/200\n",
      "28/28 [==============================] - 0s 2ms/step - loss: 0.3371 - accuracy: 0.8519\n",
      "Epoch 124/200\n",
      "28/28 [==============================] - 0s 2ms/step - loss: 0.3392 - accuracy: 0.8519\n",
      "Epoch 125/200\n",
      "28/28 [==============================] - 0s 2ms/step - loss: 0.3338 - accuracy: 0.8530\n",
      "Epoch 126/200\n",
      "28/28 [==============================] - 0s 2ms/step - loss: 0.3352 - accuracy: 0.8474\n",
      "Epoch 127/200\n",
      "28/28 [==============================] - 0s 2ms/step - loss: 0.3347 - accuracy: 0.8575\n",
      "Epoch 128/200\n",
      "28/28 [==============================] - 0s 2ms/step - loss: 0.3313 - accuracy: 0.8429\n",
      "Epoch 129/200\n",
      "28/28 [==============================] - 0s 2ms/step - loss: 0.3324 - accuracy: 0.8496\n",
      "Epoch 130/200\n",
      "28/28 [==============================] - 0s 2ms/step - loss: 0.3363 - accuracy: 0.8507\n",
      "Epoch 131/200\n",
      "28/28 [==============================] - 0s 2ms/step - loss: 0.3327 - accuracy: 0.8519\n",
      "Epoch 132/200\n",
      "28/28 [==============================] - 0s 2ms/step - loss: 0.3339 - accuracy: 0.8474\n",
      "Epoch 133/200\n",
      "28/28 [==============================] - 0s 2ms/step - loss: 0.3383 - accuracy: 0.8451\n",
      "Epoch 134/200\n",
      "28/28 [==============================] - 0s 3ms/step - loss: 0.3330 - accuracy: 0.8395\n",
      "Epoch 135/200\n",
      "28/28 [==============================] - 0s 3ms/step - loss: 0.3333 - accuracy: 0.8451\n",
      "Epoch 136/200\n",
      "28/28 [==============================] - 0s 3ms/step - loss: 0.3310 - accuracy: 0.8485\n",
      "Epoch 137/200\n",
      "28/28 [==============================] - 0s 3ms/step - loss: 0.3327 - accuracy: 0.8451\n",
      "Epoch 138/200\n",
      "28/28 [==============================] - 0s 2ms/step - loss: 0.3347 - accuracy: 0.8462\n",
      "Epoch 139/200\n",
      "28/28 [==============================] - 0s 2ms/step - loss: 0.3330 - accuracy: 0.8440\n",
      "Epoch 140/200\n",
      "28/28 [==============================] - 0s 2ms/step - loss: 0.3301 - accuracy: 0.8485\n",
      "Epoch 141/200\n",
      "28/28 [==============================] - 0s 2ms/step - loss: 0.3332 - accuracy: 0.8474\n",
      "Epoch 142/200\n",
      "28/28 [==============================] - 0s 2ms/step - loss: 0.3340 - accuracy: 0.8462\n",
      "Epoch 143/200\n",
      "28/28 [==============================] - 0s 3ms/step - loss: 0.3439 - accuracy: 0.8496\n",
      "Epoch 144/200\n",
      "28/28 [==============================] - 0s 2ms/step - loss: 0.3362 - accuracy: 0.8496\n",
      "Epoch 145/200\n",
      "28/28 [==============================] - 0s 3ms/step - loss: 0.3352 - accuracy: 0.8451\n",
      "Epoch 146/200\n",
      "28/28 [==============================] - 0s 2ms/step - loss: 0.3324 - accuracy: 0.8541\n",
      "Epoch 147/200\n",
      "28/28 [==============================] - 0s 3ms/step - loss: 0.3320 - accuracy: 0.8474\n",
      "Epoch 148/200\n",
      "28/28 [==============================] - 0s 3ms/step - loss: 0.3331 - accuracy: 0.8507\n",
      "Epoch 149/200\n",
      "28/28 [==============================] - 0s 3ms/step - loss: 0.3332 - accuracy: 0.8519\n",
      "Epoch 150/200\n",
      "28/28 [==============================] - 0s 2ms/step - loss: 0.3257 - accuracy: 0.8608\n",
      "Epoch 151/200\n",
      "28/28 [==============================] - 0s 3ms/step - loss: 0.3309 - accuracy: 0.8631\n",
      "Epoch 152/200\n",
      "28/28 [==============================] - 0s 2ms/step - loss: 0.3314 - accuracy: 0.8519\n",
      "Epoch 153/200\n",
      "28/28 [==============================] - 0s 3ms/step - loss: 0.3263 - accuracy: 0.8530\n",
      "Epoch 154/200\n",
      "28/28 [==============================] - 0s 3ms/step - loss: 0.3273 - accuracy: 0.8485\n",
      "Epoch 155/200\n",
      "28/28 [==============================] - 0s 3ms/step - loss: 0.3260 - accuracy: 0.8552\n",
      "Epoch 156/200\n",
      "28/28 [==============================] - 0s 3ms/step - loss: 0.3256 - accuracy: 0.8552\n",
      "Epoch 157/200\n",
      "28/28 [==============================] - 0s 3ms/step - loss: 0.3348 - accuracy: 0.8496\n",
      "Epoch 158/200\n",
      "28/28 [==============================] - 0s 3ms/step - loss: 0.3301 - accuracy: 0.8440\n",
      "Epoch 159/200\n",
      "28/28 [==============================] - 0s 3ms/step - loss: 0.3273 - accuracy: 0.8496\n",
      "Epoch 160/200\n",
      "28/28 [==============================] - 0s 3ms/step - loss: 0.3264 - accuracy: 0.8563\n",
      "Epoch 161/200\n",
      "28/28 [==============================] - 0s 2ms/step - loss: 0.3294 - accuracy: 0.8530\n",
      "Epoch 162/200\n",
      "28/28 [==============================] - 0s 2ms/step - loss: 0.3260 - accuracy: 0.8474\n",
      "Epoch 163/200\n",
      "28/28 [==============================] - 0s 2ms/step - loss: 0.3253 - accuracy: 0.8496\n",
      "Epoch 164/200\n",
      "28/28 [==============================] - 0s 2ms/step - loss: 0.3229 - accuracy: 0.8608\n",
      "Epoch 165/200\n",
      "28/28 [==============================] - 0s 2ms/step - loss: 0.3297 - accuracy: 0.8552\n",
      "Epoch 166/200\n",
      "28/28 [==============================] - 0s 2ms/step - loss: 0.3257 - accuracy: 0.8631\n",
      "Epoch 167/200\n",
      "28/28 [==============================] - 0s 2ms/step - loss: 0.3251 - accuracy: 0.8541\n",
      "Epoch 168/200\n",
      "28/28 [==============================] - 0s 2ms/step - loss: 0.3218 - accuracy: 0.8575\n",
      "Epoch 169/200\n",
      "28/28 [==============================] - 0s 2ms/step - loss: 0.3261 - accuracy: 0.8507\n",
      "Epoch 170/200\n",
      "28/28 [==============================] - 0s 2ms/step - loss: 0.3280 - accuracy: 0.8418\n",
      "Epoch 171/200\n",
      "28/28 [==============================] - 0s 2ms/step - loss: 0.3227 - accuracy: 0.8541\n",
      "Epoch 172/200\n",
      "28/28 [==============================] - 0s 2ms/step - loss: 0.3248 - accuracy: 0.8519\n",
      "Epoch 173/200\n",
      "28/28 [==============================] - 0s 2ms/step - loss: 0.3246 - accuracy: 0.8563\n",
      "Epoch 174/200\n",
      "28/28 [==============================] - 0s 2ms/step - loss: 0.3270 - accuracy: 0.8507\n",
      "Epoch 175/200\n",
      "28/28 [==============================] - 0s 2ms/step - loss: 0.3261 - accuracy: 0.8620\n",
      "Epoch 176/200\n",
      "28/28 [==============================] - 0s 2ms/step - loss: 0.3239 - accuracy: 0.8429\n",
      "Epoch 177/200\n",
      "28/28 [==============================] - 0s 2ms/step - loss: 0.3232 - accuracy: 0.8552\n",
      "Epoch 178/200\n",
      "28/28 [==============================] - 0s 2ms/step - loss: 0.3248 - accuracy: 0.8552\n",
      "Epoch 179/200\n",
      "28/28 [==============================] - 0s 3ms/step - loss: 0.3284 - accuracy: 0.8563\n",
      "Epoch 180/200\n",
      "28/28 [==============================] - 0s 2ms/step - loss: 0.3213 - accuracy: 0.8552\n",
      "Epoch 181/200\n",
      "28/28 [==============================] - 0s 2ms/step - loss: 0.3220 - accuracy: 0.8575\n",
      "Epoch 182/200\n",
      "28/28 [==============================] - 0s 2ms/step - loss: 0.3235 - accuracy: 0.8519\n",
      "Epoch 183/200\n",
      "28/28 [==============================] - 0s 3ms/step - loss: 0.3368 - accuracy: 0.8474\n",
      "Epoch 184/200\n",
      "28/28 [==============================] - 0s 2ms/step - loss: 0.3265 - accuracy: 0.8541\n",
      "Epoch 185/200\n",
      "28/28 [==============================] - 0s 3ms/step - loss: 0.3188 - accuracy: 0.8631\n",
      "Epoch 186/200\n",
      "28/28 [==============================] - 0s 3ms/step - loss: 0.3194 - accuracy: 0.8575\n",
      "Epoch 187/200\n",
      "28/28 [==============================] - 0s 2ms/step - loss: 0.3216 - accuracy: 0.8541\n",
      "Epoch 188/200\n",
      "28/28 [==============================] - 0s 3ms/step - loss: 0.3246 - accuracy: 0.8530\n",
      "Epoch 189/200\n",
      "28/28 [==============================] - 0s 2ms/step - loss: 0.3236 - accuracy: 0.8563\n",
      "Epoch 190/200\n",
      "28/28 [==============================] - 0s 2ms/step - loss: 0.3235 - accuracy: 0.8496\n",
      "Epoch 191/200\n",
      "28/28 [==============================] - 0s 3ms/step - loss: 0.3236 - accuracy: 0.8563\n",
      "Epoch 192/200\n",
      "28/28 [==============================] - 0s 2ms/step - loss: 0.3218 - accuracy: 0.8597\n",
      "Epoch 193/200\n",
      "28/28 [==============================] - 0s 2ms/step - loss: 0.3219 - accuracy: 0.8530\n",
      "Epoch 194/200\n",
      "28/28 [==============================] - 0s 2ms/step - loss: 0.3235 - accuracy: 0.8519\n",
      "Epoch 195/200\n",
      "28/28 [==============================] - 0s 2ms/step - loss: 0.3189 - accuracy: 0.8586\n",
      "Epoch 196/200\n",
      "28/28 [==============================] - 0s 2ms/step - loss: 0.3187 - accuracy: 0.8552\n",
      "Epoch 197/200\n",
      "28/28 [==============================] - 0s 2ms/step - loss: 0.3192 - accuracy: 0.8530\n",
      "Epoch 198/200\n",
      "28/28 [==============================] - 0s 2ms/step - loss: 0.3198 - accuracy: 0.8507\n",
      "Epoch 199/200\n",
      "28/28 [==============================] - 0s 2ms/step - loss: 0.3254 - accuracy: 0.8519\n",
      "Epoch 200/200\n",
      "28/28 [==============================] - 0s 2ms/step - loss: 0.3247 - accuracy: 0.8552\n",
      "14/14 [==============================] - 0s 2ms/step\n"
     ]
    }
   ],
   "source": [
    "# Import necessary libraries:\n",
    "import tensorflow as tf\n",
    "from sklearn.preprocessing import StandardScaler\n",
    "from tensorflow import keras\n",
    "from tensorflow.keras import layers\n",
    "\n",
    "# Extract the target variable (y_train) from the training data:\n",
    "y_train = train_data[\"Survived\"]\n",
    "\n",
    "# Choose the features to use in the model:\n",
    "features = [\"Pclass\", \"Sex\", \"SibSp\", \"Parch\", \"Embarked\", \"Fare\"]\n",
    "\n",
    "# Create the feature matrices for training and testing data using one-hot encoding:\n",
    "X_train = pd.get_dummies(train_data[features])\n",
    "X_test = pd.get_dummies(test_data[features])\n",
    "\n",
    "# Impute the missing values by using the \"Fare\" column's median:\n",
    "median_fare = X_test['Fare'].median()\n",
    "X_test['Fare'].fillna(median_fare, inplace=True)\n",
    "\n",
    "# Standardize features using StandardScaler:\n",
    "scaler = StandardScaler()\n",
    "X_train_scaled = scaler.fit_transform(X_train)\n",
    "X_test_scaled = scaler.transform(X_test)\n",
    "\n",
    "# Build the neural network model using Keras Sequential API:\n",
    "ann = keras.Sequential([\n",
    "    layers.Dense(64, activation='relu', input_shape=(X_train.shape[1],)),  # Input layer with 64 neurons and ReLU activation\n",
    "    layers.Dense(64, activation='relu'),  # Hidden layer with 64 neurons and ReLU activation\n",
    "    layers.Dense(32, activation='relu'),  # Hidden layer with 32 neurons and ReLU activation\n",
    "    layers.Dense(32, activation='relu'),  # Hidden layer with 32 neurons and ReLU activation\n",
    "    layers.Dense(1, activation='sigmoid')  # Output layer with 1 neuron (binary classification) and sigmoid activation\n",
    "])\n",
    "\n",
    "# Compile the model using binary crossentropy loss and Adam optimizer:\n",
    "ann.compile(optimizer='adam', loss='binary_crossentropy', metrics=['accuracy'])\n",
    "\n",
    "# Train the model on the scaled training data with 200 epochs and a batch size of 32:\n",
    "ann.fit(X_train_scaled, y_train, epochs=200, batch_size=32)\n",
    "\n",
    "# Evaluate the trained model on the scaled test set:\n",
    "y_pred_probs = ann.predict(X_test_scaled)\n",
    "\n",
    "# Convert probabilities to binary predictions using a threshold (e.g., 0.5):\n",
    "threshold = 0.5\n",
    "ann_pred = np.ravel((y_pred_probs > threshold).astype(int))"
   ]
  },
  {
   "cell_type": "markdown",
   "id": "bcdaee4b",
   "metadata": {
    "papermill": {
     "duration": 0.095874,
     "end_time": "2023-12-14T14:45:17.806341",
     "exception": false,
     "start_time": "2023-12-14T14:45:17.710467",
     "status": "completed"
    },
    "tags": []
   },
   "source": [
    "### <u><i>8. Random Forest Classification with Cross-Validation</i></u>:\n",
    "<p><strong>Random Forest Classification with Cross-Validation</strong> is a powerful and widely used machine learning technique for predictive modeling. Random Forest is an ensemble learning method that combines the predictions of multiple decision trees to improve accuracy and robustness. Each tree is trained on a random subset of the training data and makes independent predictions. The final prediction is then determined by aggregating the results of individual trees, often through a majority voting mechanism.</p>\n",
    "<p>Cross-validation is a crucial component when working with Random Forests to assess their performance and generalization capabilities. Cross-validation involves splitting the dataset into multiple subsets, typically k-folds, where the model is trained on k-1 folds and validated on the remaining fold. This process is repeated k times, and performance metrics are averaged to provide a more reliable estimate of the model's effectiveness.</p>\n",
    "<p>The combination of Random Forest and Cross-Validation addresses several key issues in machine learning, such as overfitting and variability in model performance. Random Forest helps reduce overfitting by introducing randomness in the training process, and cross-validation provides a more robust evaluation of the model's performance by testing it on different subsets of the data.</p>\n",
    "<p>Benefits of <strong>Random Forest Classification with Cross-Validation</strong> include:</p>\n",
    "<ol>\n",
    "    <li><u><i>Improved Generalization</i></u>: Random Forests are less prone to overfitting, making them well-suited for a wide range of datasets.</li>\n",
    "    <li><u><i>High Accuracy</i></u>: The ensemble nature of Random Forests often results in higher predictive accuracy compared to individual decision trees.</li>\n",
    "    <li><u><i>Feature Importance</i></u>: Random Forests provide a measure of feature importance, helping to identify the most influential features in the dataset.</li>\n",
    "    <li><u><i>Robustness</i></u>: The combination of randomness and cross-validation enhances the model's robustness, making it more reliable across different subsets of the data.</li>\n",
    "    <li><u><i>Versatility</i></u>: Random Forests can be applied to both classification and regression problems, making them versatile for various tasks.</li>\n",
    "</ol>\n",
    "<p>In summary, Random Forest Classification with Cross-Validation is a potent approach in machine learning, offering improved accuracy, robustness, and generalization. It is particularly useful when dealing with complex datasets and scenarios where overfitting is a concern.</p>"
   ]
  },
  {
   "cell_type": "code",
   "execution_count": 18,
   "id": "bac6f0da",
   "metadata": {
    "execution": {
     "iopub.execute_input": "2023-12-14T14:45:18.002362Z",
     "iopub.status.busy": "2023-12-14T14:45:18.001188Z",
     "iopub.status.idle": "2023-12-14T14:46:23.577086Z",
     "shell.execute_reply": "2023-12-14T14:46:23.575731Z"
    },
    "papermill": {
     "duration": 65.773986,
     "end_time": "2023-12-14T14:46:23.676865",
     "exception": false,
     "start_time": "2023-12-14T14:45:17.902879",
     "status": "completed"
    },
    "tags": []
   },
   "outputs": [
    {
     "name": "stdout",
     "output_type": "stream",
     "text": [
      "Best Model Hyperparameters: {'criterion': 'entropy', 'max_depth': 4, 'max_features': 'sqrt', 'n_estimators': 80}\n"
     ]
    }
   ],
   "source": [
    "# Import necessary libraries from scikit-learn:\n",
    "from sklearn.ensemble import RandomForestClassifier\n",
    "from sklearn.model_selection import GridSearchCV\n",
    "\n",
    "\n",
    "# Extract the target variable (y_train) from the training data:\n",
    "y_train = train_data[\"Survived\"]\n",
    "\n",
    "# Choose the features to use in the model:\n",
    "features = [\"Pclass\", \"Sex\", \"SibSp\", \"Parch\", \"Embarked\", \"Fare\"]\n",
    "\n",
    "# Create the feature matrices for training and testing data using one-hot encoding:\n",
    "X_train = pd.get_dummies(train_data[features])\n",
    "X_test = pd.get_dummies(test_data[features])\n",
    "\n",
    "# Impute the missing values by using the \"Fare\" column's median:\n",
    "median_fare = X_test['Fare'].median()\n",
    "X_test['Fare'].fillna(median_fare, inplace=True)\n",
    "\n",
    "# Initialize a RandomForestClassifier with specified parameters:\n",
    "rfc = RandomForestClassifier(random_state=42, \n",
    "                             n_jobs=-1 # Use all processors.\n",
    "                            )\n",
    "\n",
    "# Define the parameter grid for hyperparameter tuning using GridSearchCV:\n",
    "param_grid = { \n",
    "    'n_estimators': [50, 80, 100, 200],  # The number of trees in the forest.\n",
    "    'max_features': ['sqrt'],  # The number of features to consider when looking for the best split.\n",
    "    'max_depth' : [2, 3, 4, 5],  # The maximum depth of the individual regression estimators.\n",
    "    'criterion' :['gini', 'entropy']  # Function to measure the quality of a split.\n",
    "}\n",
    "\n",
    "# Initialize GridSearchCV with the RandomForestClassifier and parameter grid:\n",
    "# (use 5-fold cross-validation and accuracy as the scoring metric).\n",
    "cv_rfc = GridSearchCV(estimator=rfc, param_grid=param_grid, cv=5, scoring='accuracy')\n",
    "\n",
    "# Fit the model to the training data:\n",
    "cv_rfc.fit(X_train, y_train)\n",
    "\n",
    "# Print the best hyperparameters found by GridSearchCV:\n",
    "print('Best Model Hyperparameters:', cv_rfc.best_params_)\n",
    "\n",
    "# Make predictions on the test data using the best model:\n",
    "cv_rfc_pred = cv_rfc.predict(X_test)"
   ]
  },
  {
   "cell_type": "markdown",
   "id": "34f24ca6",
   "metadata": {
    "papermill": {
     "duration": 0.094175,
     "end_time": "2023-12-14T14:46:23.866262",
     "exception": false,
     "start_time": "2023-12-14T14:46:23.772087",
     "status": "completed"
    },
    "tags": []
   },
   "source": [
    "### <u><i>9. Support Vector Machine with Cross-Validation</i></u>:\n",
    "<p>Support Vector Machine (SVM) is a powerful and versatile machine learning algorithm used for both classification and regression tasks. One crucial aspect in training an SVM model is determining the appropriate hyperparameters, such as the regularization parameter (C) and the kernel type. Cross-validation is a key technique employed to find the optimal set of hyperparameters for SVM models.</p>\n",
    "<p>Cross-validation involves partitioning the dataset into multiple subsets, training the model on a subset, and validating it on the remaining data. This process is repeated several times, with different subsets used for training and validation in each iteration. One common method for cross-validation is k-fold cross-validation, where the dataset is divided into k equally sized folds, and the model is trained and evaluated k times, each time using a different fold as the validation set.</p>\n",
    "<p>For SVM, cross-validation helps in tuning hyperparameters to achieve better generalization performance. It prevents overfitting by assessing the model's performance on various subsets of the data, ensuring that the model's performance is not overly dependent on a specific training-test split.</p>\n",
    "<p>During cross-validation, the SVM algorithm explores different combinations of hyperparameters, and the performance metrics (such as accuracy, precision, or F1-score) are averaged over the k iterations. This provides a more robust estimate of the model's performance and helps to identify the hyperparameter values that result in the best overall performance on the given dataset.</p>\n",
    "<p>In summary, <strong>Support Vector Machines with Cross-Validation</strong> is a systematic approach to fine-tune SVM models, enhancing their ability to generalize well to unseen data and improving their reliability in real-world applications. It is an essential step in the model development process to ensure that the SVM model performs optimally across different data subsets.</p>"
   ]
  },
  {
   "cell_type": "code",
   "execution_count": 19,
   "id": "8777644a",
   "metadata": {
    "execution": {
     "iopub.execute_input": "2023-12-14T14:46:24.056865Z",
     "iopub.status.busy": "2023-12-14T14:46:24.056425Z",
     "iopub.status.idle": "2023-12-14T15:15:37.657372Z",
     "shell.execute_reply": "2023-12-14T15:15:37.655496Z"
    },
    "papermill": {
     "duration": 1753.699452,
     "end_time": "2023-12-14T15:15:37.660674",
     "exception": false,
     "start_time": "2023-12-14T14:46:23.961222",
     "status": "completed"
    },
    "tags": []
   },
   "outputs": [
    {
     "name": "stdout",
     "output_type": "stream",
     "text": [
      "Fitting 5 folds for each of 24 candidates, totalling 120 fits\n",
      "[CV 1/5; 1/24] START C=0.1, gamma=0.1, kernel=linear............................\n",
      "[CV 1/5; 1/24] END C=0.1, gamma=0.1, kernel=linear;, score=0.804 total time=   0.2s\n",
      "[CV 2/5; 1/24] START C=0.1, gamma=0.1, kernel=linear............................\n",
      "[CV 2/5; 1/24] END C=0.1, gamma=0.1, kernel=linear;, score=0.803 total time=   0.1s\n",
      "[CV 3/5; 1/24] START C=0.1, gamma=0.1, kernel=linear............................\n",
      "[CV 3/5; 1/24] END C=0.1, gamma=0.1, kernel=linear;, score=0.787 total time=   0.2s\n",
      "[CV 4/5; 1/24] START C=0.1, gamma=0.1, kernel=linear............................\n",
      "[CV 4/5; 1/24] END C=0.1, gamma=0.1, kernel=linear;, score=0.753 total time=   0.1s\n",
      "[CV 5/5; 1/24] START C=0.1, gamma=0.1, kernel=linear............................\n",
      "[CV 5/5; 1/24] END C=0.1, gamma=0.1, kernel=linear;, score=0.787 total time=   0.1s\n",
      "[CV 1/5; 2/24] START C=0.1, gamma=0.1, kernel=rbf...............................\n",
      "[CV 1/5; 2/24] END C=0.1, gamma=0.1, kernel=rbf;, score=0.609 total time=   0.0s\n",
      "[CV 2/5; 2/24] START C=0.1, gamma=0.1, kernel=rbf...............................\n",
      "[CV 2/5; 2/24] END C=0.1, gamma=0.1, kernel=rbf;, score=0.652 total time=   0.0s\n",
      "[CV 3/5; 2/24] START C=0.1, gamma=0.1, kernel=rbf...............................\n",
      "[CV 3/5; 2/24] END C=0.1, gamma=0.1, kernel=rbf;, score=0.657 total time=   0.0s\n",
      "[CV 4/5; 2/24] START C=0.1, gamma=0.1, kernel=rbf...............................\n",
      "[CV 4/5; 2/24] END C=0.1, gamma=0.1, kernel=rbf;, score=0.624 total time=   0.0s\n",
      "[CV 5/5; 2/24] START C=0.1, gamma=0.1, kernel=rbf...............................\n",
      "[CV 5/5; 2/24] END C=0.1, gamma=0.1, kernel=rbf;, score=0.618 total time=   0.0s\n",
      "[CV 1/5; 3/24] START C=0.1, gamma=0.01, kernel=linear...........................\n",
      "[CV 1/5; 3/24] END C=0.1, gamma=0.01, kernel=linear;, score=0.804 total time=   0.2s\n",
      "[CV 2/5; 3/24] START C=0.1, gamma=0.01, kernel=linear...........................\n",
      "[CV 2/5; 3/24] END C=0.1, gamma=0.01, kernel=linear;, score=0.803 total time=   0.1s\n",
      "[CV 3/5; 3/24] START C=0.1, gamma=0.01, kernel=linear...........................\n",
      "[CV 3/5; 3/24] END C=0.1, gamma=0.01, kernel=linear;, score=0.787 total time=   0.2s\n",
      "[CV 4/5; 3/24] START C=0.1, gamma=0.01, kernel=linear...........................\n",
      "[CV 4/5; 3/24] END C=0.1, gamma=0.01, kernel=linear;, score=0.753 total time=   0.1s\n",
      "[CV 5/5; 3/24] START C=0.1, gamma=0.01, kernel=linear...........................\n",
      "[CV 5/5; 3/24] END C=0.1, gamma=0.01, kernel=linear;, score=0.787 total time=   0.1s\n",
      "[CV 1/5; 4/24] START C=0.1, gamma=0.01, kernel=rbf..............................\n",
      "[CV 1/5; 4/24] END C=0.1, gamma=0.01, kernel=rbf;, score=0.570 total time=   0.0s\n",
      "[CV 2/5; 4/24] START C=0.1, gamma=0.01, kernel=rbf..............................\n",
      "[CV 2/5; 4/24] END C=0.1, gamma=0.01, kernel=rbf;, score=0.719 total time=   0.0s\n",
      "[CV 3/5; 4/24] START C=0.1, gamma=0.01, kernel=rbf..............................\n",
      "[CV 3/5; 4/24] END C=0.1, gamma=0.01, kernel=rbf;, score=0.685 total time=   0.0s\n",
      "[CV 4/5; 4/24] START C=0.1, gamma=0.01, kernel=rbf..............................\n",
      "[CV 4/5; 4/24] END C=0.1, gamma=0.01, kernel=rbf;, score=0.730 total time=   0.0s\n",
      "[CV 5/5; 4/24] START C=0.1, gamma=0.01, kernel=rbf..............................\n",
      "[CV 5/5; 4/24] END C=0.1, gamma=0.01, kernel=rbf;, score=0.697 total time=   0.0s\n",
      "[CV 1/5; 5/24] START C=0.1, gamma=0.001, kernel=linear..........................\n",
      "[CV 1/5; 5/24] END C=0.1, gamma=0.001, kernel=linear;, score=0.804 total time=   0.2s\n",
      "[CV 2/5; 5/24] START C=0.1, gamma=0.001, kernel=linear..........................\n",
      "[CV 2/5; 5/24] END C=0.1, gamma=0.001, kernel=linear;, score=0.803 total time=   0.1s\n",
      "[CV 3/5; 5/24] START C=0.1, gamma=0.001, kernel=linear..........................\n",
      "[CV 3/5; 5/24] END C=0.1, gamma=0.001, kernel=linear;, score=0.787 total time=   0.2s\n",
      "[CV 4/5; 5/24] START C=0.1, gamma=0.001, kernel=linear..........................\n",
      "[CV 4/5; 5/24] END C=0.1, gamma=0.001, kernel=linear;, score=0.753 total time=   0.1s\n",
      "[CV 5/5; 5/24] START C=0.1, gamma=0.001, kernel=linear..........................\n",
      "[CV 5/5; 5/24] END C=0.1, gamma=0.001, kernel=linear;, score=0.787 total time=   0.1s\n",
      "[CV 1/5; 6/24] START C=0.1, gamma=0.001, kernel=rbf.............................\n",
      "[CV 1/5; 6/24] END C=0.1, gamma=0.001, kernel=rbf;, score=0.564 total time=   0.0s\n",
      "[CV 2/5; 6/24] START C=0.1, gamma=0.001, kernel=rbf.............................\n",
      "[CV 2/5; 6/24] END C=0.1, gamma=0.001, kernel=rbf;, score=0.713 total time=   0.0s\n",
      "[CV 3/5; 6/24] START C=0.1, gamma=0.001, kernel=rbf.............................\n",
      "[CV 3/5; 6/24] END C=0.1, gamma=0.001, kernel=rbf;, score=0.691 total time=   0.0s\n",
      "[CV 4/5; 6/24] START C=0.1, gamma=0.001, kernel=rbf.............................\n",
      "[CV 4/5; 6/24] END C=0.1, gamma=0.001, kernel=rbf;, score=0.685 total time=   0.0s\n",
      "[CV 5/5; 6/24] START C=0.1, gamma=0.001, kernel=rbf.............................\n",
      "[CV 5/5; 6/24] END C=0.1, gamma=0.001, kernel=rbf;, score=0.680 total time=   0.0s\n",
      "[CV 1/5; 7/24] START C=1, gamma=0.1, kernel=linear..............................\n",
      "[CV 1/5; 7/24] END C=1, gamma=0.1, kernel=linear;, score=0.804 total time=   3.8s\n",
      "[CV 2/5; 7/24] START C=1, gamma=0.1, kernel=linear..............................\n",
      "[CV 2/5; 7/24] END C=1, gamma=0.1, kernel=linear;, score=0.803 total time=   3.1s\n",
      "[CV 3/5; 7/24] START C=1, gamma=0.1, kernel=linear..............................\n",
      "[CV 3/5; 7/24] END C=1, gamma=0.1, kernel=linear;, score=0.787 total time=   5.7s\n",
      "[CV 4/5; 7/24] START C=1, gamma=0.1, kernel=linear..............................\n",
      "[CV 4/5; 7/24] END C=1, gamma=0.1, kernel=linear;, score=0.753 total time=   5.7s\n",
      "[CV 5/5; 7/24] START C=1, gamma=0.1, kernel=linear..............................\n",
      "[CV 5/5; 7/24] END C=1, gamma=0.1, kernel=linear;, score=0.787 total time=  14.8s\n",
      "[CV 1/5; 8/24] START C=1, gamma=0.1, kernel=rbf.................................\n",
      "[CV 1/5; 8/24] END ..C=1, gamma=0.1, kernel=rbf;, score=0.737 total time=   0.0s\n",
      "[CV 2/5; 8/24] START C=1, gamma=0.1, kernel=rbf.................................\n",
      "[CV 2/5; 8/24] END ..C=1, gamma=0.1, kernel=rbf;, score=0.719 total time=   0.0s\n",
      "[CV 3/5; 8/24] START C=1, gamma=0.1, kernel=rbf.................................\n",
      "[CV 3/5; 8/24] END ..C=1, gamma=0.1, kernel=rbf;, score=0.798 total time=   0.0s\n",
      "[CV 4/5; 8/24] START C=1, gamma=0.1, kernel=rbf.................................\n",
      "[CV 4/5; 8/24] END ..C=1, gamma=0.1, kernel=rbf;, score=0.770 total time=   0.0s\n",
      "[CV 5/5; 8/24] START C=1, gamma=0.1, kernel=rbf.................................\n",
      "[CV 5/5; 8/24] END ..C=1, gamma=0.1, kernel=rbf;, score=0.787 total time=   0.0s\n",
      "[CV 1/5; 9/24] START C=1, gamma=0.01, kernel=linear.............................\n",
      "[CV 1/5; 9/24] END C=1, gamma=0.01, kernel=linear;, score=0.804 total time=   3.8s\n",
      "[CV 2/5; 9/24] START C=1, gamma=0.01, kernel=linear.............................\n",
      "[CV 2/5; 9/24] END C=1, gamma=0.01, kernel=linear;, score=0.803 total time=   3.0s\n",
      "[CV 3/5; 9/24] START C=1, gamma=0.01, kernel=linear.............................\n",
      "[CV 3/5; 9/24] END C=1, gamma=0.01, kernel=linear;, score=0.787 total time=   5.7s\n",
      "[CV 4/5; 9/24] START C=1, gamma=0.01, kernel=linear.............................\n",
      "[CV 4/5; 9/24] END C=1, gamma=0.01, kernel=linear;, score=0.753 total time=   5.6s\n",
      "[CV 5/5; 9/24] START C=1, gamma=0.01, kernel=linear.............................\n",
      "[CV 5/5; 9/24] END C=1, gamma=0.01, kernel=linear;, score=0.787 total time=  14.8s\n",
      "[CV 1/5; 10/24] START C=1, gamma=0.01, kernel=rbf...............................\n",
      "[CV 1/5; 10/24] END C=1, gamma=0.01, kernel=rbf;, score=0.631 total time=   0.0s\n",
      "[CV 2/5; 10/24] START C=1, gamma=0.01, kernel=rbf...............................\n",
      "[CV 2/5; 10/24] END C=1, gamma=0.01, kernel=rbf;, score=0.736 total time=   0.0s\n",
      "[CV 3/5; 10/24] START C=1, gamma=0.01, kernel=rbf...............................\n",
      "[CV 3/5; 10/24] END C=1, gamma=0.01, kernel=rbf;, score=0.781 total time=   0.0s\n",
      "[CV 4/5; 10/24] START C=1, gamma=0.01, kernel=rbf...............................\n",
      "[CV 4/5; 10/24] END C=1, gamma=0.01, kernel=rbf;, score=0.787 total time=   0.0s\n",
      "[CV 5/5; 10/24] START C=1, gamma=0.01, kernel=rbf...............................\n",
      "[CV 5/5; 10/24] END C=1, gamma=0.01, kernel=rbf;, score=0.787 total time=   0.0s\n",
      "[CV 1/5; 11/24] START C=1, gamma=0.001, kernel=linear...........................\n",
      "[CV 1/5; 11/24] END C=1, gamma=0.001, kernel=linear;, score=0.804 total time=   3.8s\n",
      "[CV 2/5; 11/24] START C=1, gamma=0.001, kernel=linear...........................\n",
      "[CV 2/5; 11/24] END C=1, gamma=0.001, kernel=linear;, score=0.803 total time=   3.0s\n",
      "[CV 3/5; 11/24] START C=1, gamma=0.001, kernel=linear...........................\n",
      "[CV 3/5; 11/24] END C=1, gamma=0.001, kernel=linear;, score=0.787 total time=   5.7s\n",
      "[CV 4/5; 11/24] START C=1, gamma=0.001, kernel=linear...........................\n",
      "[CV 4/5; 11/24] END C=1, gamma=0.001, kernel=linear;, score=0.753 total time=   5.8s\n",
      "[CV 5/5; 11/24] START C=1, gamma=0.001, kernel=linear...........................\n",
      "[CV 5/5; 11/24] END C=1, gamma=0.001, kernel=linear;, score=0.787 total time=  14.9s\n",
      "[CV 1/5; 12/24] START C=1, gamma=0.001, kernel=rbf..............................\n",
      "[CV 1/5; 12/24] END C=1, gamma=0.001, kernel=rbf;, score=0.575 total time=   0.0s\n",
      "[CV 2/5; 12/24] START C=1, gamma=0.001, kernel=rbf..............................\n",
      "[CV 2/5; 12/24] END C=1, gamma=0.001, kernel=rbf;, score=0.713 total time=   0.0s\n",
      "[CV 3/5; 12/24] START C=1, gamma=0.001, kernel=rbf..............................\n",
      "[CV 3/5; 12/24] END C=1, gamma=0.001, kernel=rbf;, score=0.685 total time=   0.0s\n",
      "[CV 4/5; 12/24] START C=1, gamma=0.001, kernel=rbf..............................\n",
      "[CV 4/5; 12/24] END C=1, gamma=0.001, kernel=rbf;, score=0.685 total time=   0.0s\n",
      "[CV 5/5; 12/24] START C=1, gamma=0.001, kernel=rbf..............................\n",
      "[CV 5/5; 12/24] END C=1, gamma=0.001, kernel=rbf;, score=0.697 total time=   0.0s\n",
      "[CV 1/5; 13/24] START C=10, gamma=0.1, kernel=linear............................\n",
      "[CV 1/5; 13/24] END C=10, gamma=0.1, kernel=linear;, score=0.804 total time=  25.0s\n",
      "[CV 2/5; 13/24] START C=10, gamma=0.1, kernel=linear............................\n",
      "[CV 2/5; 13/24] END C=10, gamma=0.1, kernel=linear;, score=0.803 total time=  17.8s\n",
      "[CV 3/5; 13/24] START C=10, gamma=0.1, kernel=linear............................\n",
      "[CV 3/5; 13/24] END C=10, gamma=0.1, kernel=linear;, score=0.787 total time=  17.5s\n",
      "[CV 4/5; 13/24] START C=10, gamma=0.1, kernel=linear............................\n",
      "[CV 4/5; 13/24] END C=10, gamma=0.1, kernel=linear;, score=0.753 total time=  27.3s\n",
      "[CV 5/5; 13/24] START C=10, gamma=0.1, kernel=linear............................\n",
      "[CV 5/5; 13/24] END C=10, gamma=0.1, kernel=linear;, score=0.787 total time=  41.0s\n",
      "[CV 1/5; 14/24] START C=10, gamma=0.1, kernel=rbf...............................\n",
      "[CV 1/5; 14/24] END C=10, gamma=0.1, kernel=rbf;, score=0.743 total time=   0.0s\n",
      "[CV 2/5; 14/24] START C=10, gamma=0.1, kernel=rbf...............................\n",
      "[CV 2/5; 14/24] END C=10, gamma=0.1, kernel=rbf;, score=0.713 total time=   0.0s\n",
      "[CV 3/5; 14/24] START C=10, gamma=0.1, kernel=rbf...............................\n",
      "[CV 3/5; 14/24] END C=10, gamma=0.1, kernel=rbf;, score=0.826 total time=   0.0s\n",
      "[CV 4/5; 14/24] START C=10, gamma=0.1, kernel=rbf...............................\n",
      "[CV 4/5; 14/24] END C=10, gamma=0.1, kernel=rbf;, score=0.742 total time=   0.0s\n",
      "[CV 5/5; 14/24] START C=10, gamma=0.1, kernel=rbf...............................\n",
      "[CV 5/5; 14/24] END C=10, gamma=0.1, kernel=rbf;, score=0.809 total time=   0.0s\n",
      "[CV 1/5; 15/24] START C=10, gamma=0.01, kernel=linear...........................\n",
      "[CV 1/5; 15/24] END C=10, gamma=0.01, kernel=linear;, score=0.804 total time=  25.0s\n",
      "[CV 2/5; 15/24] START C=10, gamma=0.01, kernel=linear...........................\n",
      "[CV 2/5; 15/24] END C=10, gamma=0.01, kernel=linear;, score=0.803 total time=  17.7s\n",
      "[CV 3/5; 15/24] START C=10, gamma=0.01, kernel=linear...........................\n",
      "[CV 3/5; 15/24] END C=10, gamma=0.01, kernel=linear;, score=0.787 total time=  17.6s\n",
      "[CV 4/5; 15/24] START C=10, gamma=0.01, kernel=linear...........................\n",
      "[CV 4/5; 15/24] END C=10, gamma=0.01, kernel=linear;, score=0.753 total time=  27.4s\n",
      "[CV 5/5; 15/24] START C=10, gamma=0.01, kernel=linear...........................\n",
      "[CV 5/5; 15/24] END C=10, gamma=0.01, kernel=linear;, score=0.787 total time=  41.0s\n",
      "[CV 1/5; 16/24] START C=10, gamma=0.01, kernel=rbf..............................\n",
      "[CV 1/5; 16/24] END C=10, gamma=0.01, kernel=rbf;, score=0.765 total time=   0.0s\n",
      "[CV 2/5; 16/24] START C=10, gamma=0.01, kernel=rbf..............................\n",
      "[CV 2/5; 16/24] END C=10, gamma=0.01, kernel=rbf;, score=0.730 total time=   0.0s\n",
      "[CV 3/5; 16/24] START C=10, gamma=0.01, kernel=rbf..............................\n",
      "[CV 3/5; 16/24] END C=10, gamma=0.01, kernel=rbf;, score=0.787 total time=   0.0s\n",
      "[CV 4/5; 16/24] START C=10, gamma=0.01, kernel=rbf..............................\n",
      "[CV 4/5; 16/24] END C=10, gamma=0.01, kernel=rbf;, score=0.770 total time=   0.0s\n",
      "[CV 5/5; 16/24] START C=10, gamma=0.01, kernel=rbf..............................\n",
      "[CV 5/5; 16/24] END C=10, gamma=0.01, kernel=rbf;, score=0.815 total time=   0.0s\n",
      "[CV 1/5; 17/24] START C=10, gamma=0.001, kernel=linear..........................\n",
      "[CV 1/5; 17/24] END C=10, gamma=0.001, kernel=linear;, score=0.804 total time=  25.0s\n",
      "[CV 2/5; 17/24] START C=10, gamma=0.001, kernel=linear..........................\n",
      "[CV 2/5; 17/24] END C=10, gamma=0.001, kernel=linear;, score=0.803 total time=  17.8s\n",
      "[CV 3/5; 17/24] START C=10, gamma=0.001, kernel=linear..........................\n",
      "[CV 3/5; 17/24] END C=10, gamma=0.001, kernel=linear;, score=0.787 total time=  17.4s\n",
      "[CV 4/5; 17/24] START C=10, gamma=0.001, kernel=linear..........................\n",
      "[CV 4/5; 17/24] END C=10, gamma=0.001, kernel=linear;, score=0.753 total time=  27.4s\n",
      "[CV 5/5; 17/24] START C=10, gamma=0.001, kernel=linear..........................\n",
      "[CV 5/5; 17/24] END C=10, gamma=0.001, kernel=linear;, score=0.787 total time=  41.0s\n",
      "[CV 1/5; 18/24] START C=10, gamma=0.001, kernel=rbf.............................\n",
      "[CV 1/5; 18/24] END C=10, gamma=0.001, kernel=rbf;, score=0.726 total time=   0.0s\n",
      "[CV 2/5; 18/24] START C=10, gamma=0.001, kernel=rbf.............................\n",
      "[CV 2/5; 18/24] END C=10, gamma=0.001, kernel=rbf;, score=0.764 total time=   0.0s\n",
      "[CV 3/5; 18/24] START C=10, gamma=0.001, kernel=rbf.............................\n",
      "[CV 3/5; 18/24] END C=10, gamma=0.001, kernel=rbf;, score=0.770 total time=   0.0s\n",
      "[CV 4/5; 18/24] START C=10, gamma=0.001, kernel=rbf.............................\n",
      "[CV 4/5; 18/24] END C=10, gamma=0.001, kernel=rbf;, score=0.764 total time=   0.0s\n",
      "[CV 5/5; 18/24] START C=10, gamma=0.001, kernel=rbf.............................\n",
      "[CV 5/5; 18/24] END C=10, gamma=0.001, kernel=rbf;, score=0.781 total time=   0.0s\n",
      "[CV 1/5; 19/24] START C=100, gamma=0.1, kernel=linear...........................\n",
      "[CV 1/5; 19/24] END C=100, gamma=0.1, kernel=linear;, score=0.804 total time=  40.8s\n",
      "[CV 2/5; 19/24] START C=100, gamma=0.1, kernel=linear...........................\n",
      "[CV 2/5; 19/24] END C=100, gamma=0.1, kernel=linear;, score=0.809 total time= 1.6min\n",
      "[CV 3/5; 19/24] START C=100, gamma=0.1, kernel=linear...........................\n",
      "[CV 3/5; 19/24] END C=100, gamma=0.1, kernel=linear;, score=0.775 total time= 3.0min\n",
      "[CV 4/5; 19/24] START C=100, gamma=0.1, kernel=linear...........................\n",
      "[CV 4/5; 19/24] END C=100, gamma=0.1, kernel=linear;, score=0.753 total time= 1.4min\n",
      "[CV 5/5; 19/24] START C=100, gamma=0.1, kernel=linear...........................\n",
      "[CV 5/5; 19/24] END C=100, gamma=0.1, kernel=linear;, score=0.787 total time=  20.8s\n",
      "[CV 1/5; 20/24] START C=100, gamma=0.1, kernel=rbf..............................\n",
      "[CV 1/5; 20/24] END C=100, gamma=0.1, kernel=rbf;, score=0.726 total time=   0.1s\n",
      "[CV 2/5; 20/24] START C=100, gamma=0.1, kernel=rbf..............................\n",
      "[CV 2/5; 20/24] END C=100, gamma=0.1, kernel=rbf;, score=0.697 total time=   0.1s\n",
      "[CV 3/5; 20/24] START C=100, gamma=0.1, kernel=rbf..............................\n",
      "[CV 3/5; 20/24] END C=100, gamma=0.1, kernel=rbf;, score=0.826 total time=   0.1s\n",
      "[CV 4/5; 20/24] START C=100, gamma=0.1, kernel=rbf..............................\n",
      "[CV 4/5; 20/24] END C=100, gamma=0.1, kernel=rbf;, score=0.770 total time=   0.1s\n",
      "[CV 5/5; 20/24] START C=100, gamma=0.1, kernel=rbf..............................\n",
      "[CV 5/5; 20/24] END C=100, gamma=0.1, kernel=rbf;, score=0.792 total time=   0.1s\n",
      "[CV 1/5; 21/24] START C=100, gamma=0.01, kernel=linear..........................\n",
      "[CV 1/5; 21/24] END C=100, gamma=0.01, kernel=linear;, score=0.804 total time=  40.7s\n",
      "[CV 2/5; 21/24] START C=100, gamma=0.01, kernel=linear..........................\n",
      "[CV 2/5; 21/24] END C=100, gamma=0.01, kernel=linear;, score=0.809 total time= 1.6min\n",
      "[CV 3/5; 21/24] START C=100, gamma=0.01, kernel=linear..........................\n",
      "[CV 3/5; 21/24] END C=100, gamma=0.01, kernel=linear;, score=0.775 total time= 3.0min\n",
      "[CV 4/5; 21/24] START C=100, gamma=0.01, kernel=linear..........................\n",
      "[CV 4/5; 21/24] END C=100, gamma=0.01, kernel=linear;, score=0.753 total time= 1.4min\n",
      "[CV 5/5; 21/24] START C=100, gamma=0.01, kernel=linear..........................\n",
      "[CV 5/5; 21/24] END C=100, gamma=0.01, kernel=linear;, score=0.787 total time=  20.5s\n",
      "[CV 1/5; 22/24] START C=100, gamma=0.01, kernel=rbf.............................\n",
      "[CV 1/5; 22/24] END C=100, gamma=0.01, kernel=rbf;, score=0.765 total time=   0.0s\n",
      "[CV 2/5; 22/24] START C=100, gamma=0.01, kernel=rbf.............................\n",
      "[CV 2/5; 22/24] END C=100, gamma=0.01, kernel=rbf;, score=0.702 total time=   0.0s\n",
      "[CV 3/5; 22/24] START C=100, gamma=0.01, kernel=rbf.............................\n",
      "[CV 3/5; 22/24] END C=100, gamma=0.01, kernel=rbf;, score=0.820 total time=   0.1s\n",
      "[CV 4/5; 22/24] START C=100, gamma=0.01, kernel=rbf.............................\n",
      "[CV 4/5; 22/24] END C=100, gamma=0.01, kernel=rbf;, score=0.775 total time=   0.1s\n",
      "[CV 5/5; 22/24] START C=100, gamma=0.01, kernel=rbf.............................\n",
      "[CV 5/5; 22/24] END C=100, gamma=0.01, kernel=rbf;, score=0.820 total time=   0.1s\n",
      "[CV 1/5; 23/24] START C=100, gamma=0.001, kernel=linear.........................\n",
      "[CV 1/5; 23/24] END C=100, gamma=0.001, kernel=linear;, score=0.804 total time=  40.7s\n",
      "[CV 2/5; 23/24] START C=100, gamma=0.001, kernel=linear.........................\n",
      "[CV 2/5; 23/24] END C=100, gamma=0.001, kernel=linear;, score=0.809 total time= 1.6min\n",
      "[CV 3/5; 23/24] START C=100, gamma=0.001, kernel=linear.........................\n",
      "[CV 3/5; 23/24] END C=100, gamma=0.001, kernel=linear;, score=0.775 total time= 3.0min\n",
      "[CV 4/5; 23/24] START C=100, gamma=0.001, kernel=linear.........................\n",
      "[CV 4/5; 23/24] END C=100, gamma=0.001, kernel=linear;, score=0.753 total time= 1.4min\n",
      "[CV 5/5; 23/24] START C=100, gamma=0.001, kernel=linear.........................\n",
      "[CV 5/5; 23/24] END C=100, gamma=0.001, kernel=linear;, score=0.787 total time=  20.6s\n",
      "[CV 1/5; 24/24] START C=100, gamma=0.001, kernel=rbf............................\n",
      "[CV 1/5; 24/24] END C=100, gamma=0.001, kernel=rbf;, score=0.754 total time=   0.0s\n",
      "[CV 2/5; 24/24] START C=100, gamma=0.001, kernel=rbf............................\n",
      "[CV 2/5; 24/24] END C=100, gamma=0.001, kernel=rbf;, score=0.809 total time=   0.0s\n",
      "[CV 3/5; 24/24] START C=100, gamma=0.001, kernel=rbf............................\n",
      "[CV 3/5; 24/24] END C=100, gamma=0.001, kernel=rbf;, score=0.770 total time=   0.1s\n",
      "[CV 4/5; 24/24] START C=100, gamma=0.001, kernel=rbf............................\n",
      "[CV 4/5; 24/24] END C=100, gamma=0.001, kernel=rbf;, score=0.753 total time=   0.1s\n",
      "[CV 5/5; 24/24] START C=100, gamma=0.001, kernel=rbf............................\n",
      "[CV 5/5; 24/24] END C=100, gamma=0.001, kernel=rbf;, score=0.803 total time=   0.0s\n",
      "Best Model Hyperparameters: SVC(C=0.1, gamma=0.1, kernel='linear')\n"
     ]
    }
   ],
   "source": [
    "# Import necessary libraries:\n",
    "from sklearn.svm import SVC\n",
    "from sklearn.model_selection import GridSearchCV\n",
    "\n",
    "# Extract the target variable (y_train) from the training data:\n",
    "y_train = train_data[\"Survived\"]\n",
    "\n",
    "# Choose the features to use in the model:\n",
    "features = [\"Pclass\", \"Sex\", \"SibSp\", \"Parch\", \"Embarked\", \"Fare\"]\n",
    "\n",
    "# Create the feature matrices for training and testing data using one-hot encoding:\n",
    "X_train = pd.get_dummies(train_data[features])\n",
    "X_test = pd.get_dummies(test_data[features])\n",
    "\n",
    "# Impute the missing values by using the \"Fare\" column's median:\n",
    "median_fare = X_test['Fare'].median()\n",
    "X_test['Fare'].fillna(median_fare, inplace=True)\n",
    "\n",
    "# Create a Support Vector Machine (SVM) classifier:\n",
    "cv_svm = SVC()\n",
    "\n",
    "# Define the hyperparameter grid for GridSearchCV:\n",
    "param_grid = {'C': [0.1, 1, 10, 100], 'kernel': ['linear', 'rbf'], 'gamma': [0.1, 0.01, 0.001]}\n",
    "\n",
    "# Create a GridSearchCV object with SVM classifier, hyperparameter grid:\n",
    "# (use 10-fold cross-validation, and accuracy scoring):\n",
    "grid_search = GridSearchCV(cv_svm, param_grid, cv=5, scoring='accuracy', verbose = 10)\n",
    "\n",
    "# Fit the GridSearchCV object on the training data to find the best hyperparameters:\n",
    "grid_search.fit(X_train, y_train)\n",
    "\n",
    "# Print the best hyperparameters found by GridSearchCV:\n",
    "print(\"Best Model Hyperparameters:\", grid_search.best_estimator_)\n",
    "\n",
    "# Retrieve the best model from the grid search:\n",
    "best_model = grid_search.best_estimator_\n",
    "\n",
    "# Make predictions on the test data using the best model:\n",
    "cv_svm_pred = best_model.predict(X_test)"
   ]
  },
  {
   "cell_type": "markdown",
   "id": "25a1f6ef",
   "metadata": {
    "papermill": {
     "duration": 0.099315,
     "end_time": "2023-12-14T15:15:37.861720",
     "exception": false,
     "start_time": "2023-12-14T15:15:37.762405",
     "status": "completed"
    },
    "tags": []
   },
   "source": [
    "#### <u><i>Exporting our results into a <i>CSV</i> file and submitting them</i></u>:"
   ]
  },
  {
   "cell_type": "code",
   "execution_count": 20,
   "id": "f077af99",
   "metadata": {
    "execution": {
     "iopub.execute_input": "2023-12-14T15:15:38.066926Z",
     "iopub.status.busy": "2023-12-14T15:15:38.066060Z",
     "iopub.status.idle": "2023-12-14T15:15:38.086023Z",
     "shell.execute_reply": "2023-12-14T15:15:38.084203Z"
    },
    "papermill": {
     "duration": 0.124054,
     "end_time": "2023-12-14T15:15:38.088539",
     "exception": false,
     "start_time": "2023-12-14T15:15:37.964485",
     "status": "completed"
    },
    "tags": []
   },
   "outputs": [
    {
     "name": "stdout",
     "output_type": "stream",
     "text": [
      "Your submission was successfully saved!\n"
     ]
    }
   ],
   "source": [
    "output = pd.DataFrame({'PassengerId': test_data.PassengerId, 'Survived': cv_svm_pred})\n",
    "output.to_csv('submission.csv', index=False)\n",
    "print(\"Your submission was successfully saved!\")"
   ]
  },
  {
   "cell_type": "markdown",
   "id": "da3a9858",
   "metadata": {
    "papermill": {
     "duration": 0.099104,
     "end_time": "2023-12-14T15:15:38.288940",
     "exception": false,
     "start_time": "2023-12-14T15:15:38.189836",
     "status": "completed"
    },
    "tags": []
   },
   "source": [
    "## <b><u><i>Conclusion</i></u></b>:\n",
    "In Conclusion, the simple <strong><i>Random Forest Classifier</i></strong> gave the best accuracy possible, which is: <strong><i>0.78708</i></strong>. The accuracy rose due to the use of the \"Fare\" feature, which was imputed by its median values because of some missing data in the column."
   ]
  },
  {
   "cell_type": "markdown",
   "id": "f000be9f",
   "metadata": {
    "papermill": {
     "duration": 0.099891,
     "end_time": "2023-12-14T15:15:38.489885",
     "exception": false,
     "start_time": "2023-12-14T15:15:38.389994",
     "status": "completed"
    },
    "tags": []
   },
   "source": [
    "## **Citation**\n",
    "<p> Will Cukierski. (2012). Titanic - Machine Learning from Disaster. Kaggle. https://kaggle.com/competitions/titanic </p>"
   ]
  }
 ],
 "metadata": {
  "kaggle": {
   "accelerator": "none",
   "dataSources": [
    {
     "databundleVersionId": 26502,
     "sourceId": 3136,
     "sourceType": "competition"
    }
   ],
   "dockerImageVersionId": 30615,
   "isGpuEnabled": false,
   "isInternetEnabled": false,
   "language": "python",
   "sourceType": "notebook"
  },
  "kernelspec": {
   "display_name": "Python 3",
   "language": "python",
   "name": "python3"
  },
  "language_info": {
   "codemirror_mode": {
    "name": "ipython",
    "version": 3
   },
   "file_extension": ".py",
   "mimetype": "text/x-python",
   "name": "python",
   "nbconvert_exporter": "python",
   "pygments_lexer": "ipython3",
   "version": "3.10.12"
  },
  "papermill": {
   "default_parameters": {},
   "duration": 1867.789742,
   "end_time": "2023-12-14T15:15:41.177402",
   "environment_variables": {},
   "exception": null,
   "input_path": "__notebook__.ipynb",
   "output_path": "__notebook__.ipynb",
   "parameters": {},
   "start_time": "2023-12-14T14:44:33.387660",
   "version": "2.4.0"
  }
 },
 "nbformat": 4,
 "nbformat_minor": 5
}
